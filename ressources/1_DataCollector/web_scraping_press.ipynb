{
 "cells": [
  {
   "cell_type": "code",
   "execution_count": 3,
   "id": "01e09603",
   "metadata": {},
   "outputs": [],
   "source": [
    "import requests\n",
    "import os"
   ]
  },
  {
   "cell_type": "code",
   "execution_count": 4,
   "id": "7485772e",
   "metadata": {},
   "outputs": [],
   "source": [
    "def web_scraping_images_muvra(PER, ID, year, start, end, new_folder='yes'):\n",
    "    '''\n",
    "    Allows to get all images from the Archives départementales de Corse du Sud.\n",
    "    '''\n",
    "    if new_folder == 'yes':\n",
    "        os.mkdir(f\"./A Muvra/{year}\")\n",
    "    for i in range(start, end):\n",
    "        if i < 10:\n",
    "            img_data = requests.get(f\"http://archives.isula.corsica/GEDTHOT5/PROD/PRESSE1/148PER/FRAD02A_148PER/FRAD02A_148PER_00000{PER}/FRAD02A_148PER_00000{PER}_0{ID}/FRAD02A_148PER_00000{PER}_0{ID}_0{'00'+str(i)}.jpg\").content\n",
    "        elif i > 99:\n",
    "            img_data = requests.get(f\"http://archives.isula.corsica/GEDTHOT5/PROD/PRESSE1/148PER/FRAD02A_148PER/FRAD02A_148PER_00000{PER}/FRAD02A_148PER_00000{PER}_0{ID}/FRAD02A_148PER_00000{PER}_0{ID}_0{str(i)}.jpg\").content\n",
    "        else:\n",
    "            img_data = requests.get(f\"http://archives.isula.corsica/GEDTHOT5/PROD/PRESSE1/148PER/FRAD02A_148PER/FRAD02A_148PER_00000{PER}/FRAD02A_148PER_00000{PER}_0{ID}/FRAD02A_148PER_00000{PER}_0{ID}_0{'0'+str(i)}.jpg\").content\n",
    "        with open(f'./A Muvra/{year}/page_{i}.jpeg', 'wb') as handler:\n",
    "            handler.write(img_data)"
   ]
  },
  {
   "cell_type": "code",
   "execution_count": 5,
   "id": "ab462e05",
   "metadata": {},
   "outputs": [],
   "source": [
    "web_scraping_images_muvra(PER='1', ID='5', year='1924', start=1, end=217, new_folder='yes')"
   ]
  },
  {
   "cell_type": "code",
   "execution_count": null,
   "id": "06dd63cc",
   "metadata": {},
   "outputs": [],
   "source": []
  }
 ],
 "metadata": {
  "kernelspec": {
   "display_name": "Python 3 (ipykernel)",
   "language": "python",
   "name": "python3"
  },
  "language_info": {
   "codemirror_mode": {
    "name": "ipython",
    "version": 3
   },
   "file_extension": ".py",
   "mimetype": "text/x-python",
   "name": "python",
   "nbconvert_exporter": "python",
   "pygments_lexer": "ipython3",
   "version": "3.9.13"
  },
  "vscode": {
   "interpreter": {
    "hash": "881422cff9aecbed0bf825ef73b6f918ef9b8adf90fe8fa3cddf5f7e986ba78e"
   }
  }
 },
 "nbformat": 4,
 "nbformat_minor": 5
}
