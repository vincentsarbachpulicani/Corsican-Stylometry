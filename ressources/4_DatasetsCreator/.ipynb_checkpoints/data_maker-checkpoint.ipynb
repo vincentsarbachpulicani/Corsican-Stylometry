{
 "cells": [
  {
   "cell_type": "code",
   "execution_count": 6,
   "id": "fd32c00a-51ce-45f6-987b-f31739b5b89d",
   "metadata": {},
   "outputs": [],
   "source": [
    "import pandas as pd\n",
    "import glob\n",
    "import re"
   ]
  },
  {
   "cell_type": "code",
   "execution_count": 7,
   "id": "facccec2-e0c1-4bfd-be1c-d05798c92353",
   "metadata": {},
   "outputs": [],
   "source": [
    "folders = glob.glob('./test2/TRAIN/*')"
   ]
  },
  {
   "cell_type": "code",
   "execution_count": 8,
   "id": "75e59a13-003b-461a-bf2d-b51a953843cf",
   "metadata": {},
   "outputs": [
    {
     "name": "stdout",
     "output_type": "stream",
     "text": [
      "M.AlessandridiChidazzu -> ./test2/TRAIN/M.AlessandridiChidazzu\n",
      "MartinuAppinzapalu -> ./test2/TRAIN/MartinuAppinzapalu\n",
      "PetruRocca -> ./test2/TRAIN/PetruRocca\n"
     ]
    }
   ],
   "source": [
    "corpus = []\n",
    "authors = []\n",
    "lang = []\n",
    "dic = {}\n",
    "\n",
    "for folder in folders:\n",
    "    myre = r'\\/test2\\/TRAIN\\/(.+)'\n",
    "    res = re.search(myre, folder).group(1)\n",
    "    \n",
    "    print(f\"{res} -> {folder}\")\n",
    "    \n",
    "    files = glob.glob(f\"{folder}/*\")\n",
    "    for file in files:\n",
    "        reco = '_co_'\n",
    "        \n",
    "        if re.search(reco, file):\n",
    "            authors.append(res)\n",
    "            lang.append('co')\n",
    "            with open(file, 'r') as f:\n",
    "                content = f.readlines()\n",
    "                corpus.extend(content)\n",
    "    \n",
    "    dic['texts'] = corpus\n",
    "    dic['author'] = authors\n",
    "    dic['lang'] = lang"
   ]
  },
  {
   "cell_type": "code",
   "execution_count": 9,
   "id": "28838444-f3fc-4794-a288-bf48f1b86c82",
   "metadata": {},
   "outputs": [],
   "source": [
    "df = pd.DataFrame(dic)\n",
    "df.to_csv('train.csv')"
   ]
  },
  {
   "cell_type": "code",
   "execution_count": 10,
   "id": "0df15cda-efc7-4ba6-b9e2-f2417fe380d6",
   "metadata": {},
   "outputs": [
    {
     "data": {
      "text/html": [
       "<div>\n",
       "<style scoped>\n",
       "    .dataframe tbody tr th:only-of-type {\n",
       "        vertical-align: middle;\n",
       "    }\n",
       "\n",
       "    .dataframe tbody tr th {\n",
       "        vertical-align: top;\n",
       "    }\n",
       "\n",
       "    .dataframe thead th {\n",
       "        text-align: right;\n",
       "    }\n",
       "</style>\n",
       "<table border=\"1\" class=\"dataframe\">\n",
       "  <thead>\n",
       "    <tr style=\"text-align: right;\">\n",
       "      <th></th>\n",
       "      <th>texts</th>\n",
       "      <th>author</th>\n",
       "      <th>lang</th>\n",
       "    </tr>\n",
       "  </thead>\n",
       "  <tbody>\n",
       "    <tr>\n",
       "      <th>0</th>\n",
       "      <td>bella vannina  sopra e sponde di ne mare ...</td>\n",
       "      <td>M.AlessandridiChidazzu</td>\n",
       "      <td>co</td>\n",
       "    </tr>\n",
       "    <tr>\n",
       "      <th>1</th>\n",
       "      <td>compra omi    o povera cursichella   tama...</td>\n",
       "      <td>M.AlessandridiChidazzu</td>\n",
       "      <td>co</td>\n",
       "    </tr>\n",
       "    <tr>\n",
       "      <th>2</th>\n",
       "      <td>a u me amicu a  bardini  o carissimu amed...</td>\n",
       "      <td>M.AlessandridiChidazzu</td>\n",
       "      <td>co</td>\n",
       "    </tr>\n",
       "    <tr>\n",
       "      <th>3</th>\n",
       "      <td>a i morti di pontenovu  o morti chi durmi...</td>\n",
       "      <td>M.AlessandridiChidazzu</td>\n",
       "      <td>co</td>\n",
       "    </tr>\n",
       "    <tr>\n",
       "      <th>4</th>\n",
       "      <td>pe  a nascita di un cursacchiolu  a ghiuv...</td>\n",
       "      <td>M.AlessandridiChidazzu</td>\n",
       "      <td>co</td>\n",
       "    </tr>\n",
       "    <tr>\n",
       "      <th>...</th>\n",
       "      <td>...</td>\n",
       "      <td>...</td>\n",
       "      <td>...</td>\n",
       "    </tr>\n",
       "    <tr>\n",
       "      <th>159</th>\n",
       "      <td>curtesia  in un numaru di i primi di apri...</td>\n",
       "      <td>PetruRocca</td>\n",
       "      <td>co</td>\n",
       "    </tr>\n",
       "    <tr>\n",
       "      <th>160</th>\n",
       "      <td>cioch ell e a muvra   ne beccu  ne belu  ...</td>\n",
       "      <td>PetruRocca</td>\n",
       "      <td>co</td>\n",
       "    </tr>\n",
       "    <tr>\n",
       "      <th>161</th>\n",
       "      <td>a francia separatista     giurnalisti pul...</td>\n",
       "      <td>PetruRocca</td>\n",
       "      <td>co</td>\n",
       "    </tr>\n",
       "    <tr>\n",
       "      <th>162</th>\n",
       "      <td>u salone ou l on  cause e divintatu una c...</td>\n",
       "      <td>PetruRocca</td>\n",
       "      <td>co</td>\n",
       "    </tr>\n",
       "    <tr>\n",
       "      <th>163</th>\n",
       "      <td>a conquista di la autonomia  a prova e fa...</td>\n",
       "      <td>PetruRocca</td>\n",
       "      <td>co</td>\n",
       "    </tr>\n",
       "  </tbody>\n",
       "</table>\n",
       "<p>164 rows × 3 columns</p>\n",
       "</div>"
      ],
      "text/plain": [
       "                                                 texts  \\\n",
       "0         bella vannina  sopra e sponde di ne mare ...   \n",
       "1         compra omi    o povera cursichella   tama...   \n",
       "2         a u me amicu a  bardini  o carissimu amed...   \n",
       "3         a i morti di pontenovu  o morti chi durmi...   \n",
       "4         pe  a nascita di un cursacchiolu  a ghiuv...   \n",
       "..                                                 ...   \n",
       "159       curtesia  in un numaru di i primi di apri...   \n",
       "160       cioch ell e a muvra   ne beccu  ne belu  ...   \n",
       "161       a francia separatista     giurnalisti pul...   \n",
       "162       u salone ou l on  cause e divintatu una c...   \n",
       "163       a conquista di la autonomia  a prova e fa...   \n",
       "\n",
       "                     author lang  \n",
       "0    M.AlessandridiChidazzu   co  \n",
       "1    M.AlessandridiChidazzu   co  \n",
       "2    M.AlessandridiChidazzu   co  \n",
       "3    M.AlessandridiChidazzu   co  \n",
       "4    M.AlessandridiChidazzu   co  \n",
       "..                      ...  ...  \n",
       "159              PetruRocca   co  \n",
       "160              PetruRocca   co  \n",
       "161              PetruRocca   co  \n",
       "162              PetruRocca   co  \n",
       "163              PetruRocca   co  \n",
       "\n",
       "[164 rows x 3 columns]"
      ]
     },
     "execution_count": 10,
     "metadata": {},
     "output_type": "execute_result"
    }
   ],
   "source": [
    "df"
   ]
  },
  {
   "cell_type": "code",
   "execution_count": null,
   "id": "d72307ec-407e-4532-b7a3-5658f929fd22",
   "metadata": {},
   "outputs": [],
   "source": []
  },
  {
   "cell_type": "code",
   "execution_count": null,
   "id": "cec5adf8-c291-4138-8119-62081fbd7869",
   "metadata": {},
   "outputs": [],
   "source": []
  }
 ],
 "metadata": {
  "kernelspec": {
   "display_name": "Python 3 (ipykernel)",
   "language": "python",
   "name": "python3"
  },
  "language_info": {
   "codemirror_mode": {
    "name": "ipython",
    "version": 3
   },
   "file_extension": ".py",
   "mimetype": "text/x-python",
   "name": "python",
   "nbconvert_exporter": "python",
   "pygments_lexer": "ipython3",
   "version": "3.9.13"
  }
 },
 "nbformat": 4,
 "nbformat_minor": 5
}
