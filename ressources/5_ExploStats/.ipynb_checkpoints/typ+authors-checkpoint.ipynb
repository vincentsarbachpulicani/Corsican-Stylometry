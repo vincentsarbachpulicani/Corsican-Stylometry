{
 "cells": [
  {
   "cell_type": "code",
   "execution_count": 2,
   "id": "ce6ed328-5096-4a7d-9616-924183fb4999",
   "metadata": {},
   "outputs": [],
   "source": [
    "import glob\n",
    "import os\n",
    "import bs4 as bs\n",
    "import re\n",
    "import string\n",
    "import nltk\n",
    "from nltk.tokenize import RegexpTokenizer\n",
    "import matplotlib.pyplot as plt\n",
    "import math\n",
    "import unidecode\n",
    "import pandas as pd"
   ]
  },
  {
   "cell_type": "code",
   "execution_count": 3,
   "id": "9d9ef3b8-3dcc-4d61-87fc-64276910578f",
   "metadata": {},
   "outputs": [],
   "source": [
    "os.chdir(\"./xml/\")"
   ]
  },
  {
   "cell_type": "code",
   "execution_count": 4,
   "id": "f0a19253-1fd6-40d9-a318-3da4def70c93",
   "metadata": {},
   "outputs": [],
   "source": [
    "xml_list = glob.glob(\"*.xml\")"
   ]
  },
  {
   "cell_type": "code",
   "execution_count": 5,
   "id": "5ed2b9a5-e00b-457c-84b7-62f0b76779e6",
   "metadata": {},
   "outputs": [
    {
     "data": {
      "text/plain": [
       "298"
      ]
     },
     "execution_count": 5,
     "metadata": {},
     "output_type": "execute_result"
    }
   ],
   "source": [
    "len(xml_list)"
   ]
  },
  {
   "cell_type": "markdown",
   "id": "9b025ae9-0cc8-40b2-9c47-51018c909846",
   "metadata": {},
   "source": [
    "    1. Typologie des articles"
   ]
  },
  {
   "cell_type": "code",
   "execution_count": 6,
   "id": "7a428121-8e3b-4e84-b82f-d0cec93aee44",
   "metadata": {},
   "outputs": [],
   "source": [
    "def get_all_text_to_txt(typ, soup):\n",
    "    list_t = []\n",
    "    for tag in soup.find_all('rubrique', {\"typ\": typ}):\n",
    "        t = tag.find('texte').get_text()\n",
    "        list_t.append(t) \n",
    "    return list_t"
   ]
  },
  {
   "cell_type": "code",
   "execution_count": 7,
   "id": "286b0fb8-bd6d-4d59-89b5-c182b1fca098",
   "metadata": {},
   "outputs": [],
   "source": [
    "liste_typ = ['art', 'poe', 'his', 'cha', 'trd', 'let', 'the', 'feu', 'div']"
   ]
  },
  {
   "cell_type": "code",
   "execution_count": 8,
   "id": "e6000b90-4ad5-48fd-abb9-3254095f2497",
   "metadata": {},
   "outputs": [],
   "source": [
    "dic_type = {}\n",
    "\n",
    "for typ in liste_typ:\n",
    "    n = 0\n",
    "    for file in xml_list: \n",
    "        with open(file, 'r') as f:\n",
    "            content = f.read()\n",
    "        soup = bs.BeautifulSoup(content, 'xml')\n",
    "        for tag in soup.find_all('rubrique', {\"typ\": typ}):\n",
    "            n += 1\n",
    "    dic_type[typ] = n"
   ]
  },
  {
   "cell_type": "code",
   "execution_count": 9,
   "id": "671f16fd-0777-4412-9c70-22a848dbcd9f",
   "metadata": {},
   "outputs": [],
   "source": [
    "dic_len = {}\n",
    "\n",
    "\n",
    "for typ in liste_typ:\n",
    "    liste_t = []\n",
    "    for file in xml_list:\n",
    "        texts = []\n",
    "        with open(file, 'r') as f:\n",
    "            content = f.read()\n",
    "\n",
    "        soup = bs.BeautifulSoup(content, 'xml')\n",
    "        for tag in soup.find_all('rubrique', {\"typ\": typ}):\n",
    "            t = tag.find('texte').get_text()\n",
    "            texts.append(t)\n",
    "    \n",
    "        \n",
    "        liste_t.extend(texts)\n",
    "             \n",
    "    corpus = ' '.join(liste_t)\n",
    "    corpus = re.sub(r'\\n', '', corpus)\n",
    "    corpus = corpus.lower()\n",
    "    corpus = unidecode.unidecode(corpus)\n",
    "\n",
    "    tokenizer = RegexpTokenizer(r'\\w+')\n",
    "    tokens = tokenizer.tokenize(corpus)\n",
    "        \n",
    "    dic_len[typ] = len(tokens)"
   ]
  },
  {
   "cell_type": "code",
   "execution_count": 10,
   "id": "19899bb2-42d9-4c13-aa90-88470d0ace2f",
   "metadata": {},
   "outputs": [
    {
     "data": {
      "text/plain": [
       "{'art': 766965,\n",
       " 'poe': 217445,\n",
       " 'his': 79782,\n",
       " 'cha': 4983,\n",
       " 'trd': 27861,\n",
       " 'let': 107953,\n",
       " 'the': 57881,\n",
       " 'feu': 152794,\n",
       " 'div': 200611}"
      ]
     },
     "execution_count": 10,
     "metadata": {},
     "output_type": "execute_result"
    }
   ],
   "source": [
    "dic_len"
   ]
  },
  {
   "cell_type": "code",
   "execution_count": 11,
   "id": "4e7ab50b-d1f9-4346-a4a6-48a5d00870f5",
   "metadata": {},
   "outputs": [
    {
     "data": {
      "text/plain": [
       "{'art': 1084,\n",
       " 'poe': 870,\n",
       " 'his': 124,\n",
       " 'cha': 22,\n",
       " 'trd': 21,\n",
       " 'let': 191,\n",
       " 'the': 48,\n",
       " 'feu': 186,\n",
       " 'div': 238}"
      ]
     },
     "execution_count": 11,
     "metadata": {},
     "output_type": "execute_result"
    }
   ],
   "source": [
    "dic_type"
   ]
  },
  {
   "cell_type": "code",
   "execution_count": 12,
   "id": "0f8d656c-55ce-4105-a6c6-65cf81d97b43",
   "metadata": {},
   "outputs": [],
   "source": [
    "full_dic = {}\n",
    "\n",
    "\n",
    "for t in liste_typ:\n",
    "    la = []\n",
    "    la.append(dic_len[t])\n",
    "    la.append(dic_type[t])\n",
    "\n",
    "    full_dic[t] = la"
   ]
  },
  {
   "cell_type": "code",
   "execution_count": 13,
   "id": "66055f17-6c1e-4fe6-a9e2-5054256e6c58",
   "metadata": {},
   "outputs": [
    {
     "data": {
      "text/plain": [
       "{'art': [766965, 1084],\n",
       " 'poe': [217445, 870],\n",
       " 'his': [79782, 124],\n",
       " 'cha': [4983, 22],\n",
       " 'trd': [27861, 21],\n",
       " 'let': [107953, 191],\n",
       " 'the': [57881, 48],\n",
       " 'feu': [152794, 186],\n",
       " 'div': [200611, 238]}"
      ]
     },
     "execution_count": 13,
     "metadata": {},
     "output_type": "execute_result"
    }
   ],
   "source": [
    "full_dic"
   ]
  },
  {
   "cell_type": "code",
   "execution_count": 14,
   "id": "3872e0ae-2587-404f-8a3c-210e2d059104",
   "metadata": {},
   "outputs": [],
   "source": [
    "df = pd.DataFrame(full_dic, index=['words', 'sections']).T"
   ]
  },
  {
   "cell_type": "code",
   "execution_count": 15,
   "id": "6c6de706-4697-4bbb-8c33-66115520c28a",
   "metadata": {},
   "outputs": [
    {
     "data": {
      "text/html": [
       "<div>\n",
       "<style scoped>\n",
       "    .dataframe tbody tr th:only-of-type {\n",
       "        vertical-align: middle;\n",
       "    }\n",
       "\n",
       "    .dataframe tbody tr th {\n",
       "        vertical-align: top;\n",
       "    }\n",
       "\n",
       "    .dataframe thead th {\n",
       "        text-align: right;\n",
       "    }\n",
       "</style>\n",
       "<table border=\"1\" class=\"dataframe\">\n",
       "  <thead>\n",
       "    <tr style=\"text-align: right;\">\n",
       "      <th></th>\n",
       "      <th>art</th>\n",
       "      <th>poe</th>\n",
       "      <th>his</th>\n",
       "      <th>cha</th>\n",
       "      <th>trd</th>\n",
       "      <th>let</th>\n",
       "      <th>the</th>\n",
       "      <th>feu</th>\n",
       "      <th>div</th>\n",
       "    </tr>\n",
       "  </thead>\n",
       "  <tbody>\n",
       "    <tr>\n",
       "      <th>words</th>\n",
       "      <td>766965</td>\n",
       "      <td>217445</td>\n",
       "      <td>79782</td>\n",
       "      <td>4983</td>\n",
       "      <td>27861</td>\n",
       "      <td>107953</td>\n",
       "      <td>57881</td>\n",
       "      <td>152794</td>\n",
       "      <td>200611</td>\n",
       "    </tr>\n",
       "    <tr>\n",
       "      <th>sections</th>\n",
       "      <td>1084</td>\n",
       "      <td>870</td>\n",
       "      <td>124</td>\n",
       "      <td>22</td>\n",
       "      <td>21</td>\n",
       "      <td>191</td>\n",
       "      <td>48</td>\n",
       "      <td>186</td>\n",
       "      <td>238</td>\n",
       "    </tr>\n",
       "  </tbody>\n",
       "</table>\n",
       "</div>"
      ],
      "text/plain": [
       "             art     poe    his   cha    trd     let    the     feu     div\n",
       "words     766965  217445  79782  4983  27861  107953  57881  152794  200611\n",
       "sections    1084     870    124    22     21     191     48     186     238"
      ]
     },
     "execution_count": 15,
     "metadata": {},
     "output_type": "execute_result"
    }
   ],
   "source": [
    "df.T"
   ]
  },
  {
   "cell_type": "code",
   "execution_count": 89,
   "id": "844f0163-03f2-476f-a6de-ee42ad8195f5",
   "metadata": {},
   "outputs": [
    {
     "data": {
      "image/png": "[encoded data removed]",
      "text/plain": [
       "<Figure size 640x480 with 2 Axes>"
      ]
     },
     "metadata": {},
     "output_type": "display_data"
    }
   ],
   "source": [
    "fig = plt.figure() # Create matplotlib figure\n",
    "\n",
    "ax = fig.add_subplot(111) # Create matplotlib axes\n",
    "ax2 = ax.twinx() # Create another axes that shares the same x-axis as ax.\n",
    "\n",
    "width = 0.2\n",
    "\n",
    "df['words'].plot(kind='bar', color='red', ax=ax, width=width, position=1)\n",
    "df['sections'].plot(kind='bar', color='blue', ax=ax2, width=width, position=0)\n",
    "\n",
    "ax.set_ylabel('Words', fontname='Lato', color='red', fontsize=12)\n",
    "ax2.set_ylabel('Sections', fontname='Lato', color='blue', fontsize=12)\n",
    "ax.set_xlabel('Types', fontname='Lato', fontsize=12)\n",
    "\n",
    "ax.tick_params(axis='y', colors='red')\n",
    "ax2.tick_params(axis='y', colors='blue')\n",
    "\n",
    "plt.show()"
   ]
  },
  {
   "cell_type": "code",
   "execution_count": null,
   "id": "5e76c8c9-9814-4317-afcc-634a3b8ef984",
   "metadata": {},
   "outputs": [],
   "source": []
  },
  {
   "cell_type": "code",
   "execution_count": 52,
   "id": "2655d438-9c56-42f9-a05d-11aa831a9737",
   "metadata": {},
   "outputs": [],
   "source": [
    "x = 0\n",
    "\n",
    "for i in dic_len.values():\n",
    "    x += i"
   ]
  },
  {
   "cell_type": "code",
   "execution_count": 132,
   "id": "90ab6df7-88b3-443e-a746-3c0052012c69",
   "metadata": {},
   "outputs": [],
   "source": [
    "typp = []\n",
    "\n",
    "for i in dic_type.values():\n",
    "    typp.append(i)"
   ]
  },
  {
   "cell_type": "code",
   "execution_count": 55,
   "id": "b325beff-0442-4e2e-8904-9b07d34c0e00",
   "metadata": {},
   "outputs": [
    {
     "name": "stdout",
     "output_type": "stream",
     "text": [
      "45.3964021910532\n",
      "14.036564237696075\n",
      "4.897125798821479\n",
      "0.3248454228566686\n",
      "1.8157627188978338\n",
      "6.8705131131214205\n",
      "3.7573138849697068\n",
      "9.88787969956013\n",
      "13.013592933023489\n"
     ]
    }
   ],
   "source": [
    "for i in dic_len.values():\n",
    "    r = (i / x) * 100\n",
    "    print(r)"
   ]
  },
  {
   "cell_type": "code",
   "execution_count": 183,
   "id": "c19dd838-fc24-4c60-87a2-7f4a82872f5d",
   "metadata": {},
   "outputs": [],
   "source": [
    "l = [45, 14, 5, 1, 2, 7, 4, 10, 13]"
   ]
  },
  {
   "cell_type": "code",
   "execution_count": 166,
   "id": "b6718a15-f5fc-4177-ba57-d4202b710df3",
   "metadata": {},
   "outputs": [],
   "source": [
    "z = []\n",
    "for i in l:\n",
    "    i = i * 10\n",
    "    z.append(i)"
   ]
  },
  {
   "cell_type": "code",
   "execution_count": 144,
   "id": "4925184b-59af-4d23-a12c-7c546152ec44",
   "metadata": {},
   "outputs": [
    {
     "data": {
      "text/plain": [
       "<matplotlib.collections.PathCollection at 0x7f0011da8ac0>"
      ]
     },
     "execution_count": 151,
     "metadata": {},
     "output_type": "execute_result"
    }
   ],
   "source": [
    "l"
   ]
  },
  {
   "cell_type": "code",
   "execution_count": 147,
   "id": "4904f7df-e63f-4db5-93a1-bda498d2a4ed",
   "metadata": {},
   "outputs": [
    {
     "data": {
      "image/png": "[encoded data removed]",
      "text/plain": [
       "<Figure size 640x480 with 1 Axes>"
      ]
     },
     "metadata": {},
     "output_type": "display_data"
    }
   ],
   "source": [
    "scatter = plt.scatter(dic_type.keys(), dic_type.values(), marker='o', s=l)\n",
    "plt.title(\"Frequency and distribution of the articles typology\", fontname=\"Lato\")\n",
    "plt.ylabel(\"freq\", fontname=\"Lato\")\n",
    "plt.xlabel(\"rank\", fontname=\"Lato\")\n",
    "\n",
    "legend1 = plt.legend(*scatter.legend_elements(\"sizes\"))\n",
    "\n",
    "plt.show()"
   ]
  },
  {
   "cell_type": "code",
   "execution_count": 126,
   "id": "f3e9b552-d6b7-4a69-92c2-417de1e12fc7",
   "metadata": {},
   "outputs": [],
   "source": [
    "i = dic_type.keys()"
   ]
  },
  {
   "cell_type": "code",
   "execution_count": 128,
   "id": "7cb070d1-2f09-4191-9ff7-dac6f10c2e68",
   "metadata": {},
   "outputs": [
    {
     "ename": "TypeError",
     "evalue": "'dict_keys' object is not subscriptable",
     "output_type": "error",
     "traceback": [
      "\u001b[0;31m---------------------------------------------------------------------------\u001b[0m",
      "\u001b[0;31mTypeError\u001b[0m                                 Traceback (most recent call last)",
      "Cell \u001b[0;32mIn[128], line 1\u001b[0m\n\u001b[0;32m----> 1\u001b[0m \u001b[43mi\u001b[49m\u001b[43m[\u001b[49m\u001b[38;5;241;43m1\u001b[39;49m\u001b[43m]\u001b[49m\n",
      "\u001b[0;31mTypeError\u001b[0m: 'dict_keys' object is not subscriptable"
     ]
    }
   ],
   "source": [
    "i[1]"
   ]
  },
  {
   "cell_type": "code",
   "execution_count": null,
   "id": "1c6c07b2-d578-4314-afb9-3187a293cf4c",
   "metadata": {},
   "outputs": [],
   "source": []
  },
  {
   "cell_type": "code",
   "execution_count": 131,
   "id": "b25ab2c4-3b0f-4be6-9d4e-7c2e7011ea50",
   "metadata": {},
   "outputs": [
    {
     "name": "stdout",
     "output_type": "stream",
     "text": [
      "['art', 'poe', 'his', 'cha', 'trd', 'let', 'the', 'feu', 'div']\n"
     ]
    }
   ],
   "source": [
    "print(liste_typ)"
   ]
  },
  {
   "cell_type": "code",
   "execution_count": null,
   "id": "895f63aa-d40b-4979-bdf1-c337faa7e54e",
   "metadata": {},
   "outputs": [],
   "source": []
  },
  {
   "cell_type": "code",
   "execution_count": 195,
   "id": "2d6e785b-9f9d-432a-9bfd-fe5a0410b79a",
   "metadata": {},
   "outputs": [
    {
     "data": {
      "image/png": "[encoded data removed]",
      "text/plain": [
       "<Figure size 640x480 with 1 Axes>"
      ]
     },
     "metadata": {},
     "output_type": "display_data"
    }
   ],
   "source": [
    "lo = plt.scatter(liste_typ[0], typp[0], s=z[0], marker='o', c='b')\n",
    "ll = plt.scatter(liste_typ[1], typp[1], s=z[1], marker='o', c='b')\n",
    "l  = plt.scatter(liste_typ[2], typp[2], s=z[2], marker='o', c='b')\n",
    "a  = plt.scatter(liste_typ[3], typp[3], s=z[3], marker='o', c='b')\n",
    "h  = plt.scatter(liste_typ[4], typp[4], s=z[4], marker='o', c='b')\n",
    "hh = plt.scatter(liste_typ[5], typp[5], s=z[5], marker='o', c='b')\n",
    "ho = plt.scatter(liste_typ[6], typp[6], s=z[6], marker='o', c='b')\n",
    "hp = plt.scatter(liste_typ[7], typp[7], s=z[7], marker='o', c='b')\n",
    "hm = plt.scatter(liste_typ[8], typp[8], s=z[8], marker='o', c='b')\n",
    "\n",
    "plt.title(\"Distribution of the articles' typology and word count share\", fontname=\"Lato\")\n",
    "\n",
    "plt.legend((a, h, ho, l, hh, hp, hm, ll, lo),\n",
    "           ('1', '2', '4', '5', '7', '10', '13', '14', '45'),\n",
    "           scatterpoints=1,\n",
    "           loc='upper right',\n",
    "           ncol=2,\n",
    "           title=\"Word count share (%)\",\n",
    "           fontsize=8)\n",
    "\n",
    "plt.show()"
   ]
  },
  {
   "cell_type": "code",
   "execution_count": null,
   "id": "7311e76e-040e-4545-8b48-4fd37e603268",
   "metadata": {},
   "outputs": [],
   "source": []
  },
  {
   "cell_type": "code",
   "execution_count": 179,
   "id": "042d58b0-bece-4d07-8877-9cc394708018",
   "metadata": {},
   "outputs": [
    {
     "data": {
      "text/plain": [
       "[1, 2, 4, 5, 7, 10, 13, 14, 45]"
      ]
     },
     "execution_count": 179,
     "metadata": {},
     "output_type": "execute_result"
    }
   ],
   "source": [
    "sor = sorted(l)\n",
    "sor"
   ]
  },
  {
   "cell_type": "code",
   "execution_count": 184,
   "id": "fa19501b-7d04-483f-aad7-aaccd9b63eb5",
   "metadata": {},
   "outputs": [
    {
     "data": {
      "text/plain": [
       "[45, 14, 5, 1, 2, 7, 4, 10, 13]"
      ]
     },
     "execution_count": 184,
     "metadata": {},
     "output_type": "execute_result"
    }
   ],
   "source": [
    "l"
   ]
  },
  {
   "cell_type": "code",
   "execution_count": null,
   "id": "bde622b7-5a2f-46dc-b857-29df644c2a0a",
   "metadata": {},
   "outputs": [],
   "source": []
  }
 ],
 "metadata": {
  "kernelspec": {
   "display_name": "Python 3 (ipykernel)",
   "language": "python",
   "name": "python3"
  },
  "language_info": {
   "codemirror_mode": {
    "name": "ipython",
    "version": 3
   },
   "file_extension": ".py",
   "mimetype": "text/x-python",
   "name": "python",
   "nbconvert_exporter": "python",
   "pygments_lexer": "ipython3",
   "version": "3.9.13"
  }
 },
 "nbformat": 4,
 "nbformat_minor": 5
}
