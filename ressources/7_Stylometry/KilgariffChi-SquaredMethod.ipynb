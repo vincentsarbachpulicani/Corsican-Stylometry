{
 "cells": [
  {
   "cell_type": "code",
   "execution_count": 1,
   "id": "65140ad4-d00f-499d-b836-d0d922a3f68a",
   "metadata": {},
   "outputs": [],
   "source": [
    "import glob\n",
    "from nltk.tokenize import RegexpTokenizer\n",
    "from nltk import FreqDist\n",
    "import re"
   ]
  },
  {
   "cell_type": "markdown",
   "id": "24b41b1e-ce52-4904-b66d-0a655b95274a",
   "metadata": {},
   "source": [
    "### Preprocessing"
   ]
  },
  {
   "cell_type": "code",
   "execution_count": 3,
   "id": "97f5231e-37b4-435e-8de6-cbff47c80b02",
   "metadata": {},
   "outputs": [],
   "source": [
    "authors = [\"M._Alessandri_di_Chidazzu\", \"Petru_Rocca\", \"Martinu_Appinzapalu\"]\n",
    "disputed = ['P._di_B.']"
   ]
  },
  {
   "cell_type": "code",
   "execution_count": 4,
   "id": "e9d34c31-02de-447d-993a-9778437a82a4",
   "metadata": {},
   "outputs": [],
   "source": [
    "names = authors + disputed"
   ]
  },
  {
   "cell_type": "code",
   "execution_count": 5,
   "id": "ba8c1b18-d9dc-474e-b05a-c5555686e160",
   "metadata": {},
   "outputs": [],
   "source": [
    "corpus = {}\n",
    "\n",
    "for name in names:\n",
    "    files = glob.glob(f\"./tests/{name}/*.txt\")\n",
    "    \n",
    "    text = []\n",
    "    for file in files:\n",
    "        if re.search(r\"_co_\", file):\n",
    "            with open(file, 'r') as f:\n",
    "                content = f.readlines()\n",
    "            text.extend(content)\n",
    "    \n",
    "    tokenizer = RegexpTokenizer('\\w+')\n",
    "    text = ' '.join(text)\n",
    "    token = tokenizer.tokenize(text)\n",
    "    \n",
    "    corpus[name] = token"
   ]
  },
  {
   "cell_type": "markdown",
   "id": "3fe72966-6ebf-4e27-8ec3-ab4d25beb868",
   "metadata": {},
   "source": [
    "### Computing"
   ]
  },
  {
   "cell_type": "code",
   "execution_count": 6,
   "id": "161decd8-0b20-4513-895e-203519054132",
   "metadata": {},
   "outputs": [
    {
     "name": "stdout",
     "output_type": "stream",
     "text": [
      "The Chi-squared statistic for candidate M._Alessandri_di_Chidazzu is 4122.627001466433\n",
      "The Chi-squared statistic for candidate Petru_Rocca is 1548.1498346557494\n",
      "The Chi-squared statistic for candidate Martinu_Appinzapalu is 3764.446135432509\n"
     ]
    }
   ],
   "source": [
    "for author in authors:\n",
    "    joint_corpus = (corpus[author] +\n",
    "                    corpus[\"P._di_B.\"])\n",
    "    joint_freq_dist = FreqDist(joint_corpus)\n",
    "    most_common = list(joint_freq_dist.most_common(500))\n",
    "\n",
    "    author_share = (len(corpus[author])\n",
    "                    / len(joint_corpus))\n",
    "    \n",
    "    joint_corpus = (corpus[author] +\n",
    "                    corpus[\"P._di_B.\"])\n",
    "    joint_freq_dist = FreqDist(joint_corpus)\n",
    "    most_common = list(joint_freq_dist.most_common(500))\n",
    "    \n",
    "    author_share = (len(corpus[author])\n",
    "                    / len(joint_corpus))\n",
    "    \n",
    "    chisquared = 0\n",
    "    for word,joint_count in most_common:\n",
    "\n",
    "        author_count = corpus[author].count(word)\n",
    "        disputed_count = corpus[\"P._di_B.\"].count(word)\n",
    "\n",
    "        expected_author_count = joint_count * author_share\n",
    "        expected_disputed_count = joint_count * (1-author_share)\n",
    "        \n",
    "        if expected_author_count != 0 and expected_disputed_count != 0:\n",
    "\n",
    "            chisquared += ((author_count-expected_author_count) *\n",
    "                           (author_count-expected_author_count) /\n",
    "                           expected_author_count)\n",
    "\n",
    "            chisquared += ((disputed_count-expected_disputed_count) *\n",
    "                           (disputed_count-expected_disputed_count)\n",
    "                           / expected_disputed_count)\n",
    "\n",
    "    print(\"The Chi-squared statistic for candidate\", author, \"is\", chisquared)"
   ]
  },
  {
   "cell_type": "code",
   "execution_count": null,
   "id": "3169506d-ef86-4961-9c7a-14474607dd06",
   "metadata": {},
   "outputs": [],
   "source": []
  },
  {
   "cell_type": "code",
   "execution_count": null,
   "id": "1a2df4b9-a9fe-471b-8e14-f0bbe3fd230d",
   "metadata": {},
   "outputs": [],
   "source": []
  }
 ],
 "metadata": {
  "kernelspec": {
   "display_name": "Python 3 (ipykernel)",
   "language": "python",
   "name": "python3"
  },
  "language_info": {
   "codemirror_mode": {
    "name": "ipython",
    "version": 3
   },
   "file_extension": ".py",
   "mimetype": "text/x-python",
   "name": "python",
   "nbconvert_exporter": "python",
   "pygments_lexer": "ipython3",
   "version": "3.9.13"
  }
 },
 "nbformat": 4,
 "nbformat_minor": 5
}
