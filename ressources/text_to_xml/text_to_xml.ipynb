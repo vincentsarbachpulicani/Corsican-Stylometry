{
 "cells": [
  {
   "cell_type": "code",
   "execution_count": 34,
   "id": "b2c431ef",
   "metadata": {},
   "outputs": [],
   "source": [
    "import xml.etree.ElementTree as ET\n",
    "import pandas as pd\n",
    "from langdetect import detect\n",
    "import os\n",
    "import re\n",
    "from liste_auteurs import list_aut_str\n",
    "from lxml import etree\n",
    "import bs4 as bs"
   ]
  },
  {
   "cell_type": "code",
   "execution_count": 24,
   "id": "48778bc9",
   "metadata": {},
   "outputs": [
    {
     "name": "stdout",
     "output_type": "stream",
     "text": [
      "Requirement already satisfied: beautifulsoup4 in /home/vsp/miniconda3/envs/hn/lib/python3.10/site-packages (4.10.0)\n",
      "Requirement already satisfied: soupsieve>1.2 in /home/vsp/miniconda3/envs/hn/lib/python3.10/site-packages (from beautifulsoup4) (2.3.1)\n"
     ]
    }
   ],
   "source": [
    "!pip install beautifulsoup4"
   ]
  },
  {
   "cell_type": "code",
   "execution_count": 2,
   "id": "df2fb5aa",
   "metadata": {},
   "outputs": [],
   "source": [
    "list_files = os.listdir()\n",
    "list_txt_files = []\n",
    "\n",
    "for i in list_files:\n",
    "    if i.endswith(\".txt\"):\n",
    "        list_txt_files.append(i)"
   ]
  },
  {
   "cell_type": "code",
   "execution_count": 3,
   "id": "b79c2418",
   "metadata": {},
   "outputs": [],
   "source": [
    "for file in list_txt_files:\n",
    "    with open(file, 'r') as f :\n",
    "        t = f.readlines()\n",
    "    t = ''.join(t)\n",
    "    t = re.sub(r\"-\\n\", r\"t\", t)\n",
    "    t = re.sub(r\"\\n\", r\" \", t)\n",
    "    t = re.sub(r\" <section> \", r\"\\n\", t)\n",
    "    t = re.sub(r\"<section> \", r\"\", t)\n",
    "    with open(file, 'w') as f :\n",
    "        f.write(t)"
   ]
  },
  {
   "cell_type": "code",
   "execution_count": 4,
   "id": "edb854d2",
   "metadata": {},
   "outputs": [],
   "source": [
    "for file in list_txt_files:\n",
    "    with open(file, \"r\") as f:\n",
    "        text = f.readlines()\n",
    "    lang = []\n",
    "    for i in text:\n",
    "        l = detect(i)\n",
    "        if l == 'ro' or l == 'ca':\n",
    "            lang.append('co')\n",
    "        elif l == 'it':\n",
    "            test = i.split()\n",
    "            count_u = test.count('u')\n",
    "            count_il = test.count('il')\n",
    "            if count_il > count_u:\n",
    "                lang.append(l)\n",
    "            else:\n",
    "                lang.append('co')\n",
    "        else:\n",
    "            lang.append(l)\n",
    "    \n",
    "    \n",
    "    aut = []\n",
    "    for t in text:\n",
    "        t = re.sub(r\"’\", r\"'\",t)\n",
    "        dic = {}\n",
    "        for i in list_aut_str:\n",
    "            if i in t[-70:]:\n",
    "                dic[i] = 1\n",
    "            else:\n",
    "                dic[i] = 0\n",
    "        if 1 in dic.values():\n",
    "            aut.append(list(dic.keys())[list(dic.values()).index(1)])\n",
    "        else:\n",
    "            aut.append('Inconnu')\n",
    "\n",
    "    typ = []\n",
    "    list_rub = ['art','let','poe','div','the','cha','feu','his']\n",
    "    for t in text:\n",
    "        dic = {}\n",
    "        for i in list_rub:\n",
    "            if i in t[-5:]:\n",
    "                dic[i] = 1\n",
    "            else:\n",
    "                dic[i] = 0\n",
    "        if 1 in dic.values():\n",
    "            typ.append(list(dic.keys())[list(dic.values()).index(1)])\n",
    "        else:\n",
    "            typ.append('Non défini')\n",
    "            \n",
    "    df = pd.DataFrame([text,lang,aut,typ]).T\n",
    "    df.columns = ['texte','langue','auteur','type']\n",
    "    xml = df.to_xml()\n",
    "    myre = '(bpt\\w{7,10})'\n",
    "    if re.search(myre, file):\n",
    "        nfile = re.search(myre, file).group(1)\n",
    "    with open(nfile + '.xml', \"w+\") as f:\n",
    "        f.write(xml)"
   ]
  },
  {
   "cell_type": "code",
   "execution_count": 5,
   "id": "589e11e8",
   "metadata": {},
   "outputs": [],
   "source": [
    "list_files = os.listdir()\n",
    "list_xml_files = []\n",
    "\n",
    "for i in list_files:\n",
    "    if i.endswith(\".xml\"):\n",
    "        list_xml_files.append(i)"
   ]
  },
  {
   "cell_type": "code",
   "execution_count": 6,
   "id": "b14b8ff4",
   "metadata": {},
   "outputs": [],
   "source": [
    "for file in list_xml_files:\n",
    "    xml_file = ET.parse(file)\n",
    "    rootElement = xml_file.getroot()\n",
    "    for element in rootElement.iter('data'):\n",
    "        element.tag = 'revue'\n",
    "    for element in rootElement.iter('row'):\n",
    "        element.tag = 'rubrique'\n",
    "    item = rootElement.find(\"rubrique\")\n",
    "    for element in item.iter('rubrique'):\n",
    "        element.tag = 'manchette'\n",
    "    xml_file.write(file)\n"
   ]
  },
  {
   "cell_type": "code",
   "execution_count": 8,
   "id": "882940c3",
   "metadata": {},
   "outputs": [],
   "source": [
    "for i in list_txt_files:\n",
    "    os.remove(i)"
   ]
  },
  {
   "cell_type": "code",
   "execution_count": 67,
   "id": "73552df3",
   "metadata": {},
   "outputs": [],
   "source": [
    "for file in list_xml_files: \n",
    "    with open(file, 'r') as f:\n",
    "        content = f.read()\n",
    "    soup = bs.BeautifulSoup(content,'xml')\n",
    "    for tag in soup.find_all(\"langue\"):\n",
    "        tag['lan'] = tag.get_text()\n",
    "    for tag in soup.find_all(\"type\"):\n",
    "        tag.parent['typ'] = tag.get_text()\n",
    "    with open(file, 'w') as f:\n",
    "        f.write(soup.prettify())"
   ]
  },
  {
   "cell_type": "markdown",
   "id": "0e1f5dec",
   "metadata": {},
   "source": [
    "-----"
   ]
  },
  {
   "cell_type": "code",
   "execution_count": 32,
   "id": "ae803e1c",
   "metadata": {},
   "outputs": [
    {
     "data": {
      "text/plain": [
       "<?xml version=\"1.0\" encoding=\"utf-8\"?>"
      ]
     },
     "execution_count": 32,
     "metadata": {},
     "output_type": "execute_result"
    }
   ],
   "source": []
  },
  {
   "cell_type": "code",
   "execution_count": null,
   "id": "c5c5bcc3",
   "metadata": {},
   "outputs": [],
   "source": []
  }
 ],
 "metadata": {
  "kernelspec": {
   "display_name": "Python 3 (ipykernel)",
   "language": "python",
   "name": "python3"
  },
  "language_info": {
   "codemirror_mode": {
    "name": "ipython",
    "version": 3
   },
   "file_extension": ".py",
   "mimetype": "text/x-python",
   "name": "python",
   "nbconvert_exporter": "python",
   "pygments_lexer": "ipython3",
   "version": "3.10.0"
  }
 },
 "nbformat": 4,
 "nbformat_minor": 5
}
