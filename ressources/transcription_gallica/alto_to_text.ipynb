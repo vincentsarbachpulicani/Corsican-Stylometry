{
 "cells": [
  {
   "cell_type": "code",
   "execution_count": 1,
   "id": "47e5fb00",
   "metadata": {},
   "outputs": [],
   "source": [
    "import csv\n",
    "import os\n",
    "import urllib3\n",
    "from lxml import etree\n",
    "import re\n",
    "import codecs\n",
    "import sys\n",
    "import xml.etree.ElementTree as ET\n",
    "import pandas as pd\n",
    "import shutil\n",
    "import glob"
   ]
  },
  {
   "cell_type": "markdown",
   "id": "37bcd8e7",
   "metadata": {},
   "source": [
    "### Initialisation"
   ]
  },
  {
   "cell_type": "code",
   "execution_count": 2,
   "id": "f9409960",
   "metadata": {},
   "outputs": [],
   "source": [
    "data = pd.read_csv('arkissue.tsv',sep='\\t') #J'importe la liste des identifiants ARK que j'avais déjà récupéré précédemment.\n",
    "list_ark_all = data[\"ID\"].to_list()"
   ]
  },
  {
   "cell_type": "code",
   "execution_count": 3,
   "id": "e7e1c8cd",
   "metadata": {},
   "outputs": [],
   "source": [
    "# Je supprime les cas spéciaux (numéros incomplets sur Gallica)\n",
    "special_ark = ['bpt6k1330971w', 'bpt6k1330975j', 'bpt6k13309729', 'bpt6k13309907', 'bpt6k1330973q', 'bpt6k13308489', 'bpt6k1330873c']\n",
    "list_ark_all = list(set(list_ark_all)-set(special_ark))"
   ]
  },
  {
   "cell_type": "code",
   "execution_count": 39,
   "id": "00fa885d",
   "metadata": {},
   "outputs": [],
   "source": [
    "list_file_done = glob.glob('./OUTPUT/*.txt') # Certains téléchargements ne s'effectuant pas, j'ai fait en plusieurs étapes\n",
    "list_ark_done = [] # en déplacant les fichiers TXT qui étaient complet dans un dossier CORPUS"
   ]
  },
  {
   "cell_type": "code",
   "execution_count": 41,
   "id": "bb22f0ed",
   "metadata": {},
   "outputs": [],
   "source": [
    "# Ainsi, je crée une liste des ID ARK traités\n",
    "myre = '(bpt\\w{7,10})'\n",
    "for i in list_file_done:\n",
    "    if re.search(myre, i):\n",
    "        list_ark_done.append(re.search(myre, i).group(1))"
   ]
  },
  {
   "cell_type": "code",
   "execution_count": 42,
   "id": "a6f75247",
   "metadata": {},
   "outputs": [],
   "source": [
    "list_ark_all = list(set(list_ark_all)-set(list_ark_done))\n",
    "# Cette liste soustrait les ARK traités de la totalité des ARK"
   ]
  },
  {
   "cell_type": "code",
   "execution_count": 43,
   "id": "702ed834",
   "metadata": {},
   "outputs": [
    {
     "data": {
      "text/plain": [
       "['bpt6k1330879v',\n",
       " 'bpt6k13308133',\n",
       " 'bpt6k13309974',\n",
       " 'bpt6k13309032',\n",
       " 'bpt6k13307783',\n",
       " 'bpt6k1330881x',\n",
       " 'bpt6k13308845',\n",
       " 'bpt6k1330962x',\n",
       " 'bpt6k1330837h',\n",
       " 'bpt6k1330936f']"
      ]
     },
     "execution_count": 43,
     "metadata": {},
     "output_type": "execute_result"
    }
   ],
   "source": [
    "list_ark_20 = list_ark_all[:10] # 238 est un multiple de 14\n",
    "list_ark_20"
   ]
  },
  {
   "cell_type": "code",
   "execution_count": 44,
   "id": "73f41fe6",
   "metadata": {},
   "outputs": [],
   "source": [
    "folio = ['1','2', '3', '4'] # Nomrbe de pages de presses"
   ]
  },
  {
   "cell_type": "markdown",
   "id": "2c4afa0d",
   "metadata": {},
   "source": [
    "**Ark effectués :**\n",
    "- 1er jet *(26/09/2022)* : 0 -> 20, test et dev du script sans tri de la liste des ARK\n",
    "- 2e jet *(26/09/2022)* : 20 -> 25, test traitement des images par Python sans tri de la liste des ARK\n",
    "- 3e jet *(26/09/2022)* : 20, comparaison rapide des qualités d'OCR entre images process et non process\n",
    "- 4e jet *(27/09/2022)* : étude approfondie pour connaître la précision des OCR selon le degré de traitement des images\n",
    "- 5e jet *(27/09/2022)* : premiers jets sérieux"
   ]
  },
  {
   "cell_type": "code",
   "execution_count": 45,
   "id": "44dd51cb",
   "metadata": {},
   "outputs": [
    {
     "data": {
      "text/plain": [
       "221"
      ]
     },
     "execution_count": 45,
     "metadata": {},
     "output_type": "execute_result"
    }
   ],
   "source": [
    "len(list_ark_all)"
   ]
  },
  {
   "cell_type": "markdown",
   "id": "dac8f204",
   "metadata": {},
   "source": [
    "### Téléchargement des fichiers ALTO "
   ]
  },
  {
   "cell_type": "code",
   "execution_count": 10,
   "id": "0dba99f7",
   "metadata": {},
   "outputs": [],
   "source": [
    "def download_alto_file(i, n):  # Création d'une fonction pour récupérer les fichiers ALTO fournis par Gallica\n",
    "    http = urllib3.PoolManager() \n",
    "    request = http.request('GET', \"https://gallica.bnf.fr/RequestDigitalElement?O=\" + i + \"&E=ALTO&Deb=\" + n) \n",
    "    xml = request.data\n",
    "    filename = i + '_' + \"p\" + n +\".xml\"\n",
    "    with open(filename, \"wb\") as f:\n",
    "        f.write(xml)"
   ]
  },
  {
   "cell_type": "code",
   "execution_count": 11,
   "id": "b2c25f90",
   "metadata": {},
   "outputs": [],
   "source": [
    "for i in list_ark_20: # Boucle utilisant la fonction \n",
    "    for y in folio:\n",
    "        download_alto_file(i, y)"
   ]
  },
  {
   "cell_type": "code",
   "execution_count": 12,
   "id": "32111ce7",
   "metadata": {},
   "outputs": [],
   "source": [
    "parent = os.getcwd()"
   ]
  },
  {
   "cell_type": "markdown",
   "id": "888a81d3",
   "metadata": {},
   "source": [
    "### Gestion des fichiers : passage des fichiers ALTO en UZN puis import des JPG correspondantent"
   ]
  },
  {
   "cell_type": "code",
   "execution_count": 13,
   "id": "f69d5e3c",
   "metadata": {},
   "outputs": [],
   "source": [
    "xml_files = [] # Création d'une liste de tous les fichiers XML\n",
    "for i in glob.glob(\"*.xml\"):\n",
    "    xml_files.append(i)"
   ]
  },
  {
   "cell_type": "code",
   "execution_count": 14,
   "id": "26c584de",
   "metadata": {},
   "outputs": [],
   "source": [
    "for f in xml_files: #Pour chaque XML, le récupère les métadonnées relatives aux coordonnées de chaque TextBlock\n",
    "    if sys.stdout.encoding != 'UTF-8': # que j'implémente dans un fichier UZn nouvellement créé\n",
    "        sys.stdout = codecs.getwriter('utf-8')(sys.stdout.buffer, 'strict')\n",
    "\n",
    "    namespace = {'alto-1': 'http://schema.ccs-gmbh.com/ALTO',\n",
    "                 'alto-2': 'http://www.loc.gov/standards/alto/ns-v2#',\n",
    "                 'alto-3': 'http://www.loc.gov/standards/alto/ns-v3#'}\n",
    "    tree = ET.parse(f)\n",
    "    xmlns = tree.getroot().tag.split('}')[0].strip('{')\n",
    "    if xmlns in namespace.values():\n",
    "        with open(f + \".uzn\", \"a+\") as f:\n",
    "            for line in tree.iterfind('.//{%s}TextBlock' % xmlns):\n",
    "                #sys.stdout.write('\\n')\n",
    "                text = line.attrib.get('HPOS') + ' ' + line.attrib.get('VPOS') + ' ' + line.attrib.get('WIDTH') + ' ' + line.attrib.get('HEIGHT') +  ' ' + line.attrib.get('ID') + '\\n'\n",
    "                f.write(text)\n",
    "    else:\n",
    "        print('ERROR: Not a valid ALTO file (namespace declaration missing)')"
   ]
  },
  {
   "cell_type": "code",
   "execution_count": 15,
   "id": "75fa482c",
   "metadata": {},
   "outputs": [],
   "source": [
    "uzn_files = [] # Liste de tous les fichiers UZN avec les noms uniformisés\n",
    "for u in glob.glob(\"*.uzn\"):\n",
    "    uzn_files.append(u)\n",
    "for u in uzn_files:\n",
    "    y = re.sub(\".xml\", '', u)\n",
    "    os.rename(u,y)\n",
    "uzn_files.sort()"
   ]
  },
  {
   "cell_type": "code",
   "execution_count": 16,
   "id": "9bfe7483",
   "metadata": {},
   "outputs": [],
   "source": [
    "for xml in xml_files: # Suppression des fichiers XML pour gagner de l'espace\n",
    "    os.remove(xml)"
   ]
  },
  {
   "cell_type": "code",
   "execution_count": 17,
   "id": "fcac89f7",
   "metadata": {},
   "outputs": [],
   "source": [
    "def move_pages_to_parent(page):# Enfin, on se déplace dans les dossiers PAGES afin de récupérer\n",
    "    os.chdir(parent + '/pages_' + page) #les fichiers JPG dans le dossier correspondant en se basant sur le code ARK\n",
    "    filenames = os.listdir() \n",
    "    for name in list_ark_20:\n",
    "        for file in filenames:\n",
    "            if file.endswith(name + '_p' + page + '.jpg'):\n",
    "                os.rename(file, parent + '/' + file)\n",
    "    os.chdir(parent)"
   ]
  },
  {
   "cell_type": "code",
   "execution_count": 18,
   "id": "eeb58ba7",
   "metadata": {},
   "outputs": [],
   "source": [
    "for p in folio:\n",
    "    move_pages_to_parent(p)"
   ]
  },
  {
   "cell_type": "code",
   "execution_count": 19,
   "id": "b8e4ec33",
   "metadata": {},
   "outputs": [],
   "source": [
    "jpg_files = [] # On liste tous les fichiers JPG\n",
    "for i in glob.glob('*.jpg'):\n",
    "    jpg_files.append(i)\n",
    "jpg_files.sort()"
   ]
  },
  {
   "cell_type": "code",
   "execution_count": 20,
   "id": "10be21bd",
   "metadata": {},
   "outputs": [],
   "source": [
    "for i in list_ark_20: # On supprime les fichiers UZN des pages 4 si les JPG_p4 n'existent pas\n",
    "    page = i + \"_p4.jpg\" # La liste des page 4 contenant du texte pertinent a été préalablement faite\n",
    "    uznf = i + \"_p4.uzn\"\n",
    "    if page not in jpg_files:\n",
    "        os.remove(uznf)"
   ]
  },
  {
   "cell_type": "code",
   "execution_count": 21,
   "id": "b00cd213",
   "metadata": {},
   "outputs": [],
   "source": [
    "uzn_files = []  # Je le refais pour être sûr que les noms de la liste UZN sont bons\n",
    "for u in glob.glob(\"*.uzn\"):\n",
    "    uzn_files.append(u)\n",
    "uzn_files.sort()"
   ]
  },
  {
   "cell_type": "code",
   "execution_count": 22,
   "id": "96b7caa9",
   "metadata": {
    "scrolled": true
   },
   "outputs": [
    {
     "data": {
      "text/plain": [
       "['bpt6k13307805_p1.jpg',\n",
       " 'bpt6k13307805_p2.jpg',\n",
       " 'bpt6k13307805_p3.jpg',\n",
       " 'bpt6k13307805_p4.jpg',\n",
       " 'bpt6k1330800g_p1.jpg',\n",
       " 'bpt6k1330800g_p2.jpg',\n",
       " 'bpt6k1330800g_p3.jpg',\n",
       " 'bpt6k1330800g_p4.jpg',\n",
       " 'bpt6k1330808s_p1.jpg',\n",
       " 'bpt6k1330808s_p2.jpg',\n",
       " 'bpt6k1330808s_p3.jpg',\n",
       " 'bpt6k1330808s_p4.jpg',\n",
       " 'bpt6k13308437_p1.jpg',\n",
       " 'bpt6k13308437_p2.jpg',\n",
       " 'bpt6k13308437_p3.jpg',\n",
       " 'bpt6k1330865t_p1.jpg',\n",
       " 'bpt6k1330865t_p2.jpg',\n",
       " 'bpt6k1330865t_p3.jpg',\n",
       " 'bpt6k1330874s_p1.jpg',\n",
       " 'bpt6k1330874s_p2.jpg',\n",
       " 'bpt6k1330874s_p3.jpg',\n",
       " 'bpt6k1330874s_p4.jpg',\n",
       " 'bpt6k13309581_p1.jpg',\n",
       " 'bpt6k13309581_p2.jpg',\n",
       " 'bpt6k13309581_p3.jpg',\n",
       " 'bpt6k1330991n_p1.jpg',\n",
       " 'bpt6k1330991n_p2.jpg',\n",
       " 'bpt6k1330991n_p3.jpg',\n",
       " 'bpt6k1330993g_p1.jpg',\n",
       " 'bpt6k1330993g_p2.jpg',\n",
       " 'bpt6k1330993g_p3.jpg',\n",
       " 'bpt6k13310127_p1.jpg',\n",
       " 'bpt6k13310127_p2.jpg',\n",
       " 'bpt6k13310127_p3.jpg']"
      ]
     },
     "execution_count": 22,
     "metadata": {},
     "output_type": "execute_result"
    }
   ],
   "source": [
    "jpg_files # test"
   ]
  },
  {
   "cell_type": "code",
   "execution_count": 23,
   "id": "8fbcad41",
   "metadata": {
    "scrolled": true
   },
   "outputs": [
    {
     "data": {
      "text/plain": [
       "['bpt6k13307805_p1.uzn',\n",
       " 'bpt6k13307805_p2.uzn',\n",
       " 'bpt6k13307805_p3.uzn',\n",
       " 'bpt6k13307805_p4.uzn',\n",
       " 'bpt6k1330800g_p1.uzn',\n",
       " 'bpt6k1330800g_p2.uzn',\n",
       " 'bpt6k1330800g_p3.uzn',\n",
       " 'bpt6k1330800g_p4.uzn',\n",
       " 'bpt6k1330808s_p1.uzn',\n",
       " 'bpt6k1330808s_p2.uzn',\n",
       " 'bpt6k1330808s_p3.uzn',\n",
       " 'bpt6k1330808s_p4.uzn',\n",
       " 'bpt6k13308437_p1.uzn',\n",
       " 'bpt6k13308437_p2.uzn',\n",
       " 'bpt6k13308437_p3.uzn',\n",
       " 'bpt6k1330865t_p1.uzn',\n",
       " 'bpt6k1330865t_p2.uzn',\n",
       " 'bpt6k1330865t_p3.uzn',\n",
       " 'bpt6k1330874s_p1.uzn',\n",
       " 'bpt6k1330874s_p2.uzn',\n",
       " 'bpt6k1330874s_p3.uzn',\n",
       " 'bpt6k1330874s_p4.uzn',\n",
       " 'bpt6k13309581_p1.uzn',\n",
       " 'bpt6k13309581_p2.uzn',\n",
       " 'bpt6k13309581_p3.uzn',\n",
       " 'bpt6k1330991n_p1.uzn',\n",
       " 'bpt6k1330991n_p2.uzn',\n",
       " 'bpt6k1330991n_p3.uzn',\n",
       " 'bpt6k1330993g_p1.uzn',\n",
       " 'bpt6k1330993g_p2.uzn',\n",
       " 'bpt6k1330993g_p3.uzn',\n",
       " 'bpt6k13310127_p1.uzn',\n",
       " 'bpt6k13310127_p2.uzn',\n",
       " 'bpt6k13310127_p3.uzn']"
      ]
     },
     "execution_count": 23,
     "metadata": {},
     "output_type": "execute_result"
    }
   ],
   "source": [
    "uzn_files # test"
   ]
  },
  {
   "cell_type": "markdown",
   "id": "4086bc26",
   "metadata": {},
   "source": [
    "### Traitement des images"
   ]
  },
  {
   "cell_type": "code",
   "execution_count": 24,
   "id": "dbdff768",
   "metadata": {},
   "outputs": [],
   "source": [
    "from wand.image import Image\n",
    "import cv2\n",
    "import numpy as np"
   ]
  },
  {
   "cell_type": "code",
   "execution_count": 25,
   "id": "9bd06f06",
   "metadata": {},
   "outputs": [],
   "source": [
    "#Thresholding\n",
    "\n",
    "for jpg in jpg_files:\n",
    "    with Image(filename = jpg) as img:\n",
    "        with img.clone() as otsu:\n",
    "            otsu.auto_threshold(method='otsu')\n",
    "            otsu.save(filename= jpg)"
   ]
  },
  {
   "cell_type": "code",
   "execution_count": 26,
   "id": "3d2ecf96",
   "metadata": {},
   "outputs": [],
   "source": [
    "#Despeckling\n",
    "\n",
    "for jpg in jpg_files:\n",
    "    with Image(filename=jpg) as img:\n",
    "        img.despeckle()\n",
    "        img.save(filename=jpg)"
   ]
  },
  {
   "cell_type": "markdown",
   "id": "789c34dc",
   "metadata": {},
   "source": [
    "### Maintenant, place à la transcription"
   ]
  },
  {
   "cell_type": "code",
   "execution_count": 27,
   "id": "b2cbb32b",
   "metadata": {
    "scrolled": true
   },
   "outputs": [
    {
     "name": "stdout",
     "output_type": "stream",
     "text": [
      "bpt6k13307805_p1.jpg bpt6k13307805_p1.uzn\n",
      "bpt6k13307805_p2.jpg bpt6k13307805_p2.uzn\n",
      "bpt6k13307805_p3.jpg bpt6k13307805_p3.uzn\n",
      "bpt6k13307805_p4.jpg bpt6k13307805_p4.uzn\n",
      "bpt6k1330800g_p1.jpg bpt6k1330800g_p1.uzn\n",
      "bpt6k1330800g_p2.jpg bpt6k1330800g_p2.uzn\n",
      "bpt6k1330800g_p3.jpg bpt6k1330800g_p3.uzn\n",
      "bpt6k1330800g_p4.jpg bpt6k1330800g_p4.uzn\n",
      "bpt6k1330808s_p1.jpg bpt6k1330808s_p1.uzn\n",
      "bpt6k1330808s_p2.jpg bpt6k1330808s_p2.uzn\n",
      "bpt6k1330808s_p3.jpg bpt6k1330808s_p3.uzn\n",
      "bpt6k1330808s_p4.jpg bpt6k1330808s_p4.uzn\n",
      "bpt6k13308437_p1.jpg bpt6k13308437_p1.uzn\n",
      "bpt6k13308437_p2.jpg bpt6k13308437_p2.uzn\n",
      "bpt6k13308437_p3.jpg bpt6k13308437_p3.uzn\n",
      "bpt6k1330865t_p1.jpg bpt6k1330865t_p1.uzn\n",
      "bpt6k1330865t_p2.jpg bpt6k1330865t_p2.uzn\n",
      "bpt6k1330865t_p3.jpg bpt6k1330865t_p3.uzn\n",
      "bpt6k1330874s_p1.jpg bpt6k1330874s_p1.uzn\n",
      "bpt6k1330874s_p2.jpg bpt6k1330874s_p2.uzn\n",
      "bpt6k1330874s_p3.jpg bpt6k1330874s_p3.uzn\n",
      "bpt6k1330874s_p4.jpg bpt6k1330874s_p4.uzn\n",
      "bpt6k13309581_p1.jpg bpt6k13309581_p1.uzn\n",
      "bpt6k13309581_p2.jpg bpt6k13309581_p2.uzn\n",
      "bpt6k13309581_p3.jpg bpt6k13309581_p3.uzn\n",
      "bpt6k1330991n_p1.jpg bpt6k1330991n_p1.uzn\n",
      "bpt6k1330991n_p2.jpg bpt6k1330991n_p2.uzn\n",
      "bpt6k1330991n_p3.jpg bpt6k1330991n_p3.uzn\n",
      "bpt6k1330993g_p1.jpg bpt6k1330993g_p1.uzn\n",
      "bpt6k1330993g_p2.jpg bpt6k1330993g_p2.uzn\n",
      "bpt6k1330993g_p3.jpg bpt6k1330993g_p3.uzn\n",
      "bpt6k13310127_p1.jpg bpt6k13310127_p1.uzn\n",
      "bpt6k13310127_p2.jpg bpt6k13310127_p2.uzn\n",
      "bpt6k13310127_p3.jpg bpt6k13310127_p3.uzn\n"
     ]
    }
   ],
   "source": [
    "for i in range(len(jpg_files)): # test de correspondance\n",
    "    print(jpg_files[i] + ' ' + uzn_files[i])"
   ]
  },
  {
   "cell_type": "code",
   "execution_count": 28,
   "id": "51dcbf36",
   "metadata": {
    "scrolled": true
   },
   "outputs": [
    {
     "name": "stderr",
     "output_type": "stream",
     "text": [
      "UZN file bpt6k13307805_p1.uzn loaded.\n",
      "UZN file bpt6k13307805_p2.uzn loaded.\n",
      "UZN file bpt6k13307805_p3.uzn loaded.\n",
      "UZN file bpt6k13307805_p4.uzn loaded.\n",
      "UZN file bpt6k1330800g_p1.uzn loaded.\n",
      "UZN file bpt6k1330800g_p2.uzn loaded.\n",
      "UZN file bpt6k1330800g_p3.uzn loaded.\n",
      "UZN file bpt6k1330800g_p4.uzn loaded.\n",
      "UZN file bpt6k1330808s_p1.uzn loaded.\n",
      "UZN file bpt6k1330808s_p2.uzn loaded.\n",
      "UZN file bpt6k1330808s_p3.uzn loaded.\n",
      "UZN file bpt6k1330808s_p4.uzn loaded.\n",
      "UZN file bpt6k13308437_p1.uzn loaded.\n",
      "UZN file bpt6k13308437_p2.uzn loaded.\n",
      "UZN file bpt6k13308437_p3.uzn loaded.\n",
      "UZN file bpt6k1330865t_p1.uzn loaded.\n",
      "UZN file bpt6k1330865t_p2.uzn loaded.\n",
      "UZN file bpt6k1330865t_p3.uzn loaded.\n",
      "UZN file bpt6k1330874s_p1.uzn loaded.\n",
      "UZN file bpt6k1330874s_p2.uzn loaded.\n",
      "UZN file bpt6k1330874s_p3.uzn loaded.\n",
      "UZN file bpt6k1330874s_p4.uzn loaded.\n",
      "UZN file bpt6k13309581_p1.uzn loaded.\n",
      "UZN file bpt6k13309581_p2.uzn loaded.\n",
      "UZN file bpt6k13309581_p3.uzn loaded.\n",
      "UZN file bpt6k1330991n_p1.uzn loaded.\n",
      "UZN file bpt6k1330991n_p2.uzn loaded.\n",
      "UZN file bpt6k1330991n_p3.uzn loaded.\n",
      "UZN file bpt6k1330993g_p1.uzn loaded.\n",
      "UZN file bpt6k1330993g_p2.uzn loaded.\n",
      "UZN file bpt6k1330993g_p3.uzn loaded.\n",
      "UZN file bpt6k13310127_p1.uzn loaded.\n",
      "UZN file bpt6k13310127_p2.uzn loaded.\n",
      "UZN file bpt6k13310127_p3.uzn loaded.\n"
     ]
    }
   ],
   "source": [
    "for i in range(len(jpg_files)): # On lance la commande système pour effectuer l'OCR\n",
    "    os.system('tesseract ' + jpg_files[i] + ' ' + uzn_files[i] + ' --psm 4 -l fra+cos+ita')"
   ]
  },
  {
   "cell_type": "markdown",
   "id": "e1d4d717",
   "metadata": {},
   "source": [
    "### Pour terminer, classons tout ça dans les bons dossiers en les rendant plus propres"
   ]
  },
  {
   "cell_type": "code",
   "execution_count": 29,
   "id": "a4abcaa9",
   "metadata": {},
   "outputs": [],
   "source": [
    "for jpg in jpg_files: # On supprime les fichiers JPG pour gagner en lisibilité\n",
    "    os.remove(jpg)"
   ]
  },
  {
   "cell_type": "code",
   "execution_count": 30,
   "id": "f9b2d3bd",
   "metadata": {},
   "outputs": [],
   "source": [
    "for uzn in uzn_files: # On fait de même avec les fichiers UZN\n",
    "    os.remove(uzn)"
   ]
  },
  {
   "cell_type": "code",
   "execution_count": 31,
   "id": "d1d44fdd",
   "metadata": {},
   "outputs": [],
   "source": [
    "txt_files = [] # Comme pour les fichiers UZN plus tôt, on listes les fichiers TXT et on uniformise les noms\n",
    "for t in glob.glob('*.txt'):\n",
    "    txt_files.append(t)\n",
    "for t in txt_files:\n",
    "    y = re.sub(\".uzn\", \"\", t)\n",
    "    os.rename(t,y)\n",
    "txt_files = []\n",
    "for t in glob.glob('*.txt'):\n",
    "    txt_files.append(t)"
   ]
  },
  {
   "cell_type": "code",
   "execution_count": 32,
   "id": "8beb7e3d",
   "metadata": {},
   "outputs": [],
   "source": [
    "txt_files.sort() # On trie (toujours trier pour être sûr)"
   ]
  },
  {
   "cell_type": "code",
   "execution_count": 33,
   "id": "7edaf4eb",
   "metadata": {},
   "outputs": [],
   "source": [
    "for i in list_ark_20: # On crée des dossiers correspondant aux numéros traités présentement\n",
    "    os.system(\"mkdir \" + i)"
   ]
  },
  {
   "cell_type": "code",
   "execution_count": 34,
   "id": "a9eca3bf",
   "metadata": {},
   "outputs": [],
   "source": [
    "for file in txt_files: # On regroupe dans ces dossiers tous les fichiers TXT du même numéro\n",
    "    for ark in list_ark_20:\n",
    "        if file.startswith(ark):\n",
    "            os.rename(file, parent + \"/\" + ark + \"/\" + file)"
   ]
  },
  {
   "cell_type": "code",
   "execution_count": 35,
   "id": "3e1d9d96",
   "metadata": {},
   "outputs": [],
   "source": [
    "for folder in list_ark_20: # On lance une commande BASH pour concaténer les fichiers TXT dans un seul\n",
    "    os.chdir(parent + '/' + folder)\n",
    "    os.system(\"cat *.txt > \" + folder + \".txt\")"
   ]
  },
  {
   "cell_type": "code",
   "execution_count": 36,
   "id": "0e522f6a",
   "metadata": {},
   "outputs": [],
   "source": [
    "for folder in list_ark_20: # On supprime tous les TXT des pages unique spour ne laisser que le TXT global\n",
    "    os.chdir(parent + '/' + folder)\n",
    "    filenames = os.listdir()\n",
    "    for file in filenames:\n",
    "        if re.search(\"_p\", file):\n",
    "            os.remove(file)"
   ]
  },
  {
   "cell_type": "code",
   "execution_count": 37,
   "id": "b49df28d",
   "metadata": {},
   "outputs": [],
   "source": [
    "for folder in list_ark_20: # On déplace tous les fichiers TXT dans les dans un dossier commun OUTPUT\n",
    "    os.chdir(parent + '/' + folder)\n",
    "    os.rename(folder + \".txt\", parent + \"/OUTPUT/\" + folder + \".txt\")"
   ]
  },
  {
   "cell_type": "code",
   "execution_count": 38,
   "id": "4ee6d218",
   "metadata": {},
   "outputs": [],
   "source": [
    "for folder in list_ark_20: # On supprime les dossiers vides\n",
    "    os.chdir(parent)\n",
    "    os.rmdir(folder)"
   ]
  },
  {
   "cell_type": "markdown",
   "id": "40951559",
   "metadata": {},
   "source": [
    "### Commentaires"
   ]
  },
  {
   "cell_type": "markdown",
   "id": "f2877c20",
   "metadata": {},
   "source": [
    "Il y a beaucoup de cellules différentes mais c'est pour ne pas se précipiter non plus : on ne sait jamais, s'il y a un problème, on peut toujours le régler si on sait quand il survient.\n",
    "\n",
    "La dernière phase de concaténation des fichiers `.txt` pourrait être simplifier mais je préfère manipuler ces fichiers dans des dossiers séparés pour éviter des incidents et la concaténation de fichiers qui ne sont pas issus des mêmes numéros. "
   ]
  },
  {
   "cell_type": "markdown",
   "id": "f3f7fc49",
   "metadata": {},
   "source": [
    "### Petits scripts bonus"
   ]
  },
  {
   "cell_type": "code",
   "execution_count": null,
   "id": "91857177",
   "metadata": {},
   "outputs": [],
   "source": [
    "for i in jpg_files:\n",
    "    y = re.sub(\"recup_transcription\", '', i)\n",
    "    os.rename(i,y)"
   ]
  },
  {
   "cell_type": "code",
   "execution_count": null,
   "id": "362a0d18",
   "metadata": {},
   "outputs": [],
   "source": [
    "for i in list_ark_20:\n",
    "    os.system(\"mkdir \" + i)"
   ]
  },
  {
   "cell_type": "code",
   "execution_count": null,
   "id": "c3f05384",
   "metadata": {},
   "outputs": [],
   "source": []
  },
  {
   "cell_type": "code",
   "execution_count": null,
   "id": "9c10c7da",
   "metadata": {},
   "outputs": [],
   "source": []
  },
  {
   "cell_type": "code",
   "execution_count": null,
   "id": "7d058d78",
   "metadata": {},
   "outputs": [],
   "source": []
  }
 ],
 "metadata": {
  "kernelspec": {
   "display_name": "Python 3 (ipykernel)",
   "language": "python",
   "name": "python3"
  },
  "language_info": {
   "codemirror_mode": {
    "name": "ipython",
    "version": 3
   },
   "file_extension": ".py",
   "mimetype": "text/x-python",
   "name": "python",
   "nbconvert_exporter": "python",
   "pygments_lexer": "ipython3",
   "version": "3.9.13"
  }
 },
 "nbformat": 4,
 "nbformat_minor": 5
}
