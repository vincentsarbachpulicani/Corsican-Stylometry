{
 "cells": [
  {
   "cell_type": "code",
   "execution_count": 37,
   "id": "0c820d93",
   "metadata": {},
   "outputs": [],
   "source": [
    "import os\n",
    "import sys\n",
    "import glob\n",
    "import re\n",
    "import pandas as pd"
   ]
  },
  {
   "cell_type": "code",
   "execution_count": 38,
   "id": "8caf6fec",
   "metadata": {},
   "outputs": [],
   "source": [
    "data = pd.read_csv('arkissue.tsv',sep='\\t') #J'importe la liste des identifiants ARK que j'avais déjà récupéré précédemment.\n",
    "ark_all = data[\"ID\"].to_list()"
   ]
  },
  {
   "cell_type": "code",
   "execution_count": 39,
   "id": "5e1423c0",
   "metadata": {},
   "outputs": [],
   "source": [
    "p2_liste = []\n",
    "for f in glob.glob(\"./pages_2/*.jpg\"):\n",
    "    p2_liste.append(f)"
   ]
  },
  {
   "cell_type": "code",
   "execution_count": 40,
   "id": "f5227902",
   "metadata": {},
   "outputs": [],
   "source": [
    "p3_liste = []\n",
    "for f in glob.glob(\"./pages_3/*.jpg\"):\n",
    "    p3_liste.append(f)"
   ]
  },
  {
   "cell_type": "code",
   "execution_count": 52,
   "id": "ef8624ba",
   "metadata": {},
   "outputs": [],
   "source": [
    "p1_liste = []\n",
    "for f in glob.glob(\"./pages_1/*.jpg\"):\n",
    "    p1_liste.append(f)"
   ]
  },
  {
   "cell_type": "code",
   "execution_count": 42,
   "id": "deac530b",
   "metadata": {},
   "outputs": [],
   "source": [
    "myre = '(bpt\\w{7,10})'\n",
    "p2_ark = []\n",
    "for f in p2_liste:\n",
    "    if re.search(myre, f):\n",
    "        p2_ark.append(re.search(myre, f).group(1))"
   ]
  },
  {
   "cell_type": "code",
   "execution_count": 43,
   "id": "831eb2e4",
   "metadata": {},
   "outputs": [],
   "source": [
    "myre = '(bpt\\w{7,10})'\n",
    "p3_ark = []\n",
    "for f in p3_liste:\n",
    "    if re.search(myre, f):\n",
    "        p3_ark.append(re.search(myre, f).group(1))"
   ]
  },
  {
   "cell_type": "code",
   "execution_count": 53,
   "id": "30898cba",
   "metadata": {},
   "outputs": [],
   "source": [
    "myre = '(bpt\\w{7,10})'\n",
    "p1_ark = []\n",
    "for f in p1_liste:\n",
    "    if re.search(myre, f):\n",
    "        p1_ark.append(re.search(myre, f).group(1))"
   ]
  },
  {
   "cell_type": "code",
   "execution_count": 48,
   "id": "2d80279d",
   "metadata": {},
   "outputs": [],
   "source": [
    "p2_man = list(set(ark_all)-set(p2_ark))"
   ]
  },
  {
   "cell_type": "code",
   "execution_count": 49,
   "id": "95a43fa9",
   "metadata": {},
   "outputs": [],
   "source": [
    "p3_man = list(set(ark_all)-set(p3_ark))"
   ]
  },
  {
   "cell_type": "code",
   "execution_count": 54,
   "id": "4f32bef5",
   "metadata": {},
   "outputs": [],
   "source": [
    "p1_man = list(set(ark_all)-set(p1_ark))"
   ]
  },
  {
   "cell_type": "code",
   "execution_count": 55,
   "id": "9f0ce8d3",
   "metadata": {},
   "outputs": [
    {
     "data": {
      "text/plain": [
       "7"
      ]
     },
     "execution_count": 55,
     "metadata": {},
     "output_type": "execute_result"
    }
   ],
   "source": [
    "len(p1_man)"
   ]
  },
  {
   "cell_type": "code",
   "execution_count": null,
   "id": "b0b5c8e7",
   "metadata": {},
   "outputs": [],
   "source": []
  }
 ],
 "metadata": {
  "kernelspec": {
   "display_name": "Python 3 (ipykernel)",
   "language": "python",
   "name": "python3"
  },
  "language_info": {
   "codemirror_mode": {
    "name": "ipython",
    "version": 3
   },
   "file_extension": ".py",
   "mimetype": "text/x-python",
   "name": "python",
   "nbconvert_exporter": "python",
   "pygments_lexer": "ipython3",
   "version": "3.9.13"
  }
 },
 "nbformat": 4,
 "nbformat_minor": 5
}
