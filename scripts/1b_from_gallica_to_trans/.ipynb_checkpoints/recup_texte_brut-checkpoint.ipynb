{
 "cells": [
  {
   "cell_type": "code",
   "execution_count": 78,
   "id": "2c9980e2",
   "metadata": {},
   "outputs": [],
   "source": [
    "import csv\n",
    "import os\n",
    "import urllib3\n",
    "from lxml import etree\n",
    "import re\n",
    "import codecs\n",
    "import sys\n",
    "import xml.etree.ElementTree as ET\n",
    "import pandas as pd"
   ]
  },
  {
   "cell_type": "code",
   "execution_count": 79,
   "id": "242781fd",
   "metadata": {},
   "outputs": [],
   "source": [
    "data = pd.read_csv('arkissue.tsv',sep='\\t') # j'importe la liste des identifiants ARK que j'avais déjà récupéré\n",
    "list_ark_all = data[\"ID\"].to_list()"
   ]
  },
  {
   "cell_type": "code",
   "execution_count": 80,
   "id": "3ad450e3",
   "metadata": {},
   "outputs": [],
   "source": [
    "list_file_done = os.listdir('./CORPUS') # Certains téléchargements ne s'effectuant pas, j'ai fait en plusieurs étapes\n",
    "list_ark_done = [] # en déplacant les fichiers TXT qui étaient complet dans un dossier CORPUS\n",
    "myre = '(bpt\\w{7,10})' # Ainsi, je crée une liste des ID ARK traités\n",
    "for i in list_file_done:\n",
    "    if re.search(myre, i):\n",
    "        list_ark_done.append(re.search(myre, i).group(1))"
   ]
  },
  {
   "cell_type": "code",
   "execution_count": 100,
   "id": "d4704225",
   "metadata": {},
   "outputs": [
    {
     "data": {
      "text/plain": [
       "['bpt6k1330873c', 'bpt6k1330989k', 'bpt6k1330862k']"
      ]
     },
     "execution_count": 100,
     "metadata": {},
     "output_type": "execute_result"
    }
   ],
   "source": [
    "folio = ['1','2', '3', '4'] # Nomrbe de pages de presses, seul 3 numéros possèdent 2 pages au lieu de 4\n",
    "list_ark = list(set(list_ark_all)-set(list_ark_done)) # Cette liste soustrait les ARK traités de la totalité des ARK\n",
    "list_ark"
   ]
  },
  {
   "cell_type": "code",
   "execution_count": 93,
   "id": "7c841735",
   "metadata": {},
   "outputs": [],
   "source": [
    "def download_alto_file(i, n):  # création d'une fonction pour récupérer les fichiers ALTO fournis par Gallica\n",
    "    http = urllib3.PoolManager() \n",
    "    request = http.request('GET', \"https://gallica.bnf.fr/RequestDigitalElement?O=\" + i + \"&E=ALTO&Deb=\" + n) \n",
    "    xml = request.data\n",
    "    filename = i + '_' + \"test_alto_\" + n +\".xml\"\n",
    "    with open(filename, \"wb\") as f:\n",
    "        f.write(xml)"
   ]
  },
  {
   "cell_type": "code",
   "execution_count": 94,
   "id": "39471ea2",
   "metadata": {},
   "outputs": [
    {
     "name": "stderr",
     "output_type": "stream",
     "text": [
      "/home/vsp/miniconda3/envs/hn/lib/python3.10/site-packages/urllib3/connectionpool.py:842: InsecureRequestWarning: Unverified HTTPS request is being made. Adding certificate verification is strongly advised. See: https://urllib3.readthedocs.io/en/latest/advanced-usage.html#ssl-warnings\n",
      "  warnings.warn((\n",
      "/home/vsp/miniconda3/envs/hn/lib/python3.10/site-packages/urllib3/connectionpool.py:842: InsecureRequestWarning: Unverified HTTPS request is being made. Adding certificate verification is strongly advised. See: https://urllib3.readthedocs.io/en/latest/advanced-usage.html#ssl-warnings\n",
      "  warnings.warn((\n",
      "/home/vsp/miniconda3/envs/hn/lib/python3.10/site-packages/urllib3/connectionpool.py:842: InsecureRequestWarning: Unverified HTTPS request is being made. Adding certificate verification is strongly advised. See: https://urllib3.readthedocs.io/en/latest/advanced-usage.html#ssl-warnings\n",
      "  warnings.warn((\n",
      "/home/vsp/miniconda3/envs/hn/lib/python3.10/site-packages/urllib3/connectionpool.py:842: InsecureRequestWarning: Unverified HTTPS request is being made. Adding certificate verification is strongly advised. See: https://urllib3.readthedocs.io/en/latest/advanced-usage.html#ssl-warnings\n",
      "  warnings.warn((\n",
      "/home/vsp/miniconda3/envs/hn/lib/python3.10/site-packages/urllib3/connectionpool.py:842: InsecureRequestWarning: Unverified HTTPS request is being made. Adding certificate verification is strongly advised. See: https://urllib3.readthedocs.io/en/latest/advanced-usage.html#ssl-warnings\n",
      "  warnings.warn((\n",
      "/home/vsp/miniconda3/envs/hn/lib/python3.10/site-packages/urllib3/connectionpool.py:842: InsecureRequestWarning: Unverified HTTPS request is being made. Adding certificate verification is strongly advised. See: https://urllib3.readthedocs.io/en/latest/advanced-usage.html#ssl-warnings\n",
      "  warnings.warn((\n"
     ]
    }
   ],
   "source": [
    "for i in list_ark: # boucle utilisant la fonction \n",
    "    for y in folio:\n",
    "        download_alto_file(i, y)"
   ]
  },
  {
   "cell_type": "code",
   "execution_count": 95,
   "id": "bcb1e578",
   "metadata": {},
   "outputs": [
    {
     "data": {
      "text/plain": [
       "['bpt6k1330862k_test_alto_1.xml',\n",
       " 'bpt6k1330862k_test_alto_2.xml',\n",
       " 'bpt6k1330873c_test_alto_1.xml',\n",
       " 'bpt6k1330873c_test_alto_2.xml',\n",
       " 'bpt6k1330989k_test_alto_1.xml',\n",
       " 'bpt6k1330989k_test_alto_2.xml']"
      ]
     },
     "execution_count": 95,
     "metadata": {},
     "output_type": "execute_result"
    }
   ],
   "source": [
    "# Isoler tous les fichiers XML du dossier\n",
    "\n",
    "list_all_files = os.listdir() \n",
    "\n",
    "list_xml_files = []\n",
    "\n",
    "for i in list_all_files:\n",
    "    if i.endswith(\".xml\"):\n",
    "        list_xml_files.append(i)\n",
    "        \n",
    "list_xml_files.sort()\n",
    "list_xml_files"
   ]
  },
  {
   "cell_type": "code",
   "execution_count": 96,
   "id": "bae342d2",
   "metadata": {},
   "outputs": [
    {
     "name": "stdout",
     "output_type": "stream",
     "text": [
      "File name : bpt6k1330873c_test_alto_1.xml\n",
      "File name : bpt6k1330873c_test_alto_2.xml\n",
      "File name : bpt6k1330989k_test_alto_1.xml\n",
      "File name : bpt6k1330989k_test_alto_2.xml\n",
      "File name : bpt6k1330862k_test_alto_1.xml\n",
      "File name : bpt6k1330862k_test_alto_2.xml\n"
     ]
    }
   ],
   "source": [
    "# Cette boucle exécute le script alto-ocr-txt.py permettant de transformer les fichiers ALTO en TXT\n",
    "\n",
    "n = 0\n",
    "\n",
    "for ark in list_ark:\n",
    "    for f in list_xml_files:\n",
    "        if f.startswith(ark):\n",
    "            print(\"File name : \" + f)\n",
    "            os.system('python alto-ocr-txt.py ' + f)\n",
    "            if os.path.exists(\"alto_to_text.txt\"):\n",
    "                os.rename(\"alto_to_text.txt\", ark + \"_\" + str(n) + \".txt\")\n",
    "            n = n + 1\n",
    "            os.remove(f)"
   ]
  },
  {
   "cell_type": "code",
   "execution_count": 97,
   "id": "e4ef09b0",
   "metadata": {},
   "outputs": [
    {
     "data": {
      "text/plain": [
       "['bpt6k1330862k_4.txt',\n",
       " 'bpt6k1330862k_5.txt',\n",
       " 'bpt6k1330873c_0.txt',\n",
       " 'bpt6k1330873c_1.txt',\n",
       " 'bpt6k1330989k_2.txt',\n",
       " 'bpt6k1330989k_3.txt']"
      ]
     },
     "execution_count": 97,
     "metadata": {},
     "output_type": "execute_result"
    }
   ],
   "source": [
    "#J'isole dans une liste les fichiers TXT du reste des fichiers\n",
    "\n",
    "list_all_files = os.listdir()\n",
    "\n",
    "list_txt_files = []\n",
    "for i in list_all_files:\n",
    "    if i.endswith(\".txt\"):\n",
    "        list_txt_files.append(i)\n",
    "list_txt_files.sort()\n",
    "list_txt_files"
   ]
  },
  {
   "cell_type": "code",
   "execution_count": 98,
   "id": "9e45abce",
   "metadata": {},
   "outputs": [],
   "source": [
    "# Cette boucle concatène les fichiers TXT (1 par page) de chaque numéro afin de créer un fichier TXT unique\n",
    "\n",
    "for ark in list_ark:\n",
    "    with open(ark + '.txt', 'w') as outfile:\n",
    "        for f in list_txt_files:\n",
    "            if f.startswith(ark):\n",
    "                with open(f) as infile:\n",
    "                    outfile.write(infile.read())\n",
    "                os.remove(f)"
   ]
  },
  {
   "cell_type": "code",
   "execution_count": 99,
   "id": "1dba4e40",
   "metadata": {},
   "outputs": [],
   "source": [
    "list_all_files = os.listdir() \n",
    "\n",
    "for i in list_all_files:\n",
    "    if i.endswith(\".xml\"):\n",
    "        os.remove(i)\n",
    "        "
   ]
  },
  {
   "cell_type": "code",
   "execution_count": 91,
   "id": "cdb7b5b5",
   "metadata": {},
   "outputs": [
    {
     "data": {
      "text/plain": [
       "['bpt6k1330873c', 'bpt6k1330989k', 'bpt6k1330862k']"
      ]
     },
     "execution_count": 91,
     "metadata": {},
     "output_type": "execute_result"
    }
   ],
   "source": [
    "list_ark"
   ]
  },
  {
   "cell_type": "code",
   "execution_count": null,
   "id": "cff726ff",
   "metadata": {},
   "outputs": [],
   "source": []
  }
 ],
 "metadata": {
  "kernelspec": {
   "display_name": "Python 3 (ipykernel)",
   "language": "python",
   "name": "python3"
  },
  "language_info": {
   "codemirror_mode": {
    "name": "ipython",
    "version": 3
   },
   "file_extension": ".py",
   "mimetype": "text/x-python",
   "name": "python",
   "nbconvert_exporter": "python",
   "pygments_lexer": "ipython3",
   "version": "3.10.0"
  }
 },
 "nbformat": 4,
 "nbformat_minor": 5
}
