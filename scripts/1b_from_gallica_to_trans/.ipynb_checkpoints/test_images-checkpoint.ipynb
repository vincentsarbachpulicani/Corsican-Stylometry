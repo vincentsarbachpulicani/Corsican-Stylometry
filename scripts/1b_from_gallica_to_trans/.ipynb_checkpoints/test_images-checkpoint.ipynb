{
 "cells": [
  {
   "cell_type": "code",
   "execution_count": 1,
   "id": "64edb7e7",
   "metadata": {},
   "outputs": [],
   "source": [
    "import csv\n",
    "import os\n",
    "import urllib3\n",
    "from lxml import etree\n",
    "import re\n",
    "import codecs\n",
    "import sys\n",
    "import xml.etree.ElementTree as ET\n",
    "import pandas as pd\n",
    "import shutil\n",
    "import glob"
   ]
  },
  {
   "cell_type": "code",
   "execution_count": 2,
   "id": "27dad908",
   "metadata": {},
   "outputs": [],
   "source": [
    "from wand.image import Image\n",
    "import cv2\n",
    "import numpy as np"
   ]
  },
  {
   "cell_type": "code",
   "execution_count": 6,
   "id": "e7250821",
   "metadata": {},
   "outputs": [
    {
     "ename": "WandLibraryVersionError",
     "evalue": "Method requires ImageMagick version 7.0.8-41 or greater.",
     "output_type": "error",
     "traceback": [
      "\u001b[0;31m---------------------------------------------------------------------------\u001b[0m",
      "\u001b[0;31mWandLibraryVersionError\u001b[0m                   Traceback (most recent call last)",
      "Cell \u001b[0;32mIn [6], line 4\u001b[0m\n\u001b[1;32m      1\u001b[0m \u001b[38;5;28;01mwith\u001b[39;00m Image(filename \u001b[38;5;241m=\u001b[39m\u001b[38;5;124m'\u001b[39m\u001b[38;5;124mbpt6k13307961_p1.jpg\u001b[39m\u001b[38;5;124m'\u001b[39m) \u001b[38;5;28;01mas\u001b[39;00m img:\n\u001b[1;32m      2\u001b[0m     \u001b[38;5;66;03m# Clone the image in order to process\u001b[39;00m\n\u001b[1;32m      3\u001b[0m     \u001b[38;5;28;01mwith\u001b[39;00m img\u001b[38;5;241m.\u001b[39mclone() \u001b[38;5;28;01mas\u001b[39;00m otsu:\n\u001b[0;32m----> 4\u001b[0m         \u001b[43motsu\u001b[49m\u001b[38;5;241;43m.\u001b[39;49m\u001b[43mauto_threshold\u001b[49m\u001b[43m(\u001b[49m\u001b[43mmethod\u001b[49m\u001b[38;5;241;43m=\u001b[39;49m\u001b[38;5;124;43m'\u001b[39;49m\u001b[38;5;124;43motsu\u001b[39;49m\u001b[38;5;124;43m'\u001b[39;49m\u001b[43m)\u001b[49m\n\u001b[1;32m      5\u001b[0m         otsu\u001b[38;5;241m.\u001b[39msave(filename\u001b[38;5;241m=\u001b[39m\u001b[38;5;124m'\u001b[39m\u001b[38;5;124mthreshold_auto_otsu.jpg\u001b[39m\u001b[38;5;124m'\u001b[39m)\n",
      "File \u001b[0;32m~/miniconda3/envs/hn/lib/python3.9/site-packages/wand/image.py:1102\u001b[0m, in \u001b[0;36mmanipulative.<locals>.wrapped\u001b[0;34m(self, *args, **kwargs)\u001b[0m\n\u001b[1;32m   1100\u001b[0m \u001b[38;5;129m@functools\u001b[39m\u001b[38;5;241m.\u001b[39mwraps(function)\n\u001b[1;32m   1101\u001b[0m \u001b[38;5;28;01mdef\u001b[39;00m \u001b[38;5;21mwrapped\u001b[39m(\u001b[38;5;28mself\u001b[39m, \u001b[38;5;241m*\u001b[39margs, \u001b[38;5;241m*\u001b[39m\u001b[38;5;241m*\u001b[39mkwargs):\n\u001b[0;32m-> 1102\u001b[0m     result \u001b[38;5;241m=\u001b[39m \u001b[43mfunction\u001b[49m\u001b[43m(\u001b[49m\u001b[38;5;28;43mself\u001b[39;49m\u001b[43m,\u001b[49m\u001b[43m \u001b[49m\u001b[38;5;241;43m*\u001b[39;49m\u001b[43margs\u001b[49m\u001b[43m,\u001b[49m\u001b[43m \u001b[49m\u001b[38;5;241;43m*\u001b[39;49m\u001b[38;5;241;43m*\u001b[39;49m\u001b[43mkwargs\u001b[49m\u001b[43m)\u001b[49m\n\u001b[1;32m   1103\u001b[0m     \u001b[38;5;28mself\u001b[39m\u001b[38;5;241m.\u001b[39mdirty \u001b[38;5;241m=\u001b[39m \u001b[38;5;28;01mTrue\u001b[39;00m\n\u001b[1;32m   1104\u001b[0m     \u001b[38;5;28;01mreturn\u001b[39;00m result\n",
      "File \u001b[0;32m~/miniconda3/envs/hn/lib/python3.9/site-packages/wand/image.py:1111\u001b[0m, in \u001b[0;36mtrap_exception.<locals>.wrapped\u001b[0;34m(self, *args, **kwargs)\u001b[0m\n\u001b[1;32m   1109\u001b[0m \u001b[38;5;129m@functools\u001b[39m\u001b[38;5;241m.\u001b[39mwraps(function)\n\u001b[1;32m   1110\u001b[0m \u001b[38;5;28;01mdef\u001b[39;00m \u001b[38;5;21mwrapped\u001b[39m(\u001b[38;5;28mself\u001b[39m, \u001b[38;5;241m*\u001b[39margs, \u001b[38;5;241m*\u001b[39m\u001b[38;5;241m*\u001b[39mkwargs):\n\u001b[0;32m-> 1111\u001b[0m     result \u001b[38;5;241m=\u001b[39m \u001b[43mfunction\u001b[49m\u001b[43m(\u001b[49m\u001b[38;5;28;43mself\u001b[39;49m\u001b[43m,\u001b[49m\u001b[43m \u001b[49m\u001b[38;5;241;43m*\u001b[39;49m\u001b[43margs\u001b[49m\u001b[43m,\u001b[49m\u001b[43m \u001b[49m\u001b[38;5;241;43m*\u001b[39;49m\u001b[38;5;241;43m*\u001b[39;49m\u001b[43mkwargs\u001b[49m\u001b[43m)\u001b[49m\n\u001b[1;32m   1112\u001b[0m     \u001b[38;5;28;01mif\u001b[39;00m \u001b[38;5;129;01mnot\u001b[39;00m \u001b[38;5;28mbool\u001b[39m(result):\n\u001b[1;32m   1113\u001b[0m         \u001b[38;5;28mself\u001b[39m\u001b[38;5;241m.\u001b[39mraise_exception()\n",
      "File \u001b[0;32m~/miniconda3/envs/hn/lib/python3.9/site-packages/wand/image.py:3024\u001b[0m, in \u001b[0;36mBaseImage.auto_threshold\u001b[0;34m(self, method)\u001b[0m\n\u001b[1;32m   3022\u001b[0m \u001b[38;5;28;01mif\u001b[39;00m library\u001b[38;5;241m.\u001b[39mMagickAutoThresholdImage \u001b[38;5;129;01mis\u001b[39;00m \u001b[38;5;28;01mNone\u001b[39;00m:\n\u001b[1;32m   3023\u001b[0m     msg \u001b[38;5;241m=\u001b[39m \u001b[38;5;124m'\u001b[39m\u001b[38;5;124mMethod requires ImageMagick version 7.0.8-41 or greater.\u001b[39m\u001b[38;5;124m'\u001b[39m\n\u001b[0;32m-> 3024\u001b[0m     \u001b[38;5;28;01mraise\u001b[39;00m WandLibraryVersionError(msg)\n\u001b[1;32m   3025\u001b[0m assertions\u001b[38;5;241m.\u001b[39mstring_in_list(AUTO_THRESHOLD_METHODS,\n\u001b[1;32m   3026\u001b[0m                           \u001b[38;5;124m'\u001b[39m\u001b[38;5;124mwand.image.AUTO_THRESHOLD_METHODS\u001b[39m\u001b[38;5;124m'\u001b[39m,\n\u001b[1;32m   3027\u001b[0m                           method\u001b[38;5;241m=\u001b[39mmethod)\n\u001b[1;32m   3028\u001b[0m method_idx \u001b[38;5;241m=\u001b[39m AUTO_THRESHOLD_METHODS\u001b[38;5;241m.\u001b[39mindex(method)\n",
      "\u001b[0;31mWandLibraryVersionError\u001b[0m: Method requires ImageMagick version 7.0.8-41 or greater."
     ]
    }
   ],
   "source": [
    "with Image(filename ='bpt6k13307961_p1.jpg') as img:\n",
    "    # Clone the image in order to process\n",
    "    with img.clone() as otsu:\n",
    "        otsu.auto_threshold(method='otsu')\n",
    "        otsu.save(filename='threshold_auto_otsu.jpg')"
   ]
  },
  {
   "cell_type": "code",
   "execution_count": 9,
   "id": "4ba67fca",
   "metadata": {},
   "outputs": [
    {
     "name": "stdout",
     "output_type": "stream",
     "text": [
      "\u001b[31mERROR: Could not find a version that satisfies the requirement ImageMagick-7 (from versions: none)\u001b[0m\u001b[31m\r\n",
      "\u001b[0m\u001b[31mERROR: No matching distribution found for ImageMagick-7\u001b[0m\u001b[31m\r\n",
      "\u001b[0m"
     ]
    }
   ],
   "source": [
    "!pip install ImageMagick-7"
   ]
  },
  {
   "cell_type": "code",
   "execution_count": null,
   "id": "7b7bb566",
   "metadata": {},
   "outputs": [],
   "source": []
  }
 ],
 "metadata": {
  "kernelspec": {
   "display_name": "Python 3 (ipykernel)",
   "language": "python",
   "name": "python3"
  },
  "language_info": {
   "codemirror_mode": {
    "name": "ipython",
    "version": 3
   },
   "file_extension": ".py",
   "mimetype": "text/x-python",
   "name": "python",
   "nbconvert_exporter": "python",
   "pygments_lexer": "ipython3",
   "version": "3.9.13"
  }
 },
 "nbformat": 4,
 "nbformat_minor": 5
}
