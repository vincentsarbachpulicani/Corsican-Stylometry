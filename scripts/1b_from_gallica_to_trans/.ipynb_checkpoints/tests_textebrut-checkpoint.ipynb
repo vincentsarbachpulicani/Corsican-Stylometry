{
 "cells": [
  {
   "cell_type": "code",
   "execution_count": 1,
   "id": "2c9980e2",
   "metadata": {},
   "outputs": [],
   "source": [
    "import csv\n",
    "import os\n",
    "import urllib3\n",
    "from lxml import etree\n",
    "import re\n",
    "import codecs\n",
    "import sys\n",
    "import xml.etree.ElementTree as ET"
   ]
  },
  {
   "cell_type": "code",
   "execution_count": 2,
   "id": "d4704225",
   "metadata": {},
   "outputs": [],
   "source": [
    "list_ark = ['bpt6k13307768', 'bpt6k1330777p'] # temporaire\n",
    "folio = ['1','2','3','4'] # temporaire"
   ]
  },
  {
   "cell_type": "code",
   "execution_count": 3,
   "id": "7c841735",
   "metadata": {},
   "outputs": [],
   "source": [
    "def download_alto_file(i, n):  # création d'une fonction pour récupérer les fichiers ALTO fournis par Gallica\n",
    "    http = urllib3.PoolManager() \n",
    "    request = http.request('GET', \"https://gallica.bnf.fr/RequestDigitalElement?O=\" + i + \"&E=ALTO&Deb=\" + n) \n",
    "    xml = request.data\n",
    "    filename = i + '_' + \"test_alto_\" + n +\".xml\"\n",
    "    with open(filename, \"wb\") as f:\n",
    "        f.write(xml)"
   ]
  },
  {
   "cell_type": "code",
   "execution_count": 4,
   "id": "39471ea2",
   "metadata": {},
   "outputs": [
    {
     "name": "stderr",
     "output_type": "stream",
     "text": [
      "/home/vsp/miniconda3/envs/hn/lib/python3.10/site-packages/urllib3/connectionpool.py:842: InsecureRequestWarning: Unverified HTTPS request is being made. Adding certificate verification is strongly advised. See: https://urllib3.readthedocs.io/en/latest/advanced-usage.html#ssl-warnings\n",
      "  warnings.warn((\n",
      "/home/vsp/miniconda3/envs/hn/lib/python3.10/site-packages/urllib3/connectionpool.py:842: InsecureRequestWarning: Unverified HTTPS request is being made. Adding certificate verification is strongly advised. See: https://urllib3.readthedocs.io/en/latest/advanced-usage.html#ssl-warnings\n",
      "  warnings.warn((\n",
      "/home/vsp/miniconda3/envs/hn/lib/python3.10/site-packages/urllib3/connectionpool.py:842: InsecureRequestWarning: Unverified HTTPS request is being made. Adding certificate verification is strongly advised. See: https://urllib3.readthedocs.io/en/latest/advanced-usage.html#ssl-warnings\n",
      "  warnings.warn((\n",
      "/home/vsp/miniconda3/envs/hn/lib/python3.10/site-packages/urllib3/connectionpool.py:842: InsecureRequestWarning: Unverified HTTPS request is being made. Adding certificate verification is strongly advised. See: https://urllib3.readthedocs.io/en/latest/advanced-usage.html#ssl-warnings\n",
      "  warnings.warn((\n",
      "/home/vsp/miniconda3/envs/hn/lib/python3.10/site-packages/urllib3/connectionpool.py:842: InsecureRequestWarning: Unverified HTTPS request is being made. Adding certificate verification is strongly advised. See: https://urllib3.readthedocs.io/en/latest/advanced-usage.html#ssl-warnings\n",
      "  warnings.warn((\n",
      "/home/vsp/miniconda3/envs/hn/lib/python3.10/site-packages/urllib3/connectionpool.py:842: InsecureRequestWarning: Unverified HTTPS request is being made. Adding certificate verification is strongly advised. See: https://urllib3.readthedocs.io/en/latest/advanced-usage.html#ssl-warnings\n",
      "  warnings.warn((\n",
      "/home/vsp/miniconda3/envs/hn/lib/python3.10/site-packages/urllib3/connectionpool.py:842: InsecureRequestWarning: Unverified HTTPS request is being made. Adding certificate verification is strongly advised. See: https://urllib3.readthedocs.io/en/latest/advanced-usage.html#ssl-warnings\n",
      "  warnings.warn((\n",
      "/home/vsp/miniconda3/envs/hn/lib/python3.10/site-packages/urllib3/connectionpool.py:842: InsecureRequestWarning: Unverified HTTPS request is being made. Adding certificate verification is strongly advised. See: https://urllib3.readthedocs.io/en/latest/advanced-usage.html#ssl-warnings\n",
      "  warnings.warn((\n"
     ]
    }
   ],
   "source": [
    "for i in list_ark: # boucle utilisant la fonction \n",
    "    for y in folio:\n",
    "        download_alto_file(i, y)"
   ]
  },
  {
   "cell_type": "code",
   "execution_count": 5,
   "id": "bcb1e578",
   "metadata": {},
   "outputs": [
    {
     "data": {
      "text/plain": [
       "['bpt6k13307768_test_alto_1.xml',\n",
       " 'bpt6k13307768_test_alto_2.xml',\n",
       " 'bpt6k13307768_test_alto_3.xml',\n",
       " 'bpt6k13307768_test_alto_4.xml',\n",
       " 'bpt6k1330777p_test_alto_1.xml',\n",
       " 'bpt6k1330777p_test_alto_2.xml',\n",
       " 'bpt6k1330777p_test_alto_3.xml',\n",
       " 'bpt6k1330777p_test_alto_4.xml']"
      ]
     },
     "execution_count": 5,
     "metadata": {},
     "output_type": "execute_result"
    }
   ],
   "source": [
    "# Isoler tous les fichiers XML du dossier\n",
    "\n",
    "list_all_files = os.listdir() \n",
    "\n",
    "list_xml_files = []\n",
    "\n",
    "for i in list_all_files:\n",
    "    if i.endswith(\".xml\"):\n",
    "        list_xml_files.append(i)\n",
    "        \n",
    "list_xml_files.sort()\n",
    "list_xml_files"
   ]
  },
  {
   "cell_type": "code",
   "execution_count": 6,
   "id": "bae342d2",
   "metadata": {},
   "outputs": [
    {
     "name": "stdout",
     "output_type": "stream",
     "text": [
      "File name : bpt6k13307768_test_alto_1.xml\n",
      "File name : bpt6k13307768_test_alto_2.xml\n",
      "File name : bpt6k13307768_test_alto_3.xml\n",
      "File name : bpt6k13307768_test_alto_4.xml\n",
      "File name : bpt6k1330777p_test_alto_1.xml\n",
      "File name : bpt6k1330777p_test_alto_2.xml\n",
      "File name : bpt6k1330777p_test_alto_3.xml\n",
      "File name : bpt6k1330777p_test_alto_4.xml\n"
     ]
    }
   ],
   "source": [
    "n = 0\n",
    "\n",
    "for ark in list_ark:\n",
    "    for f in list_xml_files:\n",
    "        if f.startswith(ark):\n",
    "            print(\"File name : \" + f)\n",
    "            os.system('python alto-ocr-txt.py ' + f)\n",
    "            os.rename(\"alto_to_text.txt\", ark + \"_\" + str(n) + \".txt\")\n",
    "            n = n + 1\n",
    "            os.remove(f)"
   ]
  },
  {
   "cell_type": "code",
   "execution_count": 7,
   "id": "e4ef09b0",
   "metadata": {},
   "outputs": [
    {
     "data": {
      "text/plain": [
       "['bpt6k13307768_0.txt',\n",
       " 'bpt6k13307768_1.txt',\n",
       " 'bpt6k13307768_2.txt',\n",
       " 'bpt6k13307768_3.txt',\n",
       " 'bpt6k1330777p_4.txt',\n",
       " 'bpt6k1330777p_5.txt',\n",
       " 'bpt6k1330777p_6.txt',\n",
       " 'bpt6k1330777p_7.txt']"
      ]
     },
     "execution_count": 7,
     "metadata": {},
     "output_type": "execute_result"
    }
   ],
   "source": [
    "list_all_files = os.listdir()\n",
    "\n",
    "list_txt_files = []\n",
    "for i in list_all_files:\n",
    "    if i.endswith(\".txt\"):\n",
    "        list_txt_files.append(i)\n",
    "list_txt_files.sort()\n",
    "list_txt_files"
   ]
  },
  {
   "cell_type": "code",
   "execution_count": 8,
   "id": "9e45abce",
   "metadata": {},
   "outputs": [],
   "source": [
    "for ark in list_ark:\n",
    "    with open(ark + '.txt', 'w') as outfile:\n",
    "        for f in list_txt_files:\n",
    "            if f.startswith(ark):\n",
    "                with open(f) as infile:\n",
    "                    outfile.write(infile.read())\n",
    "                os.remove(f)"
   ]
  },
  {
   "cell_type": "code",
   "execution_count": null,
   "id": "1dba4e40",
   "metadata": {},
   "outputs": [],
   "source": []
  }
 ],
 "metadata": {
  "kernelspec": {
   "display_name": "Python 3 (ipykernel)",
   "language": "python",
   "name": "python3"
  },
  "language_info": {
   "codemirror_mode": {
    "name": "ipython",
    "version": 3
   },
   "file_extension": ".py",
   "mimetype": "text/x-python",
   "name": "python",
   "nbconvert_exporter": "python",
   "pygments_lexer": "ipython3",
   "version": "3.10.0"
  }
 },
 "nbformat": 4,
 "nbformat_minor": 5
}
