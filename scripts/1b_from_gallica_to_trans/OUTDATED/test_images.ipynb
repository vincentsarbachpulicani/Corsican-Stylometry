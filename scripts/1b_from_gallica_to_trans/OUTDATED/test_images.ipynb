{
 "cells": [
  {
   "cell_type": "code",
   "execution_count": 1,
   "id": "64edb7e7",
   "metadata": {},
   "outputs": [],
   "source": [
    "import csv\n",
    "import os\n",
    "import urllib3\n",
    "from lxml import etree\n",
    "import re\n",
    "import codecs\n",
    "import sys\n",
    "import xml.etree.ElementTree as ET\n",
    "import pandas as pd\n",
    "import shutil\n",
    "import glob"
   ]
  },
  {
   "cell_type": "code",
   "execution_count": 2,
   "id": "27dad908",
   "metadata": {},
   "outputs": [],
   "source": [
    "from wand.image import Image\n",
    "import cv2\n",
    "import numpy as np"
   ]
  },
  {
   "cell_type": "code",
   "execution_count": 3,
   "id": "e7250821",
   "metadata": {},
   "outputs": [],
   "source": [
    "#Thresholding\n",
    "\n",
    "with Image(filename ='bpt6k13307961_p1.jpg') as img:\n",
    "    with img.clone() as otsu:\n",
    "        otsu.auto_threshold(method='otsu')\n",
    "        otsu.save(filename='threshold_auto_otsu.jpg')"
   ]
  },
  {
   "cell_type": "code",
   "execution_count": 5,
   "id": "4ba67fca",
   "metadata": {},
   "outputs": [],
   "source": [
    "#Despeckling\n",
    "\n",
    "with Image(filename='threshold_auto_otsu.jpg') as img:\n",
    "    img.despeckle()\n",
    "    img.save(filename=\"threshold_otsu_despeckle.jpg\")"
   ]
  },
  {
   "cell_type": "code",
   "execution_count": null,
   "id": "7b7bb566",
   "metadata": {},
   "outputs": [],
   "source": []
  }
 ],
 "metadata": {
  "kernelspec": {
   "display_name": "Python 3 (ipykernel)",
   "language": "python",
   "name": "python3"
  },
  "language_info": {
   "codemirror_mode": {
    "name": "ipython",
    "version": 3
   },
   "file_extension": ".py",
   "mimetype": "text/x-python",
   "name": "python",
   "nbconvert_exporter": "python",
   "pygments_lexer": "ipython3",
   "version": "3.9.13"
  }
 },
 "nbformat": 4,
 "nbformat_minor": 5
}
