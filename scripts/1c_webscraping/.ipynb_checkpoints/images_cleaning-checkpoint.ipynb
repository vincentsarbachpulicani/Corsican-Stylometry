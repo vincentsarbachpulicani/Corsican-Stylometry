{
 "cells": [
  {
   "cell_type": "code",
   "execution_count": 2,
   "id": "917384fd",
   "metadata": {},
   "outputs": [],
   "source": [
    "from wand.image import Image\n",
    "import glob"
   ]
  },
  {
   "cell_type": "code",
   "execution_count": 3,
   "id": "8f926330",
   "metadata": {},
   "outputs": [],
   "source": [
    "original = glob.glob(\"./Muvra/1922/original/*.jpeg\")"
   ]
  },
  {
   "cell_type": "code",
   "execution_count": 6,
   "id": "ec096b01",
   "metadata": {},
   "outputs": [],
   "source": [
    "n = 0\n",
    "for image in original:\n",
    "    with Image(filename = image) as img:\n",
    "        img.despeckle()\n",
    "        img.save(filename = image)"
   ]
  },
  {
   "cell_type": "code",
   "execution_count": 1,
   "id": "3947b103",
   "metadata": {},
   "outputs": [
    {
     "name": "stdout",
     "output_type": "stream",
     "text": [
      "Collecting cloudmersive-image-api-client\n",
      "  Downloading cloudmersive_image_api_client-3.0.1.tar.gz (53 kB)\n",
      "\u001b[2K     \u001b[38;2;114;156;31m━━━━━━━━━━━━━━━━━━━━━━━━━━━━━━━━━━━━━━━━\u001b[0m \u001b[32m54.0/54.0 kB\u001b[0m \u001b[31m1.9 MB/s\u001b[0m eta \u001b[36m0:00:00\u001b[0m\n",
      "\u001b[?25h  Preparing metadata (setup.py) ... \u001b[?25ldone\n",
      "\u001b[?25hRequirement already satisfied: certifi>=2017.4.17 in /home/vincent/miniconda3/envs/hn/lib/python3.9/site-packages (from cloudmersive-image-api-client) (2022.9.14)\n",
      "Requirement already satisfied: python-dateutil>=2.1 in /home/vincent/miniconda3/envs/hn/lib/python3.9/site-packages (from cloudmersive-image-api-client) (2.8.2)\n",
      "Requirement already satisfied: six>=1.10 in /home/vincent/miniconda3/envs/hn/lib/python3.9/site-packages (from cloudmersive-image-api-client) (1.16.0)\n",
      "Requirement already satisfied: urllib3>=1.23 in /home/vincent/miniconda3/envs/hn/lib/python3.9/site-packages (from cloudmersive-image-api-client) (1.26.12)\n",
      "Building wheels for collected packages: cloudmersive-image-api-client\n",
      "  Building wheel for cloudmersive-image-api-client (setup.py) ... \u001b[?25ldone\n",
      "\u001b[?25h  Created wheel for cloudmersive-image-api-client: filename=cloudmersive_image_api_client-3.0.1-py3-none-any.whl size=131164 sha256=3e0b7684a53f7851950752a37b5c842ea4820d711331488f0b2c2a9a95b3c983\n",
      "  Stored in directory: /home/vincent/.cache/pip/wheels/05/0b/8a/a2cfeb024eee3c288aa3878e8fbc7672e55b350407273e96eb\n",
      "Successfully built cloudmersive-image-api-client\n",
      "Installing collected packages: cloudmersive-image-api-client\n",
      "Successfully installed cloudmersive-image-api-client-3.0.1\n"
     ]
    }
   ],
   "source": [
    "!pip install cloudmersive-image-api-client"
   ]
  },
  {
   "cell_type": "code",
   "execution_count": null,
   "id": "eb61320d",
   "metadata": {},
   "outputs": [],
   "source": []
  }
 ],
 "metadata": {
  "kernelspec": {
   "display_name": "Python 3 (ipykernel)",
   "language": "python",
   "name": "python3"
  },
  "language_info": {
   "codemirror_mode": {
    "name": "ipython",
    "version": 3
   },
   "file_extension": ".py",
   "mimetype": "text/x-python",
   "name": "python",
   "nbconvert_exporter": "python",
   "pygments_lexer": "ipython3",
   "version": "3.9.13"
  }
 },
 "nbformat": 4,
 "nbformat_minor": 5
}
