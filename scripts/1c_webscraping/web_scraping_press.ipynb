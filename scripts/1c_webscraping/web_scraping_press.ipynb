{
 "cells": [
  {
   "cell_type": "code",
   "execution_count": 1,
   "id": "01e09603",
   "metadata": {},
   "outputs": [],
   "source": [
    "import requests"
   ]
  },
  {
   "cell_type": "raw",
   "id": "7a51cac4",
   "metadata": {},
   "source": [
    "img_data = requests.get(\"http://archives.isula.corsica/GEDTHOT5/PROD/PRESSE1/148PER/FRAD02A_148PER/FRAD02A_148PER_000001/FRAD02A_148PER_000001_03/FRAD02A_148PER_000001_03_0002.jpg\").content"
   ]
  },
  {
   "cell_type": "raw",
   "id": "57a3acd4",
   "metadata": {},
   "source": [
    "with open('test.jpg', 'wb') as handler:\n",
    "    handler.write(img_data)"
   ]
  },
  {
   "cell_type": "code",
   "execution_count": 2,
   "id": "e9bbf818",
   "metadata": {},
   "outputs": [],
   "source": [
    "def web_scraping_images_archivio_storico(year, start, end):\n",
    "    for i in range(start, end):\n",
    "        if i < 10:\n",
    "            img_data = requests.get(f\"http://digitale.bnc.roma.sbn.it/tecadigitale/img/giornale/RML0024166/{year}/unico/00000{'00'+str(i)}/full\").content\n",
    "        elif i > 99:\n",
    "            img_data = requests.get(f\"http://digitale.bnc.roma.sbn.it/tecadigitale/img/giornale/RML0024166/{year}/unico/00000{str(i)}/full\").content\n",
    "        else:\n",
    "            img_data = requests.get(f\"http://digitale.bnc.roma.sbn.it/tecadigitale/img/giornale/RML0024166/{year}/unico/00000{'0'+str(i)}/full\").content\n",
    "        with open(f'./Archivio/{year}/page_{i}.jpeg', 'wb') as handler:\n",
    "            handler.write(img_data)"
   ]
  },
  {
   "cell_type": "raw",
   "id": "18884831",
   "metadata": {},
   "source": [
    "web_scraping_images_archivio_storico(year='1925', start=9, end=456)"
   ]
  },
  {
   "cell_type": "code",
   "execution_count": 3,
   "id": "7485772e",
   "metadata": {},
   "outputs": [],
   "source": [
    "def web_scraping_images_muvra(PER, ID, year, start, end):\n",
    "    for i in range(start, end):\n",
    "        if i < 10:\n",
    "            img_data = requests.get(f\"http://archives.isula.corsica/GEDTHOT5/PROD/PRESSE1/148PER/FRAD02A_148PER/FRAD02A_148PER_00000{PER}/FRAD02A_148PER_00000{PER}_0{ID}/FRAD02A_148PER_00000{PER}_0{ID}_0{'00'+str(i)}.jpg\").content\n",
    "        elif i > 99:\n",
    "            img_data = requests.get(f\"http://archives.isula.corsica/GEDTHOT5/PROD/PRESSE1/148PER/FRAD02A_148PER/FRAD02A_148PER_00000{PER}/FRAD02A_148PER_00000{PER}_0{ID}/FRAD02A_148PER_00000{PER}_0{ID}_0{str(i)}.jpg\").content\n",
    "        else:\n",
    "            img_data = requests.get(f\"http://archives.isula.corsica/GEDTHOT5/PROD/PRESSE1/148PER/FRAD02A_148PER/FRAD02A_148PER_00000{PER}/FRAD02A_148PER_00000{PER}_0{ID}/FRAD02A_148PER_00000{PER}_0{ID}_0{'0'+str(i)}.jpg\").content\n",
    "        with open(f'./Muvra/{year}/page_{i}.jpeg', 'wb') as handler:\n",
    "            handler.write(img_data)"
   ]
  },
  {
   "cell_type": "code",
   "execution_count": 5,
   "id": "8fde4f75",
   "metadata": {},
   "outputs": [],
   "source": [
    "web_scraping_images_muvra(PER='1', ID='2', year='1921', start=1, end=25)"
   ]
  },
  {
   "cell_type": "code",
   "execution_count": null,
   "id": "06dd63cc",
   "metadata": {},
   "outputs": [],
   "source": []
  }
 ],
 "metadata": {
  "kernelspec": {
   "display_name": "Python 3 (ipykernel)",
   "language": "python",
   "name": "python3"
  },
  "language_info": {
   "codemirror_mode": {
    "name": "ipython",
    "version": 3
   },
   "file_extension": ".py",
   "mimetype": "text/x-python",
   "name": "python",
   "nbconvert_exporter": "python",
   "pygments_lexer": "ipython3",
   "version": "3.9.13"
  }
 },
 "nbformat": 4,
 "nbformat_minor": 5
}
