{
 "cells": [
  {
   "cell_type": "code",
   "execution_count": 1,
   "id": "b2c431ef",
   "metadata": {},
   "outputs": [],
   "source": [
    "import xml.etree.ElementTree as ET\n",
    "import pandas as pd\n",
    "from langdetect import detect\n",
    "import os\n",
    "import re\n",
    "import liste_muvra\n",
    "from lxml import etree\n",
    "import bs4 as bs\n",
    "import glob\n",
    "import shutil"
   ]
  },
  {
   "cell_type": "markdown",
   "id": "b2ca605e",
   "metadata": {},
   "source": [
    "### Listage des fichiers TXT et transformation en fichiers XML"
   ]
  },
  {
   "cell_type": "code",
   "execution_count": 2,
   "id": "d6a27d7a",
   "metadata": {},
   "outputs": [],
   "source": [
    "parent = os.getcwd()"
   ]
  },
  {
   "cell_type": "code",
   "execution_count": 3,
   "id": "df2fb5aa",
   "metadata": {},
   "outputs": [],
   "source": [
    "list_files = glob.glob(\"./text_section/*.txt\")"
   ]
  },
  {
   "cell_type": "code",
   "execution_count": 4,
   "id": "b79c2418",
   "metadata": {},
   "outputs": [],
   "source": [
    "for file in list_files:\n",
    "    with open(file, 'r') as f :\n",
    "        t = f.readlines()\n",
    "    t = ''.join(t)\n",
    "    t = re.sub(r\"^\\n\", r\"\", t)\n",
    "    t = re.sub(r\"-\\n\", r\"\", t)\n",
    "    t = re.sub(r\"\\n\", r\" \", t)\n",
    "    t = re.sub(r\" <section> \", r\"\\n\", t)\n",
    "    t = re.sub(r\"<section> \", r\"\", t)\n",
    "    with open(file, 'w') as f :\n",
    "        f.write(t)"
   ]
  },
  {
   "cell_type": "code",
   "execution_count": 5,
   "id": "edb854d2",
   "metadata": {},
   "outputs": [
    {
     "name": "stdout",
     "output_type": "stream",
     "text": [
      "./text_section/bpt6k13309974.txt\n",
      "./text_section/bpt6k13309744.txt\n",
      "./text_section/bpt6k13309514.txt\n",
      "./text_section/bpt6k13309818.txt\n",
      "./text_section/bpt6k13309655.txt\n",
      "./text_section/bpt6k13309351.txt\n",
      "./text_section/bpt6k13309247.txt\n",
      "./text_section/bpt6k13309959.txt\n",
      "./text_section/bpt6k13309670.txt\n",
      "./text_section/bpt6k13309566.txt\n"
     ]
    }
   ],
   "source": [
    "list_aut_str = liste_muvra.auteurs_muvra\n",
    "list_regiolect = liste_muvra.regiolectes\n",
    "for file in list_files:\n",
    "    with open(file, \"r\") as f:\n",
    "        text = f.readlines()\n",
    "    print(file)\n",
    "    lang = []\n",
    "    for i in text:\n",
    "        l = detect(i)\n",
    "        if l == 'ro' or l == 'ca':\n",
    "            lang.append('co')\n",
    "        elif l == 'it':\n",
    "            test = i.split()\n",
    "            count_u = test.count('u')\n",
    "            count_il = test.count('il')\n",
    "            if count_il > count_u:\n",
    "                lang.append(l)\n",
    "            else:\n",
    "                lang.append('co')\n",
    "        else:\n",
    "            lang.append(l)\n",
    "    \n",
    "    \n",
    "    aut = []\n",
    "    for t in text:\n",
    "        t = re.sub(r\"’\", r\"'\",t)\n",
    "        dic = {}\n",
    "        for i in list_aut_str:\n",
    "            if i in t[-70:]:\n",
    "                dic[i] = 1\n",
    "            else:\n",
    "                dic[i] = 0\n",
    "        if 1 in dic.values():\n",
    "            aut.append(list(dic.keys())[list(dic.values()).index(1)])\n",
    "        else:\n",
    "            aut.append('Inconnu')\n",
    "\n",
    "    typ = []\n",
    "    list_rub = ['art','let','poe','div','the','cha','feu','his','trd']\n",
    "    for t in text:\n",
    "        dic = {}\n",
    "        for i in list_rub:\n",
    "            if i in t[-5:]:\n",
    "                dic[i] = 1\n",
    "            else:\n",
    "                dic[i] = 0\n",
    "        if 1 in dic.values():\n",
    "            typ.append(list(dic.keys())[list(dic.values()).index(1)])\n",
    "        else:\n",
    "            typ.append('Non défini')\n",
    "\n",
    "    reg = []\n",
    "    for r in text:\n",
    "        dic = {}\n",
    "        for i in list_regiolect:\n",
    "            if i in r[-100:]:\n",
    "                dic[i] = 1\n",
    "            else:\n",
    "                dic[i] = 0\n",
    "        if 1 in dic.values():\n",
    "            reg.append(list(dic.keys())[list(dic.values()).index(1)])\n",
    "        else:\n",
    "            reg.append('Inconnu')\n",
    "            \n",
    "    df = pd.DataFrame([text,lang,aut,typ,reg]).T\n",
    "    df.columns = ['texte','langue','auteur','type','regiolecte']\n",
    "    xml = df.to_xml()\n",
    "    myre = '(bpt\\w{7,10})'\n",
    "    if re.search(myre, file):\n",
    "        nfile = re.search(myre, file).group(1)\n",
    "    with open(nfile + '.xml', \"w+\") as f:\n",
    "        f.write(xml)"
   ]
  },
  {
   "cell_type": "markdown",
   "id": "f8063269",
   "metadata": {},
   "source": [
    "### Modification des balises XML pour qu'elles correspondent à nos standards"
   ]
  },
  {
   "cell_type": "code",
   "execution_count": 6,
   "id": "589e11e8",
   "metadata": {},
   "outputs": [],
   "source": [
    "list_xml_files = glob.glob(\"*.xml\")"
   ]
  },
  {
   "cell_type": "code",
   "execution_count": 7,
   "id": "b14b8ff4",
   "metadata": {},
   "outputs": [],
   "source": [
    "for file in list_xml_files:\n",
    "    xml_file = ET.parse(file)\n",
    "    rootElement = xml_file.getroot()\n",
    "    for element in rootElement.iter('data'):\n",
    "        element.tag = 'revue'\n",
    "    for element in rootElement.iter('row'):\n",
    "        element.tag = 'rubrique'\n",
    "    item = rootElement.find(\"rubrique\")\n",
    "    for element in item.iter('rubrique'):\n",
    "        element.tag = 'manchette'\n",
    "    xml_file.write(file)\n"
   ]
  },
  {
   "cell_type": "code",
   "execution_count": 8,
   "id": "0bc01c3f",
   "metadata": {},
   "outputs": [
    {
     "data": {
      "text/plain": [
       "['./text_section/bpt6k13309974.txt',\n",
       " './text_section/bpt6k13309744.txt',\n",
       " './text_section/bpt6k13309514.txt',\n",
       " './text_section/bpt6k13309818.txt',\n",
       " './text_section/bpt6k13309655.txt',\n",
       " './text_section/bpt6k13309351.txt',\n",
       " './text_section/bpt6k13309247.txt',\n",
       " './text_section/bpt6k13309959.txt',\n",
       " './text_section/bpt6k13309670.txt',\n",
       " './text_section/bpt6k13309566.txt']"
      ]
     },
     "execution_count": 8,
     "metadata": {},
     "output_type": "execute_result"
    }
   ],
   "source": [
    "list_files"
   ]
  },
  {
   "cell_type": "code",
   "execution_count": 9,
   "id": "73552df3",
   "metadata": {},
   "outputs": [],
   "source": [
    "for file in list_xml_files: \n",
    "    with open(file, 'r') as f:\n",
    "        content = f.read()\n",
    "    soup = bs.BeautifulSoup(content,'xml')\n",
    "    for tag in soup.find_all(\"langue\"):\n",
    "        tag.parent['lan'] = tag.get_text()\n",
    "    for tag in soup.find_all(\"type\"):\n",
    "        tag.parent['typ'] = tag.get_text()\n",
    "    for tag in soup.find_all(\"regiolecte\"):\n",
    "        cont = tag.get_text()\n",
    "        if re.search(\"Parlata di a Custera\",cont):\n",
    "            tag.parent['regio'] = \"custera\"\n",
    "        elif re.search(\"Parlata balanina\",cont):\n",
    "            tag.parent['regio'] = \"balagna\"\n",
    "        elif re.search(\"Parlatu di a Castagniccia\",cont):\n",
    "            tag.parent['regio'] = \"castagniccia\"\n",
    "        elif re.search(\"Parlata di Sartè\",cont):\n",
    "            tag.parent['regio'] = \"sarte\"\n",
    "        elif re.search(\"Parlata di Levie\",cont):\n",
    "            tag.parent['regio'] = \"levie\"\n",
    "        elif re.search(\"Parlata di Petretu\",cont):\n",
    "            tag.parent['regio'] = \"petretu\"\n",
    "        elif re.search(\"Dialettu aiaccinu\",cont):\n",
    "            tag.parent['regio'] = \"aiaccinu\"\n",
    "        else:\n",
    "            tag.parent['regio'] = \"inc\"\n",
    "    with open(file, 'w') as f:\n",
    "        f.write(soup.prettify())"
   ]
  },
  {
   "cell_type": "code",
   "execution_count": 10,
   "id": "02bbb7e7",
   "metadata": {
    "scrolled": true
   },
   "outputs": [],
   "source": [
    "list_rub = ['art','let','poe','div','the','cha','feu','his','trd']\n",
    "for file in list_xml_files:\n",
    "    with open(file, 'r') as f:\n",
    "        content = f.read()\n",
    "    soup = bs.BeautifulSoup(content,'xml')\n",
    "    for tag in soup.find_all(\"texte\"):\n",
    "        t = tag.get_text()\n",
    "        for i in list_rub:\n",
    "            if i in t[-7:]:\n",
    "                t = re.sub(\" \" + i + r'\\n','', t)\n",
    "        for i in list_aut_str:\n",
    "            if i in t[-30:]:\n",
    "                t = re.sub(\" \" + i,'', t)            \n",
    "        tag.string.replace_with(t)\n",
    "    with open(file, 'w') as f:\n",
    "        f.write(soup.prettify())"
   ]
  },
  {
   "cell_type": "markdown",
   "id": "0e1f5dec",
   "metadata": {},
   "source": [
    "-----"
   ]
  },
  {
   "cell_type": "markdown",
   "id": "5342d71d",
   "metadata": {},
   "source": [
    "### Vérifions que les ficheirs XML traités sont valides avant de les déplacer"
   ]
  },
  {
   "cell_type": "code",
   "execution_count": 11,
   "id": "c5c5bcc3",
   "metadata": {},
   "outputs": [],
   "source": [
    "def parsing_xml_corsican_press(file):\n",
    "    '''\n",
    "    Fonction permettant de parser des XML (avec DTD spécifique), pour retourner des listes de chaque élément.\n",
    "    \n",
    "    Entrée : XML\n",
    "    Sortie : listes\n",
    "    '''\n",
    "\n",
    "    types = []\n",
    "    langue = []\n",
    "    texte = []\n",
    "    auteur = []\n",
    "    fichier = []\n",
    "    regiolecte = []\n",
    "\n",
    "    tree = etree.parse(file)\n",
    "    \n",
    "    for typ in tree.xpath(\"//type/text()\"):\n",
    "        typ = re.sub(r\"\\n \", \"\", typ)\n",
    "        typ = re.sub(r\"\\n\", \"\", typ)\n",
    "        typ = re.sub(r\"  \", \"\", typ)\n",
    "        types.append(typ)\n",
    "        fichier.append(file)\n",
    "\n",
    "    for lan in tree.xpath(\"//langue/text()\"):\n",
    "        lan = re.sub(r\"\\n \", \"\", lan)\n",
    "        lan = re.sub(r\"\\n\", \"\", lan)\n",
    "        lan = re.sub(r\"  \", \"\", lan)\n",
    "        langue.append(lan)\n",
    "\n",
    "    for tex in tree.xpath(\"//texte/text()\"):\n",
    "        tex = re.sub(r\"\\n \", \"\", tex)\n",
    "        tex = re.sub(r\"\\n\", \"\", tex)\n",
    "        texte.append(tex)\n",
    "\n",
    "    for aut in tree.xpath(\"//auteur/text()\"):\n",
    "        aut = re.sub(r\"\\n \", \"\", aut)\n",
    "        aut = re.sub(r\"\\n\", \"\", aut)\n",
    "        aut = re.sub(r\"  \", \"\", aut)\n",
    "        auteur.append(aut)\n",
    "\n",
    "    for reg in tree.xpath(\"//regiolecte/text()\"):\n",
    "        reg = re.sub(r\"\\n \", \"\", reg)\n",
    "        reg = re.sub(r\"\\n\", \"\", reg)\n",
    "        reg = re.sub(r\"  \", \"\", reg)\n",
    "        regiolecte.append(reg)\n",
    "    \n",
    "    \n",
    "    \n",
    "    return auteur, types, langue, texte, regiolecte, fichier"
   ]
  },
  {
   "cell_type": "code",
   "execution_count": 12,
   "id": "3b3764b3",
   "metadata": {},
   "outputs": [
    {
     "name": "stdout",
     "output_type": "stream",
     "text": [
      "bpt6k13309351.xml\n",
      "bpt6k13309566.xml\n",
      "bpt6k13309670.xml\n",
      "bpt6k13309744.xml\n",
      "bpt6k13309959.xml\n",
      "bpt6k13309655.xml\n",
      "bpt6k13309247.xml\n",
      "bpt6k13309514.xml\n",
      "bpt6k13309818.xml\n",
      "bpt6k13309974.xml\n"
     ]
    }
   ],
   "source": [
    "all_author = []\n",
    "all_types = []\n",
    "all_lang = []\n",
    "all_text = []\n",
    "all_regio = []\n",
    "all_file = []\n",
    "\n",
    "for file in list_xml_files:\n",
    "    \n",
    "    print(file)\n",
    "    author, typo, lang, text, regiolecte, fichier = parsing_xml_corsican_press(file)\n",
    "    all_author = all_author + author\n",
    "    all_types = all_types + typo\n",
    "    all_lang = all_lang + lang\n",
    "    all_text = all_text + text\n",
    "    all_regio = all_regio + regiolecte\n",
    "    all_file = all_file + fichier"
   ]
  },
  {
   "cell_type": "code",
   "execution_count": 13,
   "id": "84fe9086",
   "metadata": {},
   "outputs": [
    {
     "data": {
      "text/plain": [
       "138"
      ]
     },
     "execution_count": 13,
     "metadata": {},
     "output_type": "execute_result"
    }
   ],
   "source": [
    "len(all_regio)"
   ]
  },
  {
   "cell_type": "code",
   "execution_count": 14,
   "id": "f2051774",
   "metadata": {},
   "outputs": [],
   "source": [
    "data = {\"Auteur\":all_author, \"Type\":all_types, \"Langue\":all_lang, \"Régiolecte\":all_regio, \"Texte\":all_text, \"Fichier\":all_file}\n",
    "\n",
    "#data['Titre'].append(titre)\n",
    "#data['Auteur'].append(auteur)\n",
    "#data['Type'].append(types)\n",
    "#data['Langue'].append(langue)\n",
    "#data['Texte'].append(texte)\n",
    "\n",
    "df_data = pd.DataFrame.from_dict(data)\n",
    "df_data.to_csv(\"test_donnees.csv\")"
   ]
  },
  {
   "cell_type": "code",
   "execution_count": 15,
   "id": "8724b478",
   "metadata": {},
   "outputs": [
    {
     "data": {
      "text/html": [
       "<div>\n",
       "<style scoped>\n",
       "    .dataframe tbody tr th:only-of-type {\n",
       "        vertical-align: middle;\n",
       "    }\n",
       "\n",
       "    .dataframe tbody tr th {\n",
       "        vertical-align: top;\n",
       "    }\n",
       "\n",
       "    .dataframe thead th {\n",
       "        text-align: right;\n",
       "    }\n",
       "</style>\n",
       "<table border=\"1\" class=\"dataframe\">\n",
       "  <thead>\n",
       "    <tr style=\"text-align: right;\">\n",
       "      <th></th>\n",
       "      <th>Auteur</th>\n",
       "      <th>Type</th>\n",
       "      <th>Langue</th>\n",
       "      <th>Régiolecte</th>\n",
       "      <th>Texte</th>\n",
       "      <th>Fichier</th>\n",
       "    </tr>\n",
       "  </thead>\n",
       "  <tbody>\n",
       "    <tr>\n",
       "      <th>0</th>\n",
       "      <td>Inconnu</td>\n",
       "      <td>div</td>\n",
       "      <td>co</td>\n",
       "      <td>Inconnu</td>\n",
       "      <td>X1 — Numaru 38; _ i Annu ? Esce a Dumenica D...</td>\n",
       "      <td>bpt6k13309351.xml</td>\n",
       "    </tr>\n",
       "    <tr>\n",
       "      <th>1</th>\n",
       "      <td>P. di B.</td>\n",
       "      <td>art</td>\n",
       "      <td>co</td>\n",
       "      <td>Inconnu</td>\n",
       "      <td>Segni di Schiavitù  “C’est un Corsico!\"  E d...</td>\n",
       "      <td>bpt6k13309351.xml</td>\n",
       "    </tr>\n",
       "    <tr>\n",
       "      <th>2</th>\n",
       "      <td>Simonu di San Jorghiu</td>\n",
       "      <td>poe</td>\n",
       "      <td>co</td>\n",
       "      <td>Inconnu</td>\n",
       "      <td>Dopu d'avè invucatu în u so' cori,  Cun un s...</td>\n",
       "      <td>bpt6k13309351.xml</td>\n",
       "    </tr>\n",
       "    <tr>\n",
       "      <th>3</th>\n",
       "      <td>Ghiacintu di Muru</td>\n",
       "      <td>art</td>\n",
       "      <td>co</td>\n",
       "      <td>Inconnu</td>\n",
       "      <td>Parolle di Fede  Semu Noi...  Un pudemu nasc...</td>\n",
       "      <td>bpt6k13309351.xml</td>\n",
       "    </tr>\n",
       "    <tr>\n",
       "      <th>4</th>\n",
       "      <td>Inconnu</td>\n",
       "      <td>div</td>\n",
       "      <td>fr</td>\n",
       "      <td>Inconnu</td>\n",
       "      <td>Opinioni  sopra a Corsica e i Corsi  Entre h...</td>\n",
       "      <td>bpt6k13309351.xml</td>\n",
       "    </tr>\n",
       "    <tr>\n",
       "      <th>...</th>\n",
       "      <td>...</td>\n",
       "      <td>...</td>\n",
       "      <td>...</td>\n",
       "      <td>...</td>\n",
       "      <td>...</td>\n",
       "      <td>...</td>\n",
       "    </tr>\n",
       "    <tr>\n",
       "      <th>133</th>\n",
       "      <td>Saveriu Malaspina</td>\n",
       "      <td>art</td>\n",
       "      <td>co</td>\n",
       "      <td>Inconnu</td>\n",
       "      <td>A nostra Santa Fede  (Catechismu corsu)  (Se...</td>\n",
       "      <td>bpt6k13309974.xml</td>\n",
       "    </tr>\n",
       "    <tr>\n",
       "      <th>134</th>\n",
       "      <td>Ghiuvanni Olivieri</td>\n",
       "      <td>poe</td>\n",
       "      <td>co</td>\n",
       "      <td>Inconnu</td>\n",
       "      <td>A L'ORSU D'OREZZA  D'a valle di Piedicroce, ...</td>\n",
       "      <td>bpt6k13309974.xml</td>\n",
       "    </tr>\n",
       "    <tr>\n",
       "      <th>135</th>\n",
       "      <td>Kyrn</td>\n",
       "      <td>art</td>\n",
       "      <td>fr</td>\n",
       "      <td>Inconnu</td>\n",
       "      <td>L’Affaire d’Alata  JUSTICE!  Dans un tout ré...</td>\n",
       "      <td>bpt6k13309974.xml</td>\n",
       "    </tr>\n",
       "    <tr>\n",
       "      <th>136</th>\n",
       "      <td>Polverinu</td>\n",
       "      <td>poe</td>\n",
       "      <td>co</td>\n",
       "      <td>Inconnu</td>\n",
       "      <td>Nutizie religiose  U nostru amicu, u sgiò ab...</td>\n",
       "      <td>bpt6k13309974.xml</td>\n",
       "    </tr>\n",
       "    <tr>\n",
       "      <th>137</th>\n",
       "      <td>D. Guerrazzi</td>\n",
       "      <td>feu</td>\n",
       "      <td>it</td>\n",
       "      <td>Inconnu</td>\n",
       "      <td>Ora sul finire del 1729 il luogoteFi del gov...</td>\n",
       "      <td>bpt6k13309974.xml</td>\n",
       "    </tr>\n",
       "  </tbody>\n",
       "</table>\n",
       "<p>138 rows × 6 columns</p>\n",
       "</div>"
      ],
      "text/plain": [
       "                     Auteur  Type Langue Régiolecte  \\\n",
       "0                  Inconnu   div     co    Inconnu    \n",
       "1                 P. di B.   art     co    Inconnu    \n",
       "2    Simonu di San Jorghiu   poe     co    Inconnu    \n",
       "3        Ghiacintu di Muru   art     co    Inconnu    \n",
       "4                  Inconnu   div     fr    Inconnu    \n",
       "..                      ...   ...    ...        ...   \n",
       "133      Saveriu Malaspina   art     co    Inconnu    \n",
       "134     Ghiuvanni Olivieri   poe     co    Inconnu    \n",
       "135                   Kyrn   art     fr    Inconnu    \n",
       "136              Polverinu   poe     co    Inconnu    \n",
       "137           D. Guerrazzi   feu     it    Inconnu    \n",
       "\n",
       "                                                 Texte            Fichier  \n",
       "0      X1 — Numaru 38; _ i Annu ? Esce a Dumenica D...  bpt6k13309351.xml  \n",
       "1      Segni di Schiavitù  “C’est un Corsico!\"  E d...  bpt6k13309351.xml  \n",
       "2      Dopu d'avè invucatu în u so' cori,  Cun un s...  bpt6k13309351.xml  \n",
       "3      Parolle di Fede  Semu Noi...  Un pudemu nasc...  bpt6k13309351.xml  \n",
       "4      Opinioni  sopra a Corsica e i Corsi  Entre h...  bpt6k13309351.xml  \n",
       "..                                                 ...                ...  \n",
       "133    A nostra Santa Fede  (Catechismu corsu)  (Se...  bpt6k13309974.xml  \n",
       "134    A L'ORSU D'OREZZA  D'a valle di Piedicroce, ...  bpt6k13309974.xml  \n",
       "135    L’Affaire d’Alata  JUSTICE!  Dans un tout ré...  bpt6k13309974.xml  \n",
       "136    Nutizie religiose  U nostru amicu, u sgiò ab...  bpt6k13309974.xml  \n",
       "137    Ora sul finire del 1729 il luogoteFi del gov...  bpt6k13309974.xml  \n",
       "\n",
       "[138 rows x 6 columns]"
      ]
     },
     "execution_count": 15,
     "metadata": {},
     "output_type": "execute_result"
    }
   ],
   "source": [
    "df_data"
   ]
  },
  {
   "cell_type": "markdown",
   "id": "6d497d99",
   "metadata": {},
   "source": [
    "### Classons les fichiers"
   ]
  },
  {
   "cell_type": "code",
   "execution_count": 16,
   "id": "9df775ee",
   "metadata": {},
   "outputs": [],
   "source": [
    "#for file in glob.glob(\"*.xml\"):\n",
    "#    shutil.move(file, parent + \"/xml/\")"
   ]
  },
  {
   "cell_type": "code",
   "execution_count": null,
   "id": "3c9416fb",
   "metadata": {},
   "outputs": [],
   "source": []
  }
 ],
 "metadata": {
  "kernelspec": {
   "display_name": "Python 3 (ipykernel)",
   "language": "python",
   "name": "python3"
  },
  "language_info": {
   "codemirror_mode": {
    "name": "ipython",
    "version": 3
   },
   "file_extension": ".py",
   "mimetype": "text/x-python",
   "name": "python",
   "nbconvert_exporter": "python",
   "pygments_lexer": "ipython3",
   "version": "3.9.13"
  }
 },
 "nbformat": 4,
 "nbformat_minor": 5
}
