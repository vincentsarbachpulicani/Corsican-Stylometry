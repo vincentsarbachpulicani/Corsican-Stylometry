{
 "cells": [
  {
   "cell_type": "code",
   "execution_count": 1,
   "id": "47e5fb00",
   "metadata": {},
   "outputs": [],
   "source": [
    "import csv\n",
    "import os\n",
    "import urllib3\n",
    "import re\n",
    "import codecs\n",
    "import sys\n",
    "import lxml.etree as ET\n",
    "import pandas as pd\n",
    "import shutil\n",
    "import glob\n",
    "from bs4 import BeautifulSoup as bs\n",
    "from io import StringIO\n"
   ]
  },
  {
   "cell_type": "markdown",
   "id": "37bcd8e7",
   "metadata": {},
   "source": [
    "### Modification des noms balises fileName"
   ]
  },
  {
   "cell_type": "code",
   "execution_count": 5,
   "id": "44dd51cb",
   "metadata": {},
   "outputs": [],
   "source": [
    "issues = os.listdir(\"./1921/\")"
   ]
  },
  {
   "cell_type": "code",
   "execution_count": 13,
   "id": "5ec89715",
   "metadata": {},
   "outputs": [],
   "source": [
    "for issue in issues:\n",
    "\n",
    "    files = [f for f in os.listdir(f'./1921/{issue}') if f.endswith('xml')]\n",
    "    \n",
    "    for alto in files:\n",
    "        if re.search(r\"(page_\\w+)\", alto):\n",
    "            ark = re.search(r\"(page_\\w+)\", alto).group(1)\n",
    "\n",
    "        content = []\n",
    "\n",
    "        with open(f\"./1921/{issue}/{alto}\", \"r\") as file:\n",
    "            content = file.readlines()\n",
    "\n",
    "        content = \"\".join(content)\n",
    "        bs_content = bs(content, \"xml\")\n",
    "\n",
    "        result = bs_content.find(\"fileName\")\n",
    "        result.string = ark + \".jpeg\"\n",
    "\n",
    "        with open(f\"./1921/{issue}/{alto}\", \"w\") as file:\n",
    "            file.write(str(bs_content))"
   ]
  },
  {
   "cell_type": "code",
   "execution_count": null,
   "id": "7da89aa5",
   "metadata": {},
   "outputs": [],
   "source": []
  },
  {
   "cell_type": "markdown",
   "id": "888a81d3",
   "metadata": {},
   "source": [
    "### Gestion des fichiers : passage des fichiers ALTO en UZN"
   ]
  },
  {
   "cell_type": "code",
   "execution_count": 9,
   "id": "88e4d4e0",
   "metadata": {},
   "outputs": [],
   "source": [
    "issues = os.listdir(\"./TEST/\")"
   ]
  },
  {
   "cell_type": "code",
   "execution_count": 10,
   "id": "2fc5e9e4",
   "metadata": {},
   "outputs": [
    {
     "name": "stdout",
     "output_type": "stream",
     "text": [
      "page_59.xml\n",
      "page_61.xml\n",
      "page_60.xml\n"
     ]
    }
   ],
   "source": [
    "for issue in issues:\n",
    "\n",
    "    xml_files = [f for f in os.listdir(f'./TEST/{issue}') if f.endswith('xml')]\n",
    "    \n",
    "    for xml in xml_files: #Pour chaque XML, le récupère les métadonnées relatives aux coordonnées de chaque TextBlock\n",
    "        \n",
    "        print(xml)\n",
    "        \n",
    "        if sys.stdout.encoding != 'UTF-8': # que j'implémente dans un fichier UZn nouvellement créé\n",
    "            sys.stdout = codecs.getwriter('utf-8')(sys.stdout.buffer, 'strict')\n",
    "\n",
    "        namespace = {'alto-1': 'http://schema.ccs-gmbh.com/ALTO',\n",
    "                     'alto-2': 'http://www.loc.gov/standards/alto/ns-v2#',\n",
    "                     'alto-3': 'http://www.loc.gov/standards/alto/ns-v3#',\n",
    "                     'alto-4': 'http://www.loc.gov/standards/alto/ns-v4#'}\n",
    "        tree = ET.parse(f\"./TEST/{issue}/{xml}\")\n",
    "        xmlns = tree.getroot().tag.split('}')[0].strip('{')\n",
    "        if xmlns in namespace.values():\n",
    "            with open(f\"./TEST/{issue}/{xml}.uzn\", \"a+\") as f:\n",
    "                for line in tree.iterfind('.//{%s}TextBlock' % xmlns):\n",
    "                    if line.attrib['ID'].startswith(\"block\"): #Nécessaire pour sélectionner les bons éléments\n",
    "                        #sys.stdout.write('\\n')\n",
    "                        text = line.attrib.get('HPOS') + ' ' + line.attrib.get('VPOS') + ' ' + line.attrib.get('WIDTH') + ' ' + line.attrib.get('HEIGHT') +  ' ' + line.attrib.get('ID') + '\\n'\n",
    "                        f.write(text)\n",
    "        else:\n",
    "            print('ERROR: Not a valid ALTO file (namespace declaration missing)')\n",
    "    \n",
    "    \n",
    "    "
   ]
  },
  {
   "cell_type": "code",
   "execution_count": 11,
   "id": "3147edfd",
   "metadata": {},
   "outputs": [
    {
     "data": {
      "text/plain": [
       "['page_61.xml.uzn', 'page_59.xml.uzn', 'page_60.xml.uzn']"
      ]
     },
     "execution_count": 11,
     "metadata": {},
     "output_type": "execute_result"
    }
   ],
   "source": [
    "uzn_files = [f for f in os.listdir(f'./TEST/test1/') if f.endswith('.uzn')]\n",
    "uzn_files"
   ]
  },
  {
   "cell_type": "code",
   "execution_count": 15,
   "id": "5391f3be",
   "metadata": {},
   "outputs": [],
   "source": [
    "for file in uzn_files:\n",
    "    if re.search(r'(page_\\w+)', file):\n",
    "        i = re.search(r'(page_\\w+)', file).group(1)\n",
    "    os.rename(f\"./TEST/test1/{file}\", f\"./TEST/test1/{i}.uzn\")"
   ]
  },
  {
   "cell_type": "code",
   "execution_count": null,
   "id": "6fff3ae2",
   "metadata": {},
   "outputs": [],
   "source": []
  },
  {
   "cell_type": "code",
   "execution_count": 4,
   "id": "26c584de",
   "metadata": {
    "scrolled": true
   },
   "outputs": [],
   "source": [
    "for f in xml_files: #Pour chaque XML, le récupère les métadonnées relatives aux coordonnées de chaque TextBlock\n",
    "    if sys.stdout.encoding != 'UTF-8': # que j'implémente dans un fichier UZn nouvellement créé\n",
    "        sys.stdout = codecs.getwriter('utf-8')(sys.stdout.buffer, 'strict')\n",
    "\n",
    "    namespace = {'alto-1': 'http://schema.ccs-gmbh.com/ALTO',\n",
    "                 'alto-2': 'http://www.loc.gov/standards/alto/ns-v2#',\n",
    "                 'alto-3': 'http://www.loc.gov/standards/alto/ns-v3#',\n",
    "                 'alto-4': 'http://www.loc.gov/standards/alto/ns-v4#'}\n",
    "    tree = ET.parse(f)\n",
    "    xmlns = tree.getroot().tag.split('}')[0].strip('{')\n",
    "    if xmlns in namespace.values():\n",
    "        with open(f + \".uzn\", \"a+\") as f:\n",
    "            for line in tree.iterfind('.//{%s}TextBlock' % xmlns):\n",
    "                if line.attrib['ID'].startswith(\"eSc_textblock\"): #Nécessaire pour sélectionner les bons éléments\n",
    "                    #sys.stdout.write('\\n')\n",
    "                    text = line.attrib.get('HPOS') + ' ' + line.attrib.get('VPOS') + ' ' + line.attrib.get('WIDTH') + ' ' + line.attrib.get('HEIGHT') +  ' ' + line.attrib.get('ID') + '\\n'\n",
    "                    f.write(text)\n",
    "    else:\n",
    "        print('ERROR: Not a valid ALTO file (namespace declaration missing)')"
   ]
  },
  {
   "cell_type": "code",
   "execution_count": 7,
   "id": "75fa482c",
   "metadata": {},
   "outputs": [],
   "source": [
    "uzn_files = [] # Liste de tous les fichiers UZN avec les noms uniformisés\n",
    "for u in glob.glob(\"*.uzn\"):\n",
    "    uzn_files.append(u)\n",
    "for u in uzn_files:\n",
    "    y = re.sub(\".xml\", '', u)\n",
    "    os.rename(u,y)\n",
    "uzn_files.sort()"
   ]
  },
  {
   "cell_type": "code",
   "execution_count": 8,
   "id": "7506c6ca",
   "metadata": {},
   "outputs": [
    {
     "data": {
      "text/plain": [
       "['page_10.uzn', 'page_11.uzn', 'page_12.uzn', 'page_14.uzn']"
      ]
     },
     "execution_count": 8,
     "metadata": {},
     "output_type": "execute_result"
    }
   ],
   "source": [
    "uzn_files"
   ]
  },
  {
   "cell_type": "code",
   "execution_count": 10,
   "id": "5a66fd78",
   "metadata": {},
   "outputs": [],
   "source": [
    "jpeg_files = [] # Liste de tous les fichiers JPEG\n",
    "for j in glob.glob(\"*.jpeg\"):\n",
    "    jpeg_files.append(j)\n",
    "jpeg_files.sort()"
   ]
  },
  {
   "cell_type": "code",
   "execution_count": 11,
   "id": "63f3eebd",
   "metadata": {},
   "outputs": [
    {
     "data": {
      "text/plain": [
       "['page_10.jpeg', 'page_11.jpeg', 'page_12.jpeg', 'page_14.jpeg']"
      ]
     },
     "execution_count": 11,
     "metadata": {},
     "output_type": "execute_result"
    }
   ],
   "source": [
    "jpeg_files"
   ]
  },
  {
   "cell_type": "markdown",
   "id": "789c34dc",
   "metadata": {},
   "source": [
    "### Maintenant, place à la transcription"
   ]
  },
  {
   "cell_type": "code",
   "execution_count": 22,
   "id": "fd531c18",
   "metadata": {},
   "outputs": [],
   "source": [
    "issues = os.listdir(\"./TEST/\")"
   ]
  },
  {
   "cell_type": "code",
   "execution_count": 28,
   "id": "f7773068",
   "metadata": {},
   "outputs": [
    {
     "data": {
      "text/plain": [
       "['page_59.uzn', 'page_60.uzn', 'page_61.uzn']"
      ]
     },
     "execution_count": 28,
     "metadata": {},
     "output_type": "execute_result"
    }
   ],
   "source": [
    "uzn_files = [f for f in os.listdir(f'./TEST/test1/') if f.endswith('.uzn')]\n",
    "uzn_files.sort()\n",
    "uzn_files"
   ]
  },
  {
   "cell_type": "code",
   "execution_count": 29,
   "id": "2d7e8e29",
   "metadata": {},
   "outputs": [
    {
     "data": {
      "text/plain": [
       "['page_59.jpeg', 'page_60.jpeg', 'page_61.jpeg']"
      ]
     },
     "execution_count": 29,
     "metadata": {},
     "output_type": "execute_result"
    }
   ],
   "source": [
    "jpeg_files = [f for f in os.listdir(f'./TEST/test1/') if f.endswith('.jpeg')]\n",
    "jpeg_files.sort()\n",
    "jpeg_files"
   ]
  },
  {
   "cell_type": "code",
   "execution_count": 30,
   "id": "1c1def4c",
   "metadata": {},
   "outputs": [
    {
     "name": "stdout",
     "output_type": "stream",
     "text": [
      "page_59.jpeg → page_59.uzn\n",
      "page_60.jpeg → page_60.uzn\n",
      "page_61.jpeg → page_61.uzn\n"
     ]
    }
   ],
   "source": [
    "for i in range(len(jpeg_files)): # test de correspondance\n",
    "    print(jpeg_files[i] + ' → ' + uzn_files[i])"
   ]
  },
  {
   "cell_type": "code",
   "execution_count": null,
   "id": "e027f494",
   "metadata": {},
   "outputs": [],
   "source": []
  },
  {
   "cell_type": "code",
   "execution_count": null,
   "id": "26f48ae4",
   "metadata": {},
   "outputs": [],
   "source": []
  },
  {
   "cell_type": "code",
   "execution_count": 13,
   "id": "b2cbb32b",
   "metadata": {
    "scrolled": true
   },
   "outputs": [
    {
     "name": "stdout",
     "output_type": "stream",
     "text": [
      "page_10.jpeg → page_10.uzn\n",
      "page_11.jpeg → page_11.uzn\n",
      "page_12.jpeg → page_12.uzn\n",
      "page_14.jpeg → page_14.uzn\n"
     ]
    }
   ],
   "source": [
    "for i in range(len(jpeg_files)): \n",
    "    print(jpeg_files[i] + ' → ' + uzn_files[i]) # test de correspondance\n",
    "    for i in range(len(jpeg_files)): # On lance la commande système pour effectuer l'OCR\n",
    "        os.system(f'tesseract ./TEST/test1/{jpeg_files[i]} ./TEST/test1/{uzn_files[i]} --psm 4 -l fra+cos+ita')"
   ]
  },
  {
   "cell_type": "markdown",
   "id": "40951559",
   "metadata": {},
   "source": [
    "### Commentaires"
   ]
  },
  {
   "cell_type": "markdown",
   "id": "f2877c20",
   "metadata": {},
   "source": [
    "Il y a beaucoup de cellules différentes mais c'est pour ne pas se précipiter non plus : on ne sait jamais, s'il y a un problème, on peut toujours le régler si on sait quand il survient.\n",
    "\n",
    "La dernière phase de concaténation des fichiers `.txt` pourrait être simplifier mais je préfère manipuler ces fichiers dans des dossiers séparés pour éviter des incidents et la concaténation de fichiers qui ne sont pas issus des mêmes numéros. "
   ]
  },
  {
   "cell_type": "markdown",
   "id": "f3f7fc49",
   "metadata": {},
   "source": [
    "### Petits scripts bonus"
   ]
  },
  {
   "cell_type": "code",
   "execution_count": null,
   "id": "91857177",
   "metadata": {},
   "outputs": [],
   "source": [
    "#for i in jpg_files:\n",
    "#    y = re.sub(\"recup_transcription\", '', i)\n",
    "#    os.rename(i,y)"
   ]
  },
  {
   "cell_type": "code",
   "execution_count": null,
   "id": "362a0d18",
   "metadata": {},
   "outputs": [],
   "source": [
    "#for i in list_ark_20:\n",
    "#    os.system(\"mkdir \" + i)"
   ]
  },
  {
   "cell_type": "code",
   "execution_count": null,
   "id": "c3f05384",
   "metadata": {},
   "outputs": [],
   "source": []
  },
  {
   "cell_type": "code",
   "execution_count": null,
   "id": "9c10c7da",
   "metadata": {},
   "outputs": [],
   "source": []
  },
  {
   "cell_type": "code",
   "execution_count": null,
   "id": "7d058d78",
   "metadata": {},
   "outputs": [],
   "source": []
  },
  {
   "cell_type": "code",
   "execution_count": null,
   "id": "72e8a2d5",
   "metadata": {},
   "outputs": [],
   "source": []
  }
 ],
 "metadata": {
  "kernelspec": {
   "display_name": "Python 3 (ipykernel)",
   "language": "python",
   "name": "python3"
  },
  "language_info": {
   "codemirror_mode": {
    "name": "ipython",
    "version": 3
   },
   "file_extension": ".py",
   "mimetype": "text/x-python",
   "name": "python",
   "nbconvert_exporter": "python",
   "pygments_lexer": "ipython3",
   "version": "3.9.13"
  }
 },
 "nbformat": 4,
 "nbformat_minor": 5
}
