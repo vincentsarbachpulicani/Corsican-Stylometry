{
 "cells": [
  {
   "cell_type": "code",
   "execution_count": 1,
   "id": "c10992a1",
   "metadata": {},
   "outputs": [],
   "source": [
    "import os"
   ]
  },
  {
   "cell_type": "code",
   "execution_count": 9,
   "id": "cc7c7a33",
   "metadata": {},
   "outputs": [],
   "source": [
    "def segmentation(folder_name, kraken_model=False):\n",
    "    \n",
    "    issues = os.listdir(f\"./{folder_name}/\")\n",
    "    \n",
    "    for issue in issues:\n",
    "        path = f\"{folder_name}/{issue}/*.jpeg\"\n",
    "        if kraken_model is False:\n",
    "            os.system(f\"yaltai kraken --device cpu -I \\\"{path}\\\" --suffix \\\".xml\\\" segment --yolo runs/train/exp2/weights/best.pt\")\n",
    "        else:\n",
    "            os.system(f\"yaltai kraken --device cpu -I \\\"{path}\\\" --suffix \\\".xml\\\" segment --yolo runs/train/exp2/weights/best.pt -m corsicaFT_best.mlmodel\")"
   ]
  },
  {
   "cell_type": "raw",
   "id": "de8174b5",
   "metadata": {},
   "source": [
    "segmentation(folder_name='1921', kraken_model=False)"
   ]
  },
  {
   "cell_type": "code",
   "execution_count": null,
   "id": "de4fd1ed",
   "metadata": {},
   "outputs": [],
   "source": []
  },
  {
   "cell_type": "code",
   "execution_count": null,
   "id": "34130067",
   "metadata": {},
   "outputs": [],
   "source": []
  }
 ],
 "metadata": {
  "kernelspec": {
   "display_name": "Python 3 (ipykernel)",
   "language": "python",
   "name": "python3"
  },
  "language_info": {
   "codemirror_mode": {
    "name": "ipython",
    "version": 3
   },
   "file_extension": ".py",
   "mimetype": "text/x-python",
   "name": "python",
   "nbconvert_exporter": "python",
   "pygments_lexer": "ipython3",
   "version": "3.9.13"
  }
 },
 "nbformat": 4,
 "nbformat_minor": 5
}
