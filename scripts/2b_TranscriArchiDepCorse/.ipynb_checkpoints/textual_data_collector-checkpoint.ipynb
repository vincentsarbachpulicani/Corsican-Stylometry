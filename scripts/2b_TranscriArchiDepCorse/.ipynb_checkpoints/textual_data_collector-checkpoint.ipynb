{
 "cells": [
  {
   "cell_type": "code",
   "execution_count": 1,
   "id": "877c2725",
   "metadata": {},
   "outputs": [],
   "source": [
    "import TranscriptionModule_YALTAi as tra"
   ]
  },
  {
   "cell_type": "code",
   "execution_count": 2,
   "id": "a86e3fdb",
   "metadata": {},
   "outputs": [
    {
     "name": "stdout",
     "output_type": "stream",
     "text": [
      "Help on module TranscriptionModule_YALTAi:\n",
      "\n",
      "NAME\n",
      "    TranscriptionModule_YALTAi\n",
      "\n",
      "FUNCTIONS\n",
      "    manuscript_concatenate(folder_name)\n",
      "        Function that collects the results of text recognition obtained in a single TXT file.\n",
      "        \n",
      "        Parameter :\n",
      "        \n",
      "        folder_name = str, name of the folder where the issues are located.\n",
      "    \n",
      "    modif_fileName_element(folder_name)\n",
      "        Function that normalizes the <fileName> element of XML files produces by the segmentation/transcription to match the associated JPEG image.\n",
      "        \n",
      "        Parameter :\n",
      "        \n",
      "        folder_name = str, name of the folder where the issues are located.\n",
      "    \n",
      "    recognition_Tesseract(folder_name)\n",
      "        Function allowing character recognition using the Tesseract engine and following the UZN files obtained.\n",
      "        \n",
      "        Parameter :\n",
      "        \n",
      "        folder_name = str, name of the folder where the issues are located.\n",
      "    \n",
      "    segmentation_YALTAi(folder_name, kraken_model=False)\n",
      "        Function allowing the segmentation of newspaper issues thanks to the YOLO model and the use of YALTAi that provides an adapter for Kraken to use YOLOv5 Object Detection routine.\n",
      "        \n",
      "        Parameters :\n",
      "        \n",
      "        folder_name = str, name of the folder where the issues are located.\n",
      "        kraken_model = bool, allows to use or not the Kraken model for baselines corsicaFT_best.mlmodel.\n",
      "    \n",
      "    uzn_generator_from_alto(folder_name, id_name='block')\n",
      "        Function that allows you to create UZN files from XML files obtained during segmentation with YALTAi. \n",
      "        \n",
      "        Parameters :\n",
      "        \n",
      "        folder_name = str, name of the folder where the issues are located.\n",
      "        id_name = str, start of the ID of the TextBlock element. Usefull to select the only elements we want.\n",
      "\n",
      "FILE\n",
      "    /home/vincent/dev/MEMOIRE/2c_TranscriArchiDepCorse/TranscriptionModule_YALTAi.py\n",
      "\n",
      "\n"
     ]
    }
   ],
   "source": [
    "help(tra)"
   ]
  },
  {
   "cell_type": "raw",
   "id": "c614fa80",
   "metadata": {},
   "source": [
    "tra.segmentation_YALTAi(\"TEST\")"
   ]
  },
  {
   "cell_type": "code",
   "execution_count": 3,
   "id": "d3fdb7d3",
   "metadata": {},
   "outputs": [
    {
     "name": "stdout",
     "output_type": "stream",
     "text": [
      "The file page_92.xml has been treated.\n",
      "The file page_91.xml has been treated.\n",
      "The file page_93.xml has been treated.\n",
      "The file page_82.xml has been treated.\n",
      "The file page_81.xml has been treated.\n",
      "The file page_83.xml has been treated.\n",
      "The file page_99.xml has been treated.\n",
      "The file page_98.xml has been treated.\n",
      "The file page_97.xml has been treated.\n",
      "The file page_64.xml has been treated.\n",
      "The file page_65.xml has been treated.\n",
      "The file page_63.xml has been treated.\n",
      "The file page_120.xml has been treated.\n",
      "The file page_121.xml has been treated.\n",
      "The file page_119.xml has been treated.\n",
      "The file page_125.xml has been treated.\n",
      "The file page_123.xml has been treated.\n",
      "The file page_124.xml has been treated.\n",
      "The file page_106.xml has been treated.\n",
      "The file page_108.xml has been treated.\n",
      "The file page_107.xml has been treated.\n",
      "The file page_87.xml has been treated.\n",
      "The file page_88.xml has been treated.\n",
      "The file page_89.xml has been treated.\n",
      "The file page_116.xml has been treated.\n",
      "The file page_117.xml has been treated.\n",
      "The file page_115.xml has been treated.\n",
      "The file page_72.xml has been treated.\n",
      "The file page_73.xml has been treated.\n",
      "The file page_74.xml has been treated.\n",
      "The file page_69.xml has been treated.\n",
      "The file page_68.xml has been treated.\n",
      "The file page_70.xml has been treated.\n",
      "The file page_59.xml has been treated.\n",
      "The file page_61.xml has been treated.\n",
      "The file page_60.xml has been treated.\n",
      "The file page_102.xml has been treated.\n",
      "The file page_104.xml has been treated.\n",
      "The file page_103.xml has been treated.\n",
      "The file page_78.xml has been treated.\n",
      "The file page_79.xml has been treated.\n",
      "The file page_77.xml has been treated.\n",
      "The file page_111.xml has been treated.\n",
      "The file page_113.xml has been treated.\n",
      "The file page_112.xml has been treated.\n"
     ]
    }
   ],
   "source": [
    "tra.modif_fileName_element(\"1921\")"
   ]
  },
  {
   "cell_type": "code",
   "execution_count": 4,
   "id": "71660e69",
   "metadata": {},
   "outputs": [
    {
     "name": "stdout",
     "output_type": "stream",
     "text": [
      "page_92.xml\n",
      "The UZN file from the page_92.xml has been created.\n",
      "page_91.xml\n",
      "The UZN file from the page_91.xml has been created.\n",
      "page_93.xml\n",
      "The UZN file from the page_93.xml has been created.\n",
      "page_82.xml\n",
      "The UZN file from the page_82.xml has been created.\n",
      "page_81.xml\n",
      "The UZN file from the page_81.xml has been created.\n",
      "page_83.xml\n",
      "The UZN file from the page_83.xml has been created.\n",
      "page_99.xml\n",
      "The UZN file from the page_99.xml has been created.\n",
      "page_98.xml\n",
      "The UZN file from the page_98.xml has been created.\n",
      "page_97.xml\n",
      "The UZN file from the page_97.xml has been created.\n",
      "page_64.xml\n",
      "The UZN file from the page_64.xml has been created.\n",
      "page_65.xml\n",
      "The UZN file from the page_65.xml has been created.\n",
      "page_63.xml\n",
      "The UZN file from the page_63.xml has been created.\n",
      "page_120.xml\n",
      "The UZN file from the page_120.xml has been created.\n",
      "page_121.xml\n",
      "The UZN file from the page_121.xml has been created.\n",
      "page_119.xml\n",
      "The UZN file from the page_119.xml has been created.\n",
      "page_125.xml\n",
      "The UZN file from the page_125.xml has been created.\n",
      "page_123.xml\n",
      "The UZN file from the page_123.xml has been created.\n",
      "page_124.xml\n",
      "The UZN file from the page_124.xml has been created.\n",
      "page_106.xml\n",
      "The UZN file from the page_106.xml has been created.\n",
      "page_108.xml\n",
      "The UZN file from the page_108.xml has been created.\n",
      "page_107.xml\n",
      "The UZN file from the page_107.xml has been created.\n",
      "page_87.xml\n",
      "The UZN file from the page_87.xml has been created.\n",
      "page_88.xml\n",
      "The UZN file from the page_88.xml has been created.\n",
      "page_89.xml\n",
      "The UZN file from the page_89.xml has been created.\n",
      "page_116.xml\n",
      "The UZN file from the page_116.xml has been created.\n",
      "page_117.xml\n",
      "The UZN file from the page_117.xml has been created.\n",
      "page_115.xml\n",
      "The UZN file from the page_115.xml has been created.\n",
      "page_72.xml\n",
      "The UZN file from the page_72.xml has been created.\n",
      "page_73.xml\n",
      "The UZN file from the page_73.xml has been created.\n",
      "page_74.xml\n",
      "The UZN file from the page_74.xml has been created.\n",
      "page_69.xml\n",
      "The UZN file from the page_69.xml has been created.\n",
      "page_68.xml\n",
      "The UZN file from the page_68.xml has been created.\n",
      "page_70.xml\n",
      "The UZN file from the page_70.xml has been created.\n",
      "page_59.xml\n",
      "The UZN file from the page_59.xml has been created.\n",
      "page_61.xml\n",
      "The UZN file from the page_61.xml has been created.\n",
      "page_60.xml\n",
      "The UZN file from the page_60.xml has been created.\n",
      "page_102.xml\n",
      "The UZN file from the page_102.xml has been created.\n",
      "page_104.xml\n",
      "The UZN file from the page_104.xml has been created.\n",
      "page_103.xml\n",
      "The UZN file from the page_103.xml has been created.\n",
      "page_78.xml\n",
      "The UZN file from the page_78.xml has been created.\n",
      "page_79.xml\n",
      "The UZN file from the page_79.xml has been created.\n",
      "page_77.xml\n",
      "The UZN file from the page_77.xml has been created.\n",
      "page_111.xml\n",
      "The UZN file from the page_111.xml has been created.\n",
      "page_113.xml\n",
      "The UZN file from the page_113.xml has been created.\n",
      "page_112.xml\n",
      "The UZN file from the page_112.xml has been created.\n"
     ]
    }
   ],
   "source": [
    "tra.uzn_generator_from_alto(\"1921\")"
   ]
  },
  {
   "cell_type": "code",
   "execution_count": 5,
   "id": "dbaa87c7",
   "metadata": {},
   "outputs": [
    {
     "name": "stdout",
     "output_type": "stream",
     "text": [
      "page_91.jpeg → page_91.uzn\n"
     ]
    },
    {
     "name": "stderr",
     "output_type": "stream",
     "text": [
      "UZN file ./1921/1921_8/page_91.uzn loaded.\n"
     ]
    },
    {
     "name": "stdout",
     "output_type": "stream",
     "text": [
      "page_92.jpeg → page_92.uzn\n"
     ]
    },
    {
     "name": "stderr",
     "output_type": "stream",
     "text": [
      "UZN file ./1921/1921_8/page_92.uzn loaded.\n"
     ]
    },
    {
     "name": "stdout",
     "output_type": "stream",
     "text": [
      "page_93.jpeg → page_93.uzn\n"
     ]
    },
    {
     "name": "stderr",
     "output_type": "stream",
     "text": [
      "UZN file ./1921/1921_8/page_93.uzn loaded.\n"
     ]
    },
    {
     "name": "stdout",
     "output_type": "stream",
     "text": [
      "page_81.jpeg → page_81.uzn\n"
     ]
    },
    {
     "name": "stderr",
     "output_type": "stream",
     "text": [
      "UZN file ./1921/1921_6/page_81.uzn loaded.\n"
     ]
    },
    {
     "name": "stdout",
     "output_type": "stream",
     "text": [
      "page_82.jpeg → page_82.uzn\n"
     ]
    },
    {
     "name": "stderr",
     "output_type": "stream",
     "text": [
      "UZN file ./1921/1921_6/page_82.uzn loaded.\n"
     ]
    },
    {
     "name": "stdout",
     "output_type": "stream",
     "text": [
      "page_83.jpeg → page_83.uzn\n"
     ]
    },
    {
     "name": "stderr",
     "output_type": "stream",
     "text": [
      "UZN file ./1921/1921_6/page_83.uzn loaded.\n"
     ]
    },
    {
     "name": "stdout",
     "output_type": "stream",
     "text": [
      "page_97.jpeg → page_97.uzn\n"
     ]
    },
    {
     "name": "stderr",
     "output_type": "stream",
     "text": [
      "UZN file ./1921/1921_9/page_97.uzn loaded.\n"
     ]
    },
    {
     "name": "stdout",
     "output_type": "stream",
     "text": [
      "page_98.jpeg → page_98.uzn\n"
     ]
    },
    {
     "name": "stderr",
     "output_type": "stream",
     "text": [
      "UZN file ./1921/1921_9/page_98.uzn loaded.\n"
     ]
    },
    {
     "name": "stdout",
     "output_type": "stream",
     "text": [
      "page_99.jpeg → page_99.uzn\n"
     ]
    },
    {
     "name": "stderr",
     "output_type": "stream",
     "text": [
      "UZN file ./1921/1921_9/page_99.uzn loaded.\n"
     ]
    },
    {
     "name": "stdout",
     "output_type": "stream",
     "text": [
      "page_63.jpeg → page_63.uzn\n"
     ]
    },
    {
     "name": "stderr",
     "output_type": "stream",
     "text": [
      "UZN file ./1921/1921_2/page_63.uzn loaded.\n"
     ]
    },
    {
     "name": "stdout",
     "output_type": "stream",
     "text": [
      "page_64.jpeg → page_64.uzn\n"
     ]
    },
    {
     "name": "stderr",
     "output_type": "stream",
     "text": [
      "UZN file ./1921/1921_2/page_64.uzn loaded.\n"
     ]
    },
    {
     "name": "stdout",
     "output_type": "stream",
     "text": [
      "page_65.jpeg → page_65.uzn\n"
     ]
    },
    {
     "name": "stderr",
     "output_type": "stream",
     "text": [
      "UZN file ./1921/1921_2/page_65.uzn loaded.\n"
     ]
    },
    {
     "name": "stdout",
     "output_type": "stream",
     "text": [
      "page_119.jpeg → page_119.uzn\n"
     ]
    },
    {
     "name": "stderr",
     "output_type": "stream",
     "text": [
      "UZN file ./1921/1921_14/page_119.uzn loaded.\n"
     ]
    },
    {
     "name": "stdout",
     "output_type": "stream",
     "text": [
      "page_120.jpeg → page_120.uzn\n"
     ]
    },
    {
     "name": "stderr",
     "output_type": "stream",
     "text": [
      "UZN file ./1921/1921_14/page_120.uzn loaded.\n"
     ]
    },
    {
     "name": "stdout",
     "output_type": "stream",
     "text": [
      "page_121.jpeg → page_121.uzn\n"
     ]
    },
    {
     "name": "stderr",
     "output_type": "stream",
     "text": [
      "UZN file ./1921/1921_14/page_121.uzn loaded.\n"
     ]
    },
    {
     "name": "stdout",
     "output_type": "stream",
     "text": [
      "page_123.jpeg → page_123.uzn\n"
     ]
    },
    {
     "name": "stderr",
     "output_type": "stream",
     "text": [
      "UZN file ./1921/1921_15/page_123.uzn loaded.\n"
     ]
    },
    {
     "name": "stdout",
     "output_type": "stream",
     "text": [
      "page_124.jpeg → page_124.uzn\n"
     ]
    },
    {
     "name": "stderr",
     "output_type": "stream",
     "text": [
      "UZN file ./1921/1921_15/page_124.uzn loaded.\n"
     ]
    },
    {
     "name": "stdout",
     "output_type": "stream",
     "text": [
      "page_125.jpeg → page_125.uzn\n"
     ]
    },
    {
     "name": "stderr",
     "output_type": "stream",
     "text": [
      "UZN file ./1921/1921_15/page_125.uzn loaded.\n"
     ]
    },
    {
     "name": "stdout",
     "output_type": "stream",
     "text": [
      "page_106.jpeg → page_106.uzn\n"
     ]
    },
    {
     "name": "stderr",
     "output_type": "stream",
     "text": [
      "UZN file ./1921/1921_11/page_106.uzn loaded.\n"
     ]
    },
    {
     "name": "stdout",
     "output_type": "stream",
     "text": [
      "page_107.jpeg → page_107.uzn\n"
     ]
    },
    {
     "name": "stderr",
     "output_type": "stream",
     "text": [
      "UZN file ./1921/1921_11/page_107.uzn loaded.\n"
     ]
    },
    {
     "name": "stdout",
     "output_type": "stream",
     "text": [
      "page_108.jpeg → page_108.uzn\n"
     ]
    },
    {
     "name": "stderr",
     "output_type": "stream",
     "text": [
      "UZN file ./1921/1921_11/page_108.uzn loaded.\n"
     ]
    },
    {
     "name": "stdout",
     "output_type": "stream",
     "text": [
      "page_87.jpeg → page_87.uzn\n"
     ]
    },
    {
     "name": "stderr",
     "output_type": "stream",
     "text": [
      "UZN file ./1921/1921_7/page_87.uzn loaded.\n"
     ]
    },
    {
     "name": "stdout",
     "output_type": "stream",
     "text": [
      "page_88.jpeg → page_88.uzn\n"
     ]
    },
    {
     "name": "stderr",
     "output_type": "stream",
     "text": [
      "UZN file ./1921/1921_7/page_88.uzn loaded.\n"
     ]
    },
    {
     "name": "stdout",
     "output_type": "stream",
     "text": [
      "page_89.jpeg → page_89.uzn\n"
     ]
    },
    {
     "name": "stderr",
     "output_type": "stream",
     "text": [
      "UZN file ./1921/1921_7/page_89.uzn loaded.\n"
     ]
    },
    {
     "name": "stdout",
     "output_type": "stream",
     "text": [
      "page_115.jpeg → page_115.uzn\n"
     ]
    },
    {
     "name": "stderr",
     "output_type": "stream",
     "text": [
      "UZN file ./1921/1921_13/page_115.uzn loaded.\n"
     ]
    },
    {
     "name": "stdout",
     "output_type": "stream",
     "text": [
      "page_116.jpeg → page_116.uzn\n"
     ]
    },
    {
     "name": "stderr",
     "output_type": "stream",
     "text": [
      "UZN file ./1921/1921_13/page_116.uzn loaded.\n"
     ]
    },
    {
     "name": "stdout",
     "output_type": "stream",
     "text": [
      "page_117.jpeg → page_117.uzn\n"
     ]
    },
    {
     "name": "stderr",
     "output_type": "stream",
     "text": [
      "UZN file ./1921/1921_13/page_117.uzn loaded.\n"
     ]
    },
    {
     "name": "stdout",
     "output_type": "stream",
     "text": [
      "page_72.jpeg → page_72.uzn\n"
     ]
    },
    {
     "name": "stderr",
     "output_type": "stream",
     "text": [
      "UZN file ./1921/1921_4/page_72.uzn loaded.\n"
     ]
    },
    {
     "name": "stdout",
     "output_type": "stream",
     "text": [
      "page_73.jpeg → page_73.uzn\n"
     ]
    },
    {
     "name": "stderr",
     "output_type": "stream",
     "text": [
      "UZN file ./1921/1921_4/page_73.uzn loaded.\n"
     ]
    },
    {
     "name": "stdout",
     "output_type": "stream",
     "text": [
      "page_74.jpeg → page_74.uzn\n"
     ]
    },
    {
     "name": "stderr",
     "output_type": "stream",
     "text": [
      "UZN file ./1921/1921_4/page_74.uzn loaded.\n"
     ]
    },
    {
     "name": "stdout",
     "output_type": "stream",
     "text": [
      "page_68.jpeg → page_68.uzn\n"
     ]
    },
    {
     "name": "stderr",
     "output_type": "stream",
     "text": [
      "UZN file ./1921/1921_3/page_68.uzn loaded.\n"
     ]
    },
    {
     "name": "stdout",
     "output_type": "stream",
     "text": [
      "page_69.jpeg → page_69.uzn\n"
     ]
    },
    {
     "name": "stderr",
     "output_type": "stream",
     "text": [
      "UZN file ./1921/1921_3/page_69.uzn loaded.\n"
     ]
    },
    {
     "name": "stdout",
     "output_type": "stream",
     "text": [
      "page_70.jpeg → page_70.uzn\n"
     ]
    },
    {
     "name": "stderr",
     "output_type": "stream",
     "text": [
      "UZN file ./1921/1921_3/page_70.uzn loaded.\n"
     ]
    },
    {
     "name": "stdout",
     "output_type": "stream",
     "text": [
      "page_59.jpeg → page_59.uzn\n"
     ]
    },
    {
     "name": "stderr",
     "output_type": "stream",
     "text": [
      "UZN file ./1921/1921_1/page_59.uzn loaded.\n"
     ]
    },
    {
     "name": "stdout",
     "output_type": "stream",
     "text": [
      "page_60.jpeg → page_60.uzn\n"
     ]
    },
    {
     "name": "stderr",
     "output_type": "stream",
     "text": [
      "UZN file ./1921/1921_1/page_60.uzn loaded.\n"
     ]
    },
    {
     "name": "stdout",
     "output_type": "stream",
     "text": [
      "page_61.jpeg → page_61.uzn\n"
     ]
    },
    {
     "name": "stderr",
     "output_type": "stream",
     "text": [
      "UZN file ./1921/1921_1/page_61.uzn loaded.\n"
     ]
    },
    {
     "name": "stdout",
     "output_type": "stream",
     "text": [
      "page_102.jpeg → page_102.uzn\n"
     ]
    },
    {
     "name": "stderr",
     "output_type": "stream",
     "text": [
      "UZN file ./1921/1921_10/page_102.uzn loaded.\n"
     ]
    },
    {
     "name": "stdout",
     "output_type": "stream",
     "text": [
      "page_103.jpeg → page_103.uzn\n"
     ]
    },
    {
     "name": "stderr",
     "output_type": "stream",
     "text": [
      "UZN file ./1921/1921_10/page_103.uzn loaded.\n"
     ]
    },
    {
     "name": "stdout",
     "output_type": "stream",
     "text": [
      "page_104.jpeg → page_104.uzn\n"
     ]
    },
    {
     "name": "stderr",
     "output_type": "stream",
     "text": [
      "UZN file ./1921/1921_10/page_104.uzn loaded.\n"
     ]
    },
    {
     "name": "stdout",
     "output_type": "stream",
     "text": [
      "page_77.jpeg → page_77.uzn\n"
     ]
    },
    {
     "name": "stderr",
     "output_type": "stream",
     "text": [
      "UZN file ./1921/1921_5/page_77.uzn loaded.\n"
     ]
    },
    {
     "name": "stdout",
     "output_type": "stream",
     "text": [
      "page_78.jpeg → page_78.uzn\n"
     ]
    },
    {
     "name": "stderr",
     "output_type": "stream",
     "text": [
      "UZN file ./1921/1921_5/page_78.uzn loaded.\n"
     ]
    },
    {
     "name": "stdout",
     "output_type": "stream",
     "text": [
      "page_79.jpeg → page_79.uzn\n"
     ]
    },
    {
     "name": "stderr",
     "output_type": "stream",
     "text": [
      "UZN file ./1921/1921_5/page_79.uzn loaded.\n"
     ]
    },
    {
     "name": "stdout",
     "output_type": "stream",
     "text": [
      "page_111.jpeg → page_111.uzn\n"
     ]
    },
    {
     "name": "stderr",
     "output_type": "stream",
     "text": [
      "UZN file ./1921/1921_12/page_111.uzn loaded.\n"
     ]
    },
    {
     "name": "stdout",
     "output_type": "stream",
     "text": [
      "page_112.jpeg → page_112.uzn\n"
     ]
    },
    {
     "name": "stderr",
     "output_type": "stream",
     "text": [
      "UZN file ./1921/1921_12/page_112.uzn loaded.\n"
     ]
    },
    {
     "name": "stdout",
     "output_type": "stream",
     "text": [
      "page_113.jpeg → page_113.uzn\n"
     ]
    },
    {
     "name": "stderr",
     "output_type": "stream",
     "text": [
      "UZN file ./1921/1921_12/page_113.uzn loaded.\n"
     ]
    }
   ],
   "source": [
    "tra.recognition_Tesseract(\"1921\")"
   ]
  },
  {
   "cell_type": "code",
   "execution_count": 3,
   "id": "bc38439d",
   "metadata": {},
   "outputs": [
    {
     "ename": "NameError",
     "evalue": "name 'file_name' is not defined",
     "output_type": "error",
     "traceback": [
      "\u001b[0;31m---------------------------------------------------------------------------\u001b[0m",
      "\u001b[0;31mNameError\u001b[0m                                 Traceback (most recent call last)",
      "Cell \u001b[0;32mIn[3], line 1\u001b[0m\n\u001b[0;32m----> 1\u001b[0m \u001b[43mtra\u001b[49m\u001b[38;5;241;43m.\u001b[39;49m\u001b[43mmanuscript_concatenate\u001b[49m\u001b[43m(\u001b[49m\u001b[38;5;124;43m\"\u001b[39;49m\u001b[38;5;124;43mTEST\u001b[39;49m\u001b[38;5;124;43m\"\u001b[39;49m\u001b[43m)\u001b[49m\n",
      "File \u001b[0;32m~/dev/MEMOIRE/2c_TranscriArchiDepCorse/TranscriptionModule_YALTAi.py:164\u001b[0m, in \u001b[0;36mmanuscript_concatenate\u001b[0;34m(folder_name)\u001b[0m\n\u001b[1;32m    161\u001b[0m         \u001b[38;5;28;01mwith\u001b[39;00m \u001b[38;5;28mopen\u001b[39m(txt) \u001b[38;5;28;01mas\u001b[39;00m infile:\n\u001b[1;32m    162\u001b[0m             outfile\u001b[38;5;241m.\u001b[39mwrite(infile\u001b[38;5;241m.\u001b[39mread())\n\u001b[0;32m--> 164\u001b[0m os\u001b[38;5;241m.\u001b[39mrename(\u001b[38;5;124mf\u001b[39m\u001b[38;5;124m\"\u001b[39m\u001b[38;5;124m./\u001b[39m\u001b[38;5;132;01m{\u001b[39;00mfolder_name\u001b[38;5;132;01m}\u001b[39;00m\u001b[38;5;124m/\u001b[39m\u001b[38;5;132;01m{\u001b[39;00missue\u001b[38;5;132;01m}\u001b[39;00m\u001b[38;5;124m/\u001b[39m\u001b[38;5;132;01m{\u001b[39;00missue\u001b[38;5;132;01m}\u001b[39;00m\u001b[38;5;124m.txt\u001b[39m\u001b[38;5;124m\"\u001b[39m, \u001b[38;5;124mf\u001b[39m\u001b[38;5;124m\"\u001b[39m\u001b[38;5;124m./\u001b[39m\u001b[38;5;132;01m{\u001b[39;00m\u001b[43mfile_name\u001b[49m\u001b[38;5;132;01m}\u001b[39;00m\u001b[38;5;124m/MANUSCRIPTS/\u001b[39m\u001b[38;5;132;01m{\u001b[39;00missue\u001b[38;5;132;01m}\u001b[39;00m\u001b[38;5;124m.txt\u001b[39m\u001b[38;5;124m\"\u001b[39m)\n",
      "\u001b[0;31mNameError\u001b[0m: name 'file_name' is not defined"
     ]
    }
   ],
   "source": [
    "tra.manuscript_concatenate(\"TEST\")"
   ]
  },
  {
   "cell_type": "code",
   "execution_count": null,
   "id": "3a3f2e08",
   "metadata": {},
   "outputs": [],
   "source": []
  }
 ],
 "metadata": {
  "kernelspec": {
   "display_name": "Python 3 (ipykernel)",
   "language": "python",
   "name": "python3"
  },
  "language_info": {
   "codemirror_mode": {
    "name": "ipython",
    "version": 3
   },
   "file_extension": ".py",
   "mimetype": "text/x-python",
   "name": "python",
   "nbconvert_exporter": "python",
   "pygments_lexer": "ipython3",
   "version": "3.9.13"
  }
 },
 "nbformat": 4,
 "nbformat_minor": 5
}
