{
 "cells": [
  {
   "cell_type": "code",
   "execution_count": 1,
   "id": "7107715b",
   "metadata": {},
   "outputs": [],
   "source": [
    "import os\n",
    "import glob\n",
    "import clean_text"
   ]
  },
  {
   "cell_type": "code",
   "execution_count": 2,
   "id": "4039fd23",
   "metadata": {},
   "outputs": [],
   "source": [
    "parent = '/home/vincent/dev/3_from_xml_to_tei/'\n",
    "os.chdir(parent)"
   ]
  },
  {
   "cell_type": "code",
   "execution_count": 3,
   "id": "444ff520",
   "metadata": {},
   "outputs": [],
   "source": [
    "os.chdir('./xml/')"
   ]
  },
  {
   "cell_type": "code",
   "execution_count": 4,
   "id": "f0b9cbb3",
   "metadata": {},
   "outputs": [],
   "source": [
    "files = glob.glob('*.xml')"
   ]
  },
  {
   "cell_type": "markdown",
   "id": "4782f033",
   "metadata": {},
   "source": [
    "---"
   ]
  },
  {
   "cell_type": "markdown",
   "id": "03dd8a82",
   "metadata": {},
   "source": [
    "### D'abord, il faut corriger avec des expressions régulières et normaliser le texte"
   ]
  },
  {
   "cell_type": "code",
   "execution_count": 5,
   "id": "215c4897",
   "metadata": {},
   "outputs": [],
   "source": [
    "for f in files:\n",
    "    clean_text.cleanXML(f)"
   ]
  },
  {
   "cell_type": "markdown",
   "id": "6e4ff4a1",
   "metadata": {},
   "source": [
    "### Prochaine étape, utilisons des librairies de correction de texte (spellchecker)"
   ]
  },
  {
   "cell_type": "code",
   "execution_count": null,
   "id": "cd0fcfae",
   "metadata": {},
   "outputs": [],
   "source": []
  }
 ],
 "metadata": {
  "kernelspec": {
   "display_name": "Python 3 (ipykernel)",
   "language": "python",
   "name": "python3"
  },
  "language_info": {
   "codemirror_mode": {
    "name": "ipython",
    "version": 3
   },
   "file_extension": ".py",
   "mimetype": "text/x-python",
   "name": "python",
   "nbconvert_exporter": "python",
   "pygments_lexer": "ipython3",
   "version": "3.9.13"
  }
 },
 "nbformat": 4,
 "nbformat_minor": 5
}
