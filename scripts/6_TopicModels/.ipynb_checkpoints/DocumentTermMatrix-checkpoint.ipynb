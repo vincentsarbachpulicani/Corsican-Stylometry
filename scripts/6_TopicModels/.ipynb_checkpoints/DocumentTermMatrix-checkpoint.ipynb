{
 "cells": [
  {
   "cell_type": "code",
   "execution_count": 1,
   "id": "46680c44",
   "metadata": {},
   "outputs": [],
   "source": [
    "# Création des documents\n",
    "\n",
    "doc_1 = \"a corsica sara liberata\"\n",
    "doc_2 = \"saremu a a piaggia\"\n",
    "doc_3 = \"a piaggia e in corsica\""
   ]
  },
  {
   "cell_type": "code",
   "execution_count": 2,
   "id": "0e6ebffb",
   "metadata": {},
   "outputs": [
    {
     "data": {
      "text/plain": [
       "['a corsica sara liberata', 'saremu a a piaggia', 'a piaggia e in corsica']"
      ]
     },
     "execution_count": 2,
     "metadata": {},
     "output_type": "execute_result"
    }
   ],
   "source": [
    "# On liste les documents\n",
    "\n",
    "docs = [doc_1, doc_2, doc_3]\n",
    "docs"
   ]
  },
  {
   "cell_type": "code",
   "execution_count": 3,
   "id": "a3482e36",
   "metadata": {},
   "outputs": [
    {
     "data": {
      "text/plain": [
       "{'a', 'corsica', 'e', 'in', 'liberata', 'piaggia', 'sara', 'saremu'}"
      ]
     },
     "execution_count": 3,
     "metadata": {},
     "output_type": "execute_result"
    }
   ],
   "source": [
    "# On crée un vocabulaire des mots uniques (lexique)\n",
    "\n",
    "vocabulary = {term for doc in docs for term in doc.split()}\n",
    "vocabulary"
   ]
  },
  {
   "cell_type": "code",
   "execution_count": 5,
   "id": "9b70c991",
   "metadata": {},
   "outputs": [
    {
     "data": {
      "text/plain": [
       "{'saremu': [0, 1, 0],\n",
       " 'corsica': [1, 0, 1],\n",
       " 'a': [1, 1, 1],\n",
       " 'in': [0, 0, 1],\n",
       " 'liberata': [1, 0, 0],\n",
       " 'piaggia': [0, 1, 1],\n",
       " 'e': [1, 1, 1],\n",
       " 'sara': [1, 0, 0]}"
      ]
     },
     "execution_count": 5,
     "metadata": {},
     "output_type": "execute_result"
    }
   ],
   "source": [
    "# On fabrique la Document Term Matrix\n",
    "\n",
    "term_matrix = {}\n",
    "\n",
    "for term in vocabulary:\n",
    "    term_matrix[term] = []\n",
    "    \n",
    "    for doc in docs:\n",
    "        if term in doc:\n",
    "            term_matrix[term].append(1)\n",
    "        else:\n",
    "            term_matrix[term].append(0)\n",
    "\n",
    "term_matrix"
   ]
  },
  {
   "cell_type": "code",
   "execution_count": 6,
   "id": "ce16f347",
   "metadata": {},
   "outputs": [],
   "source": [
    "import numpy as np"
   ]
  },
  {
   "cell_type": "code",
   "execution_count": 11,
   "id": "0654c0e3",
   "metadata": {},
   "outputs": [
    {
     "name": "stdout",
     "output_type": "stream",
     "text": [
      "[1 0 1]\n",
      "[1 1 1]\n",
      "-------\n",
      "[1 0 1]\n"
     ]
    }
   ],
   "source": [
    "# On effectue les boolean retrieval grâce à NUMPY\n",
    "\n",
    "docs_array = np.array(docs, dtype=\"object\")\n",
    "\n",
    "v1 = np.array(term_matrix['corsica'])\n",
    "v2 = np.array(term_matrix['a'])\n",
    "\n",
    "print(v1)\n",
    "print(v2)\n",
    "v3 = v1 & v2\n",
    "print('-------')\n",
    "print(v3)"
   ]
  },
  {
   "cell_type": "code",
   "execution_count": 13,
   "id": "d757eadb",
   "metadata": {},
   "outputs": [
    {
     "data": {
      "text/plain": [
       "['a corsica sara liberata', 'a piaggia e in corsica']"
      ]
     },
     "execution_count": 13,
     "metadata": {},
     "output_type": "execute_result"
    }
   ],
   "source": [
    "# On récupère les documents qui correpsondent au vecteur v3\n",
    "\n",
    "[doc for doc in v3 * docs_array if doc]"
   ]
  },
  {
   "cell_type": "code",
   "execution_count": null,
   "id": "b08a415c",
   "metadata": {},
   "outputs": [],
   "source": []
  }
 ],
 "metadata": {
  "kernelspec": {
   "display_name": "Python 3 (ipykernel)",
   "language": "python",
   "name": "python3"
  },
  "language_info": {
   "codemirror_mode": {
    "name": "ipython",
    "version": 3
   },
   "file_extension": ".py",
   "mimetype": "text/x-python",
   "name": "python",
   "nbconvert_exporter": "python",
   "pygments_lexer": "ipython3",
   "version": "3.9.13"
  }
 },
 "nbformat": 4,
 "nbformat_minor": 5
}
