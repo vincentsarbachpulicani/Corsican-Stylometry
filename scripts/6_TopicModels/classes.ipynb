{
 "cells": [
  {
   "cell_type": "code",
   "execution_count": 1,
   "id": "a2cf6e62",
   "metadata": {},
   "outputs": [
    {
     "name": "stderr",
     "output_type": "stream",
     "text": [
      "[nltk_data] Downloading package omw-1.4 to /home/vincent/nltk_data...\n",
      "[nltk_data]   Package omw-1.4 is already up-to-date!\n"
     ]
    }
   ],
   "source": [
    "import nltk\n",
    "nltk.download('omw-1.4')\n",
    "\n",
    "import spacy\n",
    "import numpy as np\n",
    "import pandas as pd\n",
    "import math\n",
    "import itertools\n",
    "import operator as op\n",
    "import matplotlib.pyplot as plt\n",
    "import re\n",
    "\n",
    "from nltk.tokenize import RegexpTokenizer\n",
    "\n",
    "import ssl\n",
    "ssl._create_default_https_context = ssl._create_unverified_context\n",
    "\n",
    "from statistics import mean\n",
    "from statistics import median\n",
    "from statistics import stdev"
   ]
  },
  {
   "cell_type": "code",
   "execution_count": 2,
   "id": "16c33761",
   "metadata": {},
   "outputs": [],
   "source": [
    "doc1 = \"The history of Corsica goes back to antiquity, and was known to Herodotus, who described Phoenician habitation in the 6th century BCE. Etruscans and Carthaginians expelled the Phoenicians, and remained until the Romans arrived during the Punic Wars in 237 BCE. Vandals occupied it in 430 CE, followed by the Byzantine Empire a century later.\"\n",
    "doc2 = \"Raided by various Germanic and other groups for two centuries, it was conquered in 774 by Charlemagne under the Holy Roman Empire, which fought for control against the Saracens. After a period of feudal anarchy, the island was transferred to the papacy, then to city states Pisa and Genoa, which retained control over it for five centuries, until the establishment of the Corsican Republic in 1755. The French gained control in the 1768 Treaty of Versailles. Corsica was briefly independent as a Kingdom in union with Great Britain after the French Revolution in 1789, with a viceroy and elected Parliament, but returned to French rule in 1796.\"\n",
    "doc3 = \"Corsica strongly supported the allies in World War I, caring for wounded, and housing POWs. The poilus fought loyally and suffered great casualties. A recession after the war prompted a mass exodus to southern France. Wealthy Corsicans became colonizers in Algeria and Indochina.\"\n",
    "\n",
    "corp = [doc1, doc2, doc3]"
   ]
  },
  {
   "cell_type": "raw",
   "id": "0092277e",
   "metadata": {},
   "source": [
    "class PreprocessingCorpus:\n",
    "    \"\"\"\n",
    "    Allows, if necessary, to process the corpus with some basic functions. \n",
    "        Input -> List of strings (corpus)\n",
    "        Output -> List of strings (corpus)\n",
    "    \"\"\"\n",
    "    \n",
    "    def __init__(self, corpus):\n",
    "        self.corpus = corpus\n",
    "    \n",
    "    def lower_case(self):\n",
    "        \"Lower case function. Mandatory for analysis.\"\n",
    "        self.corpus = [doc.lower() for doc in self.corpus]\n",
    "    \n",
    "    def tokenization(self):\n",
    "        \"Tokenizes each documents of the corpus.\"\n",
    "        tokenizer = RegexpTokenizer(r'\\w+')\n",
    "        self.corpus = [tokenizer.tokenize(doc) for doc in self.corpus]\n",
    "\n",
    "    "
   ]
  },
  {
   "cell_type": "code",
   "execution_count": 3,
   "id": "97f51caa",
   "metadata": {},
   "outputs": [
    {
     "name": "stderr",
     "output_type": "stream",
     "text": [
      "[nltk_data] Downloading package omw-1.4 to /home/vincent/nltk_data...\n",
      "[nltk_data]   Package omw-1.4 is already up-to-date!\n"
     ]
    }
   ],
   "source": [
    "from TopicModelingModule import PreprocessingCorpus"
   ]
  },
  {
   "cell_type": "code",
   "execution_count": 4,
   "id": "d352c700",
   "metadata": {},
   "outputs": [
    {
     "name": "stdout",
     "output_type": "stream",
     "text": [
      "Tokenization done.\n"
     ]
    }
   ],
   "source": [
    "test = PreprocessingCorpus(corp)\n",
    "test.lower_case()\n",
    "test.tokenization()\n",
    "corp = test.corpus"
   ]
  },
  {
   "cell_type": "raw",
   "id": "f4d730cc",
   "metadata": {},
   "source": [
    "class EntropyAnalysis:\n",
    "    \n",
    "    \n",
    "    def __init__(self, corpus, frequency=None, vocabulary=None, ndocs = None):\n",
    "        self.corpus = corpus\n",
    "        self.frequency = frequency\n",
    "        self.vocabulary = vocabulary\n",
    "        self.ndocs = ndocs \n",
    "        self.classification = None\n",
    "        self.expl_statistics = None\n",
    "        self.sorted_classification = None\n",
    "    \n",
    "    def frequency_calculation(self):\n",
    "        self.frequency = dict(nltk.FreqDist(list(itertools.chain.from_iterable(self.corpus))))\n",
    "        print(f\"The frequency of the unique tokens of this corpus has been done.\")\n",
    "    \n",
    "    def vocabulary_set(self):\n",
    "        self.vocabulary = list(self.frequency.keys())\n",
    "        print(f\"The vocabulary contains {len(self.vocabulary)} unique tokens.\")\n",
    "    \n",
    "    def set_ndocs(self):\n",
    "        self.ndocs = len(self.corpus)\n",
    "        print(f\"The corpus is composed of {len(self.corpus)}.\")\n",
    "    \n",
    "    def probability(self, word, document):\n",
    "        tf = op.countOf(document, word)\n",
    "        gf = self.frequency[word]\n",
    "        return tf/gf, gf\n",
    "    \n",
    "    def entropy_calculation(self, output=\"dataframe\"):\n",
    "        \n",
    "        dic_entropies = {}\n",
    "        \n",
    "        for word in self.vocabulary:\n",
    "            probs = []\n",
    "\n",
    "            for doc in self.corpus:\n",
    "                prob, freq = self.probability(word, doc)\n",
    "                probs.append(prob)\n",
    "\n",
    "            count = [probs.index(x) for x in probs if x > 0]\n",
    "\n",
    "            entropy = -sum([probs[i] * np.log2(probs[i]) for i in count])/np.log2(self.ndocs)\n",
    "\n",
    "            if entropy == -0.0:\n",
    "                entropy = 0\n",
    "\n",
    "            weight = freq * entropy\n",
    "\n",
    "            dic_entropies[word] = [entropy, weight]\n",
    "\n",
    "        dic_entropies = {key:val for key, val in dic_entropies.items() if val != [0, 0]}\n",
    "\n",
    "        classification = pd.DataFrame(data=dic_entropies, index=[\"Entropy\", \"Weight score\"]).T\n",
    "        self.classification = classification\n",
    "        \n",
    "        if output == \"dataframe\":\n",
    "            return classification\n",
    "        \n",
    "        elif output == \"tsv\":\n",
    "            classification.to_csv(\"entropy.tsv\", \"\\t\")\n",
    "        \n",
    "        elif output == \"both\":\n",
    "            classification.to_csv(\"entropy.tsv\", \"\\t\")\n",
    "            return classification\n",
    "        \n",
    "        else:\n",
    "            raise ValueError('The \"output\" parameter is false. Must be \"tsv\", \"dataframe\" or \"both\".')\n",
    "    \n",
    "    def exploratory_statistics(self):\n",
    "        \n",
    "        dic_stats = {}\n",
    "        \n",
    "        for col in ['Entropy', 'Weight score']:\n",
    "            mean_ = mean(self.classification[col].tolist())\n",
    "            median_ = median(self.classification[col].tolist())\n",
    "            stdev_ = stdev(self.classification[col].tolist())\n",
    "            max_ = max(self.classification[col].tolist())\n",
    "            min_ = min(self.classification[col].tolist())\n",
    "\n",
    "            dic_stats[col] = [max_, min_, mean_, median_, stdev_]\n",
    "            \n",
    "        expl_statistics = pd.DataFrame(data=dic_stats, index=[\"Max value\", \"Min value\", \"Mean\", \"Median\", \"Standard deviation\"])\n",
    "        self.expl_statistics = expl_statistics\n",
    "        \n",
    "        return expl_statistics\n",
    "    \n",
    "    def plot_scores(self, data):\n",
    "        \n",
    "        fig, ax1 = plt.subplots()\n",
    "        color = 'red'\n",
    "\n",
    "        ax1.set_xlabel('Words rank')\n",
    "        ax1.set_ylabel('Entropy', color=color)\n",
    "        ax1.plot(sorted(data['Entropy'].tolist()), color=color)\n",
    "        ax1.tick_params(axis='y', labelcolor=color)\n",
    "        ax2 = ax1.twinx()\n",
    "\n",
    "        color = 'blue'\n",
    "        ax2.set_ylabel('Weight score', color=color)\n",
    "        ax2.plot(sorted(data['Weight score'].tolist()), color=color)\n",
    "        ax2.tick_params(axis='y', labelcolor=color)\n",
    "\n",
    "        plt.title(\"Evolution of the entropy and the weight score in the vocabulary\")\n",
    "        plt.show()\n",
    "        \n",
    "    def classification_sort(self, data, min_range, max_range, col_name=\"Entropy\", between_values=True, inclusive=False, output=\"dataframe\"):\n",
    "        \n",
    "        if between_values is True:\n",
    "            sorted_classification = data.loc[data[col_name].between(min_range, max_range, inclusive=inclusive)]\n",
    "        else:\n",
    "            sorted_classification = data.loc[~data[col_name].between(min_range, max_range, inclusive=inclusive)]\n",
    "        \n",
    "        if output == \"dataframe\":\n",
    "            return sorted_classification\n",
    "        \n",
    "        elif output == \"tsv\":\n",
    "            sorted_classification.to_csv(\"entropy_sorted.tsv\", \"\\t\")\n",
    "        \n",
    "        elif output == \"both\":\n",
    "            sorted_classification.to_csv(\"entropy_sorted.tsv\", \"\\t\")\n",
    "            return sorted_classification\n",
    "        \n",
    "        else:\n",
    "            raise ValueError('The \"output\" parameter is false. Must be \"tsv\", \"dataframe\" or \"both\".')\n",
    "    \n",
    "    \n",
    "    def return_vocabulary(self, data):\n",
    "        \n",
    "        return list(data.index.values)"
   ]
  },
  {
   "cell_type": "code",
   "execution_count": 5,
   "id": "2f95f9d8",
   "metadata": {},
   "outputs": [],
   "source": [
    "from TopicModelingModule import EntropyAnalysis"
   ]
  },
  {
   "cell_type": "code",
   "execution_count": 6,
   "id": "cbc71d13",
   "metadata": {},
   "outputs": [],
   "source": [
    "entest = EntropyAnalysis(corp)"
   ]
  },
  {
   "cell_type": "code",
   "execution_count": 7,
   "id": "966a4a8e",
   "metadata": {},
   "outputs": [
    {
     "name": "stdout",
     "output_type": "stream",
     "text": [
      "The frequency of the unique tokens of this corpus has been done.\n"
     ]
    }
   ],
   "source": [
    "entest.frequency_calculation()"
   ]
  },
  {
   "cell_type": "code",
   "execution_count": 8,
   "id": "477969d2",
   "metadata": {},
   "outputs": [
    {
     "name": "stdout",
     "output_type": "stream",
     "text": [
      "The vocabulary contains 129 unique tokens.\n"
     ]
    }
   ],
   "source": [
    "entest.vocabulary_set()"
   ]
  },
  {
   "cell_type": "code",
   "execution_count": 9,
   "id": "c7e9a123",
   "metadata": {},
   "outputs": [
    {
     "name": "stdout",
     "output_type": "stream",
     "text": [
      "The corpus is composed of 3.\n"
     ]
    }
   ],
   "source": [
    "entest.set_ndocs()"
   ]
  },
  {
   "cell_type": "code",
   "execution_count": 10,
   "id": "2b7eec41",
   "metadata": {},
   "outputs": [
    {
     "data": {
      "text/html": [
       "<div>\n",
       "<style scoped>\n",
       "    .dataframe tbody tr th:only-of-type {\n",
       "        vertical-align: middle;\n",
       "    }\n",
       "\n",
       "    .dataframe tbody tr th {\n",
       "        vertical-align: top;\n",
       "    }\n",
       "\n",
       "    .dataframe thead th {\n",
       "        text-align: right;\n",
       "    }\n",
       "</style>\n",
       "<table border=\"1\" class=\"dataframe\">\n",
       "  <thead>\n",
       "    <tr style=\"text-align: right;\">\n",
       "      <th></th>\n",
       "      <th>Entropy</th>\n",
       "      <th>Weight score</th>\n",
       "    </tr>\n",
       "  </thead>\n",
       "  <tbody>\n",
       "    <tr>\n",
       "      <th>the</th>\n",
       "      <td>0.920620</td>\n",
       "      <td>16.571157</td>\n",
       "    </tr>\n",
       "    <tr>\n",
       "      <th>of</th>\n",
       "      <td>0.511860</td>\n",
       "      <td>2.047438</td>\n",
       "    </tr>\n",
       "    <tr>\n",
       "      <th>corsica</th>\n",
       "      <td>1.000000</td>\n",
       "      <td>3.000000</td>\n",
       "    </tr>\n",
       "    <tr>\n",
       "      <th>to</th>\n",
       "      <td>0.920620</td>\n",
       "      <td>5.523719</td>\n",
       "    </tr>\n",
       "    <tr>\n",
       "      <th>and</th>\n",
       "      <td>1.000000</td>\n",
       "      <td>9.000000</td>\n",
       "    </tr>\n",
       "    <tr>\n",
       "      <th>was</th>\n",
       "      <td>0.511860</td>\n",
       "      <td>2.047438</td>\n",
       "    </tr>\n",
       "    <tr>\n",
       "      <th>in</th>\n",
       "      <td>0.905619</td>\n",
       "      <td>9.961804</td>\n",
       "    </tr>\n",
       "    <tr>\n",
       "      <th>until</th>\n",
       "      <td>0.630930</td>\n",
       "      <td>1.261860</td>\n",
       "    </tr>\n",
       "    <tr>\n",
       "      <th>it</th>\n",
       "      <td>0.579380</td>\n",
       "      <td>1.738140</td>\n",
       "    </tr>\n",
       "    <tr>\n",
       "      <th>by</th>\n",
       "      <td>0.579380</td>\n",
       "      <td>1.738140</td>\n",
       "    </tr>\n",
       "    <tr>\n",
       "      <th>empire</th>\n",
       "      <td>0.630930</td>\n",
       "      <td>1.261860</td>\n",
       "    </tr>\n",
       "    <tr>\n",
       "      <th>a</th>\n",
       "      <td>0.920620</td>\n",
       "      <td>5.523719</td>\n",
       "    </tr>\n",
       "    <tr>\n",
       "      <th>for</th>\n",
       "      <td>0.511860</td>\n",
       "      <td>2.047438</td>\n",
       "    </tr>\n",
       "    <tr>\n",
       "      <th>fought</th>\n",
       "      <td>0.630930</td>\n",
       "      <td>1.261860</td>\n",
       "    </tr>\n",
       "    <tr>\n",
       "      <th>after</th>\n",
       "      <td>0.579380</td>\n",
       "      <td>1.738140</td>\n",
       "    </tr>\n",
       "    <tr>\n",
       "      <th>great</th>\n",
       "      <td>0.630930</td>\n",
       "      <td>1.261860</td>\n",
       "    </tr>\n",
       "  </tbody>\n",
       "</table>\n",
       "</div>"
      ],
      "text/plain": [
       "          Entropy  Weight score\n",
       "the      0.920620     16.571157\n",
       "of       0.511860      2.047438\n",
       "corsica  1.000000      3.000000\n",
       "to       0.920620      5.523719\n",
       "and      1.000000      9.000000\n",
       "was      0.511860      2.047438\n",
       "in       0.905619      9.961804\n",
       "until    0.630930      1.261860\n",
       "it       0.579380      1.738140\n",
       "by       0.579380      1.738140\n",
       "empire   0.630930      1.261860\n",
       "a        0.920620      5.523719\n",
       "for      0.511860      2.047438\n",
       "fought   0.630930      1.261860\n",
       "after    0.579380      1.738140\n",
       "great    0.630930      1.261860"
      ]
     },
     "execution_count": 10,
     "metadata": {},
     "output_type": "execute_result"
    }
   ],
   "source": [
    "entest.entropy_calculation(output=\"both\")"
   ]
  },
  {
   "cell_type": "code",
   "execution_count": 11,
   "id": "0ae14423",
   "metadata": {},
   "outputs": [
    {
     "data": {
      "text/html": [
       "<div>\n",
       "<style scoped>\n",
       "    .dataframe tbody tr th:only-of-type {\n",
       "        vertical-align: middle;\n",
       "    }\n",
       "\n",
       "    .dataframe tbody tr th {\n",
       "        vertical-align: top;\n",
       "    }\n",
       "\n",
       "    .dataframe thead th {\n",
       "        text-align: right;\n",
       "    }\n",
       "</style>\n",
       "<table border=\"1\" class=\"dataframe\">\n",
       "  <thead>\n",
       "    <tr style=\"text-align: right;\">\n",
       "      <th></th>\n",
       "      <th>Entropy</th>\n",
       "      <th>Weight score</th>\n",
       "    </tr>\n",
       "  </thead>\n",
       "  <tbody>\n",
       "    <tr>\n",
       "      <th>Max value</th>\n",
       "      <td>1.000000</td>\n",
       "      <td>16.571157</td>\n",
       "    </tr>\n",
       "    <tr>\n",
       "      <th>Min value</th>\n",
       "      <td>0.511860</td>\n",
       "      <td>1.261860</td>\n",
       "    </tr>\n",
       "    <tr>\n",
       "      <th>Mean</th>\n",
       "      <td>0.716557</td>\n",
       "      <td>4.124036</td>\n",
       "    </tr>\n",
       "    <tr>\n",
       "      <th>Median</th>\n",
       "      <td>0.630930</td>\n",
       "      <td>2.047438</td>\n",
       "    </tr>\n",
       "    <tr>\n",
       "      <th>Standard deviation</th>\n",
       "      <td>0.188473</td>\n",
       "      <td>4.326273</td>\n",
       "    </tr>\n",
       "  </tbody>\n",
       "</table>\n",
       "</div>"
      ],
      "text/plain": [
       "                     Entropy  Weight score\n",
       "Max value           1.000000     16.571157\n",
       "Min value           0.511860      1.261860\n",
       "Mean                0.716557      4.124036\n",
       "Median              0.630930      2.047438\n",
       "Standard deviation  0.188473      4.326273"
      ]
     },
     "execution_count": 11,
     "metadata": {},
     "output_type": "execute_result"
    }
   ],
   "source": [
    "entest.exploratory_statistics()"
   ]
  },
  {
   "cell_type": "code",
   "execution_count": 12,
   "id": "c1208fa6",
   "metadata": {},
   "outputs": [
    {
     "data": {
      "image/png": "[encoded data removed]",
      "text/plain": [
       "<Figure size 432x288 with 2 Axes>"
      ]
     },
     "metadata": {
      "needs_background": "light"
     },
     "output_type": "display_data"
    }
   ],
   "source": [
    "entest.plot_scores(entest.classification)"
   ]
  },
  {
   "cell_type": "code",
   "execution_count": 13,
   "id": "33ffa8e7",
   "metadata": {},
   "outputs": [
    {
     "name": "stderr",
     "output_type": "stream",
     "text": [
      "/home/vincent/dev/MEMOIRE/6_TopicModels/TopicModelingModule.py:200: FutureWarning: Boolean inputs to the `inclusive` argument are deprecated in favour of `both` or `neither`.\n",
      "  sorted_classification = data.loc[data[col_name].between(min_range, max_range, inclusive=inclusive)]\n"
     ]
    },
    {
     "data": {
      "text/html": [
       "<div>\n",
       "<style scoped>\n",
       "    .dataframe tbody tr th:only-of-type {\n",
       "        vertical-align: middle;\n",
       "    }\n",
       "\n",
       "    .dataframe tbody tr th {\n",
       "        vertical-align: top;\n",
       "    }\n",
       "\n",
       "    .dataframe thead th {\n",
       "        text-align: right;\n",
       "    }\n",
       "</style>\n",
       "<table border=\"1\" class=\"dataframe\">\n",
       "  <thead>\n",
       "    <tr style=\"text-align: right;\">\n",
       "      <th></th>\n",
       "      <th>Entropy</th>\n",
       "      <th>Weight score</th>\n",
       "    </tr>\n",
       "  </thead>\n",
       "  <tbody>\n",
       "    <tr>\n",
       "      <th>the</th>\n",
       "      <td>0.920620</td>\n",
       "      <td>16.571157</td>\n",
       "    </tr>\n",
       "    <tr>\n",
       "      <th>to</th>\n",
       "      <td>0.920620</td>\n",
       "      <td>5.523719</td>\n",
       "    </tr>\n",
       "    <tr>\n",
       "      <th>in</th>\n",
       "      <td>0.905619</td>\n",
       "      <td>9.961804</td>\n",
       "    </tr>\n",
       "    <tr>\n",
       "      <th>until</th>\n",
       "      <td>0.630930</td>\n",
       "      <td>1.261860</td>\n",
       "    </tr>\n",
       "    <tr>\n",
       "      <th>empire</th>\n",
       "      <td>0.630930</td>\n",
       "      <td>1.261860</td>\n",
       "    </tr>\n",
       "    <tr>\n",
       "      <th>a</th>\n",
       "      <td>0.920620</td>\n",
       "      <td>5.523719</td>\n",
       "    </tr>\n",
       "    <tr>\n",
       "      <th>fought</th>\n",
       "      <td>0.630930</td>\n",
       "      <td>1.261860</td>\n",
       "    </tr>\n",
       "    <tr>\n",
       "      <th>great</th>\n",
       "      <td>0.630930</td>\n",
       "      <td>1.261860</td>\n",
       "    </tr>\n",
       "  </tbody>\n",
       "</table>\n",
       "</div>"
      ],
      "text/plain": [
       "         Entropy  Weight score\n",
       "the     0.920620     16.571157\n",
       "to      0.920620      5.523719\n",
       "in      0.905619      9.961804\n",
       "until   0.630930      1.261860\n",
       "empire  0.630930      1.261860\n",
       "a       0.920620      5.523719\n",
       "fought  0.630930      1.261860\n",
       "great   0.630930      1.261860"
      ]
     },
     "execution_count": 13,
     "metadata": {},
     "output_type": "execute_result"
    }
   ],
   "source": [
    "entest.classification_sort(data=entest.classification, min_range=0.6, max_range=0.95, inclusive=True)"
   ]
  },
  {
   "cell_type": "code",
   "execution_count": 15,
   "id": "82ce26a8",
   "metadata": {},
   "outputs": [
    {
     "data": {
      "image/png": "[encoded data removed]",
      "text/plain": [
       "<Figure size 432x288 with 2 Axes>"
      ]
     },
     "metadata": {
      "needs_background": "light"
     },
     "output_type": "display_data"
    }
   ],
   "source": [
    "entest.plot_scores(entest.sorted_classification)"
   ]
  },
  {
   "cell_type": "code",
   "execution_count": 16,
   "id": "2410bf94",
   "metadata": {},
   "outputs": [],
   "source": [
    "new_voc = entest.return_vocabulary(entest.sorted_classification)"
   ]
  },
  {
   "cell_type": "code",
   "execution_count": 17,
   "id": "baff1635",
   "metadata": {},
   "outputs": [
    {
     "data": {
      "text/plain": [
       "['the', 'to', 'in', 'until', 'empire', 'a', 'fought', 'great']"
      ]
     },
     "execution_count": 17,
     "metadata": {},
     "output_type": "execute_result"
    }
   ],
   "source": [
    "new_voc"
   ]
  },
  {
   "cell_type": "code",
   "execution_count": 20,
   "id": "e6e773bc",
   "metadata": {},
   "outputs": [
    {
     "name": "stdout",
     "output_type": "stream",
     "text": [
      "Help on class EntropyAnalysis in module TopicModelingModule:\n",
      "\n",
      "class EntropyAnalysis(builtins.object)\n",
      " |  EntropyAnalysis(corpus, frequency=None, vocabulary=None, ndocs=None)\n",
      " |  \n",
      " |  Class allowing to calculate the entropy (Susan T. Dumais, 1992) and the weight of words in a corpus of documents. Also allows to manipulate the data to have different results and to have as output a vocabulary of words sorted according to their entropy or weight.\n",
      " |  \n",
      " |  Input -> Tokenized corpus of documents (List of documents tokenized)\n",
      " |  Output -> Graphs, DataFrame, TSV files or vocabulary\n",
      " |  \n",
      " |  Methods defined here:\n",
      " |  \n",
      " |  __init__(self, corpus, frequency=None, vocabulary=None, ndocs=None)\n",
      " |      Initialize self.  See help(type(self)) for accurate signature.\n",
      " |  \n",
      " |  classification_sort(self, data, min_range, max_range, col_name='Entropy', between_values=True, inclusive=False, output='dataframe')\n",
      " |      Allows to choose a subset of the original classification of entropies ans weights.\n",
      " |      \n",
      " |      Parameters :\n",
      " |      \n",
      " |      data -> dataframe: with \"Entropy\" and \"Weight score\" columns and the tokens in index.\n",
      " |      min_range -> int: minimum value of the interval.\n",
      " |      max_range -> int: maximum value of the interval.\n",
      " |      col_name -> str: \"Entropy\" (default) or \"Weight score\", choose the values to base the sort.\n",
      " |      between_values -> bool: True (default), keep the values inside (default) or outside the interval.\n",
      " |      inclusive -> bool: False (default), include or exclude (default) the minimum and maximum values chosen.\n",
      " |  \n",
      " |  entropy_calculation(self, output='dataframe')\n",
      " |      Calculation of the entropy of each term in the corpus. Deletion of words whose entropy is equal to 0.  The output is an array which is materialized as a dataframe object or a TSV file.\n",
      " |      \n",
      " |      Parameter :\n",
      " |      \n",
      " |      output -> str : \"dataframe\" (default), \"tsv\" or \"both\".\n",
      " |  \n",
      " |  exploratory_statistics(self)\n",
      " |      Basic statistics of the corpus : mean, max value, min value, median and standard deviation. Return a dataframe.\n",
      " |  \n",
      " |  frequency_calculation(self)\n",
      " |      Calculation of the global frequency of terms within the corpus.\n",
      " |  \n",
      " |  plot_scores(self, data)\n",
      " |      Plot the evolution of the entropies and the weight scores of the tokens.\n",
      " |      \n",
      " |      Parameter :\n",
      " |      \n",
      " |      data -> dataframe: with \"Entropy\" and \"Weight score\" columns and the tokens in index.\n",
      " |  \n",
      " |  probability(self, word, document)\n",
      " |      Probability calculation of the global frequency (gf_i) and the term frequency (tf_ij). Function used directly in the entropy calculation.\n",
      " |  \n",
      " |  return_vocabulary(self, data)\n",
      " |      Return a vocabulaire in the form of a list, from a classification dataframe.\n",
      " |      \n",
      " |      Parameter :\n",
      " |      \n",
      " |      data -> dataframe: with \"Entropy\" and \"Weight score\" columns and the tokens in index.\n",
      " |  \n",
      " |  set_ndocs(self)\n",
      " |      Number of documents present in the corpus.\n",
      " |  \n",
      " |  vocabulary_set(self)\n",
      " |      List of unique tokens in the corpus.\n",
      " |  \n",
      " |  ----------------------------------------------------------------------\n",
      " |  Data descriptors defined here:\n",
      " |  \n",
      " |  __dict__\n",
      " |      dictionary for instance variables (if defined)\n",
      " |  \n",
      " |  __weakref__\n",
      " |      list of weak references to the object (if defined)\n",
      "\n"
     ]
    }
   ],
   "source": [
    "help(EntropyAnalysis)"
   ]
  },
  {
   "cell_type": "code",
   "execution_count": null,
   "id": "1e17e939",
   "metadata": {},
   "outputs": [],
   "source": []
  }
 ],
 "metadata": {
  "kernelspec": {
   "display_name": "Python 3",
   "language": "python",
   "name": "python3"
  },
  "language_info": {
   "codemirror_mode": {
    "name": "ipython",
    "version": 3
   },
   "file_extension": ".py",
   "mimetype": "text/x-python",
   "name": "python",
   "nbconvert_exporter": "python",
   "pygments_lexer": "ipython3",
   "version": "3.9.13"
  }
 },
 "nbformat": 4,
 "nbformat_minor": 5
}
